{
 "cells": [
  {
   "cell_type": "markdown",
   "metadata": {},
   "source": [
    "# Numpy\n",
    "- create array\n",
    "- maths\n",
    "- operations"
   ]
  },
  {
   "cell_type": "code",
   "execution_count": 1,
   "metadata": {},
   "outputs": [
    {
     "name": "stdout",
     "output_type": "stream",
     "text": [
      "[[1, 2, 3], [3, 2, 1]]\n"
     ]
    }
   ],
   "source": [
    "x=[[1,2,3],\n",
    "   [3,2,1]]\n",
    "print(x)"
   ]
  },
  {
   "cell_type": "markdown",
   "metadata": {},
   "source": [
    "without numpy doing maths(matrix maths) is vey complex in any language"
   ]
  },
  {
   "cell_type": "code",
   "execution_count": 2,
   "metadata": {},
   "outputs": [],
   "source": [
    "import numpy as np\n"
   ]
  },
  {
   "cell_type": "code",
   "execution_count": 3,
   "metadata": {},
   "outputs": [
    {
     "name": "stdout",
     "output_type": "stream",
     "text": [
      "[[1 2 3]\n",
      " [3 4 5]]\n",
      "<class 'numpy.ndarray'>\n",
      "(2, 3)\n"
     ]
    }
   ],
   "source": [
    "x = np.array([\n",
    "    [1,2,3],\n",
    "    [3,4,5]])\n",
    "print(x)\n",
    "print(type(x))\n",
    "print(x.shape)"
   ]
  },
  {
   "cell_type": "code",
   "execution_count": 4,
   "metadata": {},
   "outputs": [
    {
     "name": "stdout",
     "output_type": "stream",
     "text": [
      "18\n",
      "[4 6 8]\n",
      "[ 6 12]\n"
     ]
    }
   ],
   "source": [
    "print(x.sum())\n",
    "print(x.sum(axis=0)) # sum of each coloumn\n",
    "print(x.sum(axis=1)) # sum of each row"
   ]
  },
  {
   "cell_type": "code",
   "execution_count": 5,
   "metadata": {},
   "outputs": [
    {
     "name": "stdout",
     "output_type": "stream",
     "text": [
      "(3,) 1\n",
      "(3, 2) 2\n",
      "(1, 3, 2) 3\n"
     ]
    }
   ],
   "source": [
    "a = np.array([1, 2, 3]) #Simple matrix\n",
    "b = np.array([[1,1],[2,2],[3,3]]) # 2d matrixs\n",
    "c = np.array([[[1,1],[2,2],[3,3]]]) # 3d matrix\n",
    "print(a.shape, a.ndim)\n",
    "print(b.shape, b.ndim)\n",
    "print(c.shape, c.ndim)"
   ]
  },
  {
   "cell_type": "markdown",
   "metadata": {},
   "source": [
    "# matrix creation\n",
    "- sequential\n",
    "    - arange\n",
    "    - linspace\n",
    "- random\n",
    "    - rand\n",
    "    - randint\n",
    "    - uniform\n"
   ]
  },
  {
   "cell_type": "code",
   "execution_count": 6,
   "metadata": {},
   "outputs": [
    {
     "name": "stdout",
     "output_type": "stream",
     "text": [
      "[ 1.   1.5  2.   2.5  3.   3.5  4.   4.5  5.   5.5  6.   6.5  7.   7.5\n",
      "  8.   8.5  9.   9.5 10.  10.5]\n",
      "[ 0.  2.  4.  6.  8. 10.]\n"
     ]
    }
   ],
   "source": [
    "#Exclusive function\n",
    "x = np.arange(1,11,0.5) # start, end, step\n",
    "print(x)\n",
    "# Inclusive function\n",
    "y = np.linspace(0,10,6) # start, end, number of points\n",
    "print(y)"
   ]
  },
  {
   "cell_type": "code",
   "execution_count": 7,
   "metadata": {},
   "outputs": [
    {
     "data": {
      "text/plain": [
       "array([[ 1. ,  1.5,  2. ,  2.5,  3. ],\n",
       "       [ 3.5,  4. ,  4.5,  5. ,  5.5],\n",
       "       [ 6. ,  6.5,  7. ,  7.5,  8. ],\n",
       "       [ 8.5,  9. ,  9.5, 10. , 10.5]])"
      ]
     },
     "execution_count": 7,
     "metadata": {},
     "output_type": "execute_result"
    }
   ],
   "source": [
    "np.arange(1,11,0.5).reshape(4,5) # reshape to 4 X 5 matrix"
   ]
  },
  {
   "cell_type": "code",
   "execution_count": 8,
   "metadata": {},
   "outputs": [],
   "source": [
    "x1 = np.array([[1,2,3], [3,4,5]])\n",
    "x2= np.array([[4,2,6], [3,8,6]])"
   ]
  },
  {
   "cell_type": "code",
   "execution_count": 9,
   "metadata": {},
   "outputs": [
    {
     "name": "stdout",
     "output_type": "stream",
     "text": [
      "[[1 2 3]\n",
      " [3 4 5]]\n",
      "[[4 2 6]\n",
      " [3 8 6]]\n",
      "[[ 5  4  9]\n",
      " [ 6 12 11]]\n",
      "[[-3  0 -3]\n",
      " [ 0 -4 -1]]\n",
      "[[ 4  4 18]\n",
      " [ 9 32 30]]\n",
      "[[0.25       1.         0.5       ]\n",
      " [1.         0.5        0.83333333]]\n",
      "[[0 1 0]\n",
      " [1 0 0]]\n",
      "[[    1     4   729]\n",
      " [   27 65536 15625]]\n",
      "[[False False False]\n",
      " [False False False]]\n",
      "[[ True False  True]\n",
      " [False  True  True]]\n",
      "[[False  True False]\n",
      " [ True False False]]\n",
      "[[ True  True  True]\n",
      " [ True  True  True]]\n"
     ]
    }
   ],
   "source": [
    "print(x1)\n",
    "print(x2)\n",
    "print(x1+x2)\n",
    "print(x1-x2)\n",
    "print(x1*x2)\n",
    "print(x1/x2)\n",
    "print(x1//x2)\n",
    "print(x1**x2)\n",
    "print(x1>x2)\n",
    "print(x1<x2)\n",
    "print(x1>=x2)\n",
    "print(x1<=x2)"
   ]
  },
  {
   "cell_type": "code",
   "execution_count": 10,
   "metadata": {},
   "outputs": [
    {
     "data": {
      "text/plain": [
       "array([[0.76264802, 0.35183011, 0.33898765],\n",
       "       [0.9025249 , 0.43196006, 0.5282369 ],\n",
       "       [0.97722704, 0.58024209, 0.48894571]])"
      ]
     },
     "execution_count": 10,
     "metadata": {},
     "output_type": "execute_result"
    }
   ],
   "source": [
    "a = np.random.rand(3,3)\n",
    "a"
   ]
  },
  {
   "cell_type": "code",
   "execution_count": 11,
   "metadata": {},
   "outputs": [],
   "source": [
    "s = np.set_printoptions(precision=2)"
   ]
  },
  {
   "cell_type": "code",
   "execution_count": 12,
   "metadata": {},
   "outputs": [
    {
     "data": {
      "text/plain": [
       "array([[5, 6, 5],\n",
       "       [5, 8, 7],\n",
       "       [8, 9, 3]])"
      ]
     },
     "execution_count": 12,
     "metadata": {},
     "output_type": "execute_result"
    }
   ],
   "source": [
    "b = np.random.randint(0,10,(3,3))\n",
    "b"
   ]
  },
  {
   "cell_type": "code",
   "execution_count": 13,
   "metadata": {},
   "outputs": [
    {
     "data": {
      "text/plain": [
       "array([[0.49, 9.67, 2.46, 0.35, 5.4 ],\n",
       "       [8.05, 5.27, 2.34, 5.34, 4.15],\n",
       "       [4.84, 5.83, 4.51, 0.15, 7.73],\n",
       "       [1.59, 7.2 , 7.26, 1.26, 5.97],\n",
       "       [4.96, 3.62, 8.07, 7.56, 1.35]])"
      ]
     },
     "execution_count": 13,
     "metadata": {},
     "output_type": "execute_result"
    }
   ],
   "source": [
    "c = np.random.uniform(0,10,(5,5))\n",
    "c"
   ]
  },
  {
   "cell_type": "markdown",
   "metadata": {},
   "source": [
    "- Slicing\n"
   ]
  },
  {
   "cell_type": "code",
   "execution_count": 16,
   "metadata": {},
   "outputs": [
    {
     "name": "stdout",
     "output_type": "stream",
     "text": [
      "[ 8 15 14 18 18 11 14  6  3  1 19 18 14 10 15]\n"
     ]
    }
   ],
   "source": [
    "x=np.random.randint(0,20,15)\n",
    "print(x)"
   ]
  },
  {
   "cell_type": "code",
   "execution_count": 17,
   "metadata": {},
   "outputs": [
    {
     "name": "stdout",
     "output_type": "stream",
     "text": [
      "[ 8 15 14 18 18]\n",
      "[11 14  6  3  1 19 18 14 10 15]\n",
      "[19 18 14 10 15]\n"
     ]
    }
   ],
   "source": [
    "print(x[:5])\n",
    "print(x[5:])\n",
    "print(x[-5:])"
   ]
  },
  {
   "cell_type": "code",
   "execution_count": 19,
   "metadata": {},
   "outputs": [
    {
     "name": "stdout",
     "output_type": "stream",
     "text": [
      "[[14 10 11  2  5  6]\n",
      " [10  7 14  8 14 18]\n",
      " [16  9  0 19 18 16]\n",
      " [ 2 15  3  0  6 17]\n",
      " [ 1 12 16  8 12 15]\n",
      " [ 6  2 19 13  8 13]]\n"
     ]
    }
   ],
   "source": [
    "z=np.random.randint(0,20,(6,6))\n",
    "print(z)"
   ]
  },
  {
   "cell_type": "code",
   "execution_count": 20,
   "metadata": {},
   "outputs": [
    {
     "data": {
      "text/plain": [
       "array([14, 10, 11,  2,  5,  6])"
      ]
     },
     "execution_count": 20,
     "metadata": {},
     "output_type": "execute_result"
    }
   ],
   "source": [
    "z[0]"
   ]
  },
  {
   "cell_type": "code",
   "execution_count": 22,
   "metadata": {},
   "outputs": [
    {
     "data": {
      "text/plain": [
       "array([[16,  9,  0, 19, 18, 16],\n",
       "       [ 2, 15,  3,  0,  6, 17],\n",
       "       [ 1, 12, 16,  8, 12, 15]])"
      ]
     },
     "execution_count": 22,
     "metadata": {},
     "output_type": "execute_result"
    }
   ],
   "source": [
    "z[2:5]"
   ]
  },
  {
   "cell_type": "code",
   "execution_count": 23,
   "metadata": {},
   "outputs": [
    {
     "data": {
      "text/plain": [
       "14"
      ]
     },
     "execution_count": 23,
     "metadata": {},
     "output_type": "execute_result"
    }
   ],
   "source": [
    "z[0,0]"
   ]
  },
  {
   "cell_type": "code",
   "execution_count": 24,
   "metadata": {},
   "outputs": [
    {
     "data": {
      "text/plain": [
       "13"
      ]
     },
     "execution_count": 24,
     "metadata": {},
     "output_type": "execute_result"
    }
   ],
   "source": [
    "z[-1,-1]"
   ]
  },
  {
   "cell_type": "code",
   "execution_count": 25,
   "metadata": {},
   "outputs": [
    {
     "data": {
      "text/plain": [
       "6"
      ]
     },
     "execution_count": 25,
     "metadata": {},
     "output_type": "execute_result"
    }
   ],
   "source": [
    "z[0,-1]"
   ]
  },
  {
   "cell_type": "code",
   "execution_count": 26,
   "metadata": {},
   "outputs": [
    {
     "data": {
      "text/plain": [
       "6"
      ]
     },
     "execution_count": 26,
     "metadata": {},
     "output_type": "execute_result"
    }
   ],
   "source": [
    "z[0,5]"
   ]
  },
  {
   "cell_type": "code",
   "execution_count": 27,
   "metadata": {},
   "outputs": [
    {
     "data": {
      "text/plain": [
       "array([[14, 10, 11,  2,  5,  6],\n",
       "       [10,  7, 14,  8, 14, 18],\n",
       "       [16,  9,  0, 19, 18, 16],\n",
       "       [ 2, 15,  3,  0,  6, 17],\n",
       "       [ 1, 12, 16,  8, 12, 15],\n",
       "       [ 6,  2, 19, 13,  8, 13]])"
      ]
     },
     "execution_count": 27,
     "metadata": {},
     "output_type": "execute_result"
    }
   ],
   "source": [
    "z"
   ]
  },
  {
   "cell_type": "code",
   "execution_count": 32,
   "metadata": {},
   "outputs": [
    {
     "name": "stdout",
     "output_type": "stream",
     "text": [
      "[14 10 16  2  1  6]\n",
      "[ 6 18 16 17 15 13]\n",
      "[[14 10 11  2]\n",
      " [10  7 14  8]\n",
      " [16  9  0 19]\n",
      " [ 2 15  3  0]\n",
      " [ 1 12 16  8]\n",
      " [ 6  2 19 13]]\n",
      "[[14 10]\n",
      " [10  7]]\n"
     ]
    }
   ],
   "source": [
    "print(z[:,0])\n",
    "print(z[:,-1])\n",
    "print(z[:,:4])\n",
    "print(z[:2,:2])"
   ]
  },
  {
   "cell_type": "markdown",
   "metadata": {},
   "source": [
    "# maths - algebra, statistics, trigonometry"
   ]
  },
  {
   "cell_type": "code",
   "execution_count": 33,
   "metadata": {},
   "outputs": [
    {
     "name": "stdout",
     "output_type": "stream",
     "text": [
      "[[13  6 15 13  1 18]\n",
      " [ 7 14 14 14 16 11]]\n"
     ]
    }
   ],
   "source": [
    "x = np.random.randint(0,20,(2,6))\n",
    "print(x)"
   ]
  },
  {
   "cell_type": "code",
   "execution_count": 37,
   "metadata": {},
   "outputs": [
    {
     "name": "stdout",
     "output_type": "stream",
     "text": [
      "11.833333333333334\n",
      "[11.   12.67]\n",
      "[10.  10.  14.5 13.5  8.5 14.5]\n",
      "4.633812924819281\n",
      "[5.74 2.92]\n",
      "[3.  4.  0.5 0.5 7.5 3.5]\n",
      "142\n",
      "1\n",
      "18\n",
      "21.472222222222225\n",
      "13.5\n"
     ]
    }
   ],
   "source": [
    "print(x.mean())\n",
    "print(x.mean(axis=1))#Row wise\n",
    "print(x.mean(axis=0))#coloumn wise\n",
    "print(x.std())\n",
    "print(x.std(axis=1))#Row wise\n",
    "print(x.std(axis=0))#coloumn wise\n",
    "print(x.sum())\n",
    "print(x.min())\n",
    "print(x.max())\n",
    "print(x.var())\n",
    "print(np.median(x))"
   ]
  },
  {
   "cell_type": "code",
   "execution_count": 39,
   "metadata": {},
   "outputs": [
    {
     "name": "stdout",
     "output_type": "stream",
     "text": [
      "[[ 0.42 -0.28  0.65  0.42  0.84 -0.75]\n",
      " [ 0.66  0.99  0.99  0.99 -0.29 -1.  ]]\n",
      "[[   0.46   -0.29   -0.86    0.46    1.56   -1.14]\n",
      " [   0.87    7.24    7.24    7.24    0.3  -225.95]]\n",
      "[[ 0.91  0.96 -0.76  0.91  0.54  0.66]\n",
      " [ 0.75  0.14  0.14  0.14 -0.96  0.  ]]\n"
     ]
    }
   ],
   "source": [
    "print(np.sin(x))\n",
    "print(np.tan(x))\n",
    "print(np.cos(x))"
   ]
  },
  {
   "cell_type": "code",
   "execution_count": 41,
   "metadata": {},
   "outputs": [
    {
     "name": "stdout",
     "output_type": "stream",
     "text": [
      "[[5 2 1]\n",
      " [8 4 9]\n",
      " [4 2 6]]\n",
      "[[ 8  8  9]\n",
      " [ 0  8  4]\n",
      " [16  6 15]]\n",
      "[[40 16  9]\n",
      " [ 0 32 36]\n",
      " [64 12 90]]\n",
      "[[ 56  62  68]\n",
      " [208 150 223]\n",
      " [128  84 134]]\n",
      "[[ 56  62  68]\n",
      " [208 150 223]\n",
      " [128  84 134]]\n"
     ]
    }
   ],
   "source": [
    "x = np.random.randint(0,10,(3,3))\n",
    "y = np.random.randint(0,20,(3,3))\n",
    "print(x)\n",
    "print(y)\n",
    "print(x*y) #elements multiplication\n",
    "print(x@y) #matrix multiplication\n",
    "print(x.dot(y)) #matrix multiplication"
   ]
  },
  {
   "cell_type": "markdown",
   "metadata": {},
   "source": [
    "### Some utilities"
   ]
  },
  {
   "cell_type": "code",
   "execution_count": 42,
   "metadata": {},
   "outputs": [
    {
     "name": "stdout",
     "output_type": "stream",
     "text": [
      "[[ 0  7  9  8 10  2]\n",
      " [19  4  1  5  4  5]]\n",
      "[[ 0 19]\n",
      " [ 7  4]\n",
      " [ 9  1]\n",
      " [ 8  5]\n",
      " [10  4]\n",
      " [ 2  5]]\n"
     ]
    }
   ],
   "source": [
    "x = np.random.randint(0,20,(2,6))\n",
    "print(x)\n",
    "\n",
    "print(x.T) #Transpose"
   ]
  },
  {
   "cell_type": "code",
   "execution_count": 43,
   "metadata": {},
   "outputs": [
    {
     "name": "stdout",
     "output_type": "stream",
     "text": [
      "[[ 0  7  9  8]\n",
      " [10  2 19  4]\n",
      " [ 1  5  4  5]]\n"
     ]
    }
   ],
   "source": [
    "print(x.reshape(3,4))"
   ]
  },
  {
   "cell_type": "code",
   "execution_count": 44,
   "metadata": {},
   "outputs": [
    {
     "data": {
      "text/plain": [
       "array([[ 0,  7,  9],\n",
       "       [ 8, 10,  2],\n",
       "       [19,  4,  1],\n",
       "       [ 5,  4,  5],\n",
       "       [ 0,  0,  0],\n",
       "       [ 0,  0,  0],\n",
       "       [ 0,  0,  0],\n",
       "       [ 0,  0,  0],\n",
       "       [ 0,  0,  0],\n",
       "       [ 0,  0,  0]])"
      ]
     },
     "execution_count": 44,
     "metadata": {},
     "output_type": "execute_result"
    }
   ],
   "source": [
    "x.resize(10,3, refcheck=False)\n",
    "x"
   ]
  },
  {
   "cell_type": "markdown",
   "metadata": {},
   "source": [
    "# Data Visualisation"
   ]
  },
  {
   "cell_type": "code",
   "execution_count": 45,
   "metadata": {},
   "outputs": [],
   "source": [
    "import matplotlib.pyplot as plt"
   ]
  },
  {
   "cell_type": "code",
   "execution_count": 54,
   "metadata": {},
   "outputs": [
    {
     "data": {
      "image/png": "[encoded data removed]",
      "text/plain": [
       "<Figure size 640x480 with 1 Axes>"
      ]
     },
     "metadata": {},
     "output_type": "display_data"
    }
   ],
   "source": [
    "t = np.arange(0,2*np.pi,.1)\n",
    "x = np.sin(t)\n",
    "y = np.cos(t)\n",
    "plt.plot(t,x,'rd:', label='cos(t)')\n",
    "plt.plot(t,y,'bo:', label='sin(t)')\n",
    "plt.legend()\n",
    "plt.grid()"
   ]
  },
  {
   "cell_type": "code",
   "execution_count": 55,
   "metadata": {},
   "outputs": [
    {
     "data": {
      "image/png": "[encoded data removed]",
      "text/plain": [
       "<Figure size 640x480 with 1 Axes>"
      ]
     },
     "metadata": {},
     "output_type": "display_data"
    }
   ],
   "source": [
    "d=np.random.randn(1000) #random normal distribution\n",
    "plt.hist(d, bins=list(range(-3,4)))\n",
    "plt.show()"
   ]
  },
  {
   "cell_type": "code",
   "execution_count": 57,
   "metadata": {},
   "outputs": [
    {
     "data": {
      "image/png": "[encoded data removed]",
      "text/plain": [
       "<Figure size 640x480 with 1 Axes>"
      ]
     },
     "metadata": {},
     "output_type": "display_data"
    }
   ],
   "source": [
    "plt.boxplot(x)\n",
    "plt.show()"
   ]
  },
  {
   "cell_type": "code",
   "execution_count": null,
   "metadata": {},
   "outputs": [],
   "source": []
  }
 ],
 "metadata": {
  "kernelspec": {
   "display_name": "base",
   "language": "python",
   "name": "python3"
  },
  "language_info": {
   "codemirror_mode": {
    "name": "ipython",
    "version": 3
   },
   "file_extension": ".py",
   "mimetype": "text/x-python",
   "name": "python",
   "nbconvert_exporter": "python",
   "pygments_lexer": "ipython3",
   "version": "3.11.4"
  }
 },
 "nbformat": 4,
 "nbformat_minor": 2
}
