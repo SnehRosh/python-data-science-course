{
 "cells": [
  {
   "cell_type": "code",
   "execution_count": 6,
   "metadata": {},
   "outputs": [
    {
     "name": "stdout",
     "output_type": "stream",
     "text": [
      "Number of characters in given string: \n",
      "{'H': 1, 'e': 1, 'l': 2, 'o': 1}\n"
     ]
    }
   ],
   "source": [
    "# Q1\n",
    "# To count the frequency of each character in a given string using a dictionary\n",
    "new_string = 'Hello'\n",
    "new_dict = {}\n",
    "for i in new_string:\n",
    "    if i in new_dict:\n",
    "        new_dict[i] += 1\n",
    "    else:\n",
    "        new_dict[i] = 1\n",
    "print(f'Number of characters in given string: \\n{new_dict}')"
   ]
  },
  {
   "cell_type": "code",
   "execution_count": 10,
   "metadata": {},
   "outputs": [
    {
     "name": "stdout",
     "output_type": "stream",
     "text": [
      "None\n",
      "{\"'Father's' Name\": 'Hagrid', \"'Mother's' Name\": 'Halen', 'Name': 'Henry', 'ID': '20231', 'Post': 'SDE'}\n"
     ]
    }
   ],
   "source": [
    "# Q2\n",
    "# To merge two dictionaries into a single dictionary\n",
    "def merge_dict(m1,m2):\n",
    "    return(m2.update(m1))\n",
    "m1 = {'Name': 'Henry',\n",
    "      'ID': '20231',\n",
    "      'Post':'SDE',\n",
    "      }\n",
    "m2 = {\"'Father's' Name\": 'Hagrid',\n",
    "      \"'Mother's' Name\" : 'Halen'}\n",
    "print(merge_dict(m1,m2))\n",
    "print(m2)\n"
   ]
  },
  {
   "cell_type": "code",
   "execution_count": 18,
   "metadata": {},
   "outputs": [
    {
     "name": "stdout",
     "output_type": "stream",
     "text": [
      "60\n"
     ]
    }
   ],
   "source": [
    "# Q3\n",
    "x={\"a\":50,\"b\":60,\"c\":20}\n",
    "print(sorted(x.items(),key=lambda i:i[1], reverse=True)[0][-1])"
   ]
  },
  {
   "cell_type": "code",
   "execution_count": 24,
   "metadata": {},
   "outputs": [
    {
     "name": "stdout",
     "output_type": "stream",
     "text": [
      "a Exists\n",
      "b Exists\n",
      "c Exists\n"
     ]
    }
   ],
   "source": [
    "# Q4\n",
    "x= {\"a\": 1, \"b\": 2, \"c\": 3}\n",
    "for i in x:\n",
    "    print(f'{i} Exists')"
   ]
  },
  {
   "cell_type": "code",
   "execution_count": 25,
   "metadata": {},
   "outputs": [
    {
     "name": "stdout",
     "output_type": "stream",
     "text": [
      "{'a': 1, 'c': 3}\n"
     ]
    }
   ],
   "source": [
    "# Q4\n",
    "x= {\"a\": 1, \"b\": 2, \"c\": 3}\n",
    "x.pop('b')\n",
    "print(x)"
   ]
  },
  {
   "cell_type": "code",
   "execution_count": 31,
   "metadata": {},
   "outputs": [
    {
     "name": "stdout",
     "output_type": "stream",
     "text": [
      "['b']\n",
      "['c']\n"
     ]
    }
   ],
   "source": [
    "# Q5\n",
    "dict1 = {\"a\": 1, \"b\": 2, \"c\": 3}\n",
    "dict2 = {\"b\": 3, \"c\": 4, \"d\": 5}\n",
    "dk1=dict1.keys()\n",
    "dk2=dict2.keys()\n",
    "for i in dk1:\n",
    "    for j in dk2:\n",
    "        if i==j:\n",
    "            el = [j]\n",
    "            print(el)"
   ]
  },
  {
   "cell_type": "code",
   "execution_count": 32,
   "metadata": {},
   "outputs": [
    {
     "name": "stdout",
     "output_type": "stream",
     "text": [
      "3\n"
     ]
    }
   ],
   "source": [
    "# Q6\n",
    "x ={\"a\": 1, \"b\": 2, \"c\": 3}\n",
    "print(len(x))"
   ]
  },
  {
   "cell_type": "code",
   "execution_count": 40,
   "metadata": {},
   "outputs": [
    {
     "name": "stdout",
     "output_type": "stream",
     "text": [
      "['a', 'b', 'c']\n"
     ]
    }
   ],
   "source": [
    "# Q7\n",
    "x= {\"b\": 2, \"a\": 1, \"c\": 3}\n",
    "for i in x:\n",
    "    print(sorted(x))\n",
    "    break"
   ]
  },
  {
   "cell_type": "code",
   "execution_count": 98,
   "metadata": {},
   "outputs": [
    {
     "name": "stdout",
     "output_type": "stream",
     "text": [
      "2\n"
     ]
    }
   ],
   "source": [
    "# Q8\n",
    "x = {\"a\": 10, \"b\": 5, \"c\": 15, 'd': 2, 'e':18}\n",
    "v = x.values()\n",
    "print(min(v))"
   ]
  },
  {
   "cell_type": "code",
   "execution_count": 99,
   "metadata": {},
   "outputs": [
    {
     "name": "stdout",
     "output_type": "stream",
     "text": [
      "1 Exists\n",
      "2 Exists\n",
      "3 Exists\n"
     ]
    }
   ],
   "source": [
    "# Q9\n",
    "x= {\"a\": 1, \"b\": 2, \"c\": 3}\n",
    "for i in x:\n",
    "    print(f'{x[i]} Exists')"
   ]
  },
  {
   "cell_type": "code",
   "execution_count": 106,
   "metadata": {},
   "outputs": [
    {
     "name": "stdout",
     "output_type": "stream",
     "text": [
      "{1: 1, 2: 4, 3: 9, 4: 16, 5: 25, 6: 36, 7: 49, 8: 64, 9: 81}\n"
     ]
    }
   ],
   "source": [
    "# 10\n",
    "x = {}\n",
    "for i in range(1,10):\n",
    "    x[i] = i**2\n",
    "print(x)\n",
    "   "
   ]
  },
  {
   "cell_type": "code",
   "execution_count": 6,
   "metadata": {},
   "outputs": [
    {
     "data": {
      "text/plain": [
       "[['a', 1], ['c', 2], ['d', 3], ['e', 4]]"
      ]
     },
     "execution_count": 6,
     "metadata": {},
     "output_type": "execute_result"
    }
   ],
   "source": [
    "# Q 17\n",
    "x= {\"a\": 1, \"b\": {\"c\": 2, \"d\": 3}, \"e\": 4}\n",
    "def extract_dict_to_list(d):\n",
    "    dlist=[]\n",
    "    for k, v in d.items():\n",
    "     if isinstance(v, dict):\n",
    "        ans=extract_dict_to_list(v)\n",
    "        dlist.extend(ans) if isinstance(ans,list)else None\n",
    "     else:\n",
    "        dlist.append([k,v])\n",
    "    return dlist\n",
    "extract_dict_to_list(x)"
   ]
  }
 ],
 "metadata": {
  "kernelspec": {
   "display_name": "base",
   "language": "python",
   "name": "python3"
  },
  "language_info": {
   "codemirror_mode": {
    "name": "ipython",
    "version": 3
   },
   "file_extension": ".py",
   "mimetype": "text/x-python",
   "name": "python",
   "nbconvert_exporter": "python",
   "pygments_lexer": "ipython3",
   "version": "3.11.4"
  },
  "orig_nbformat": 4
 },
 "nbformat": 4,
 "nbformat_minor": 2
}
