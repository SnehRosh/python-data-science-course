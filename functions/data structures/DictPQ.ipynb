{
 "cells": [
  {
   "cell_type": "code",
   "execution_count": 6,
   "metadata": {},
   "outputs": [
    {
     "name": "stdout",
     "output_type": "stream",
     "text": [
      "Number of characters in given string: \n",
      "{'H': 1, 'e': 1, 'l': 2, 'o': 1}\n"
     ]
    }
   ],
   "source": [
    "# Q1\n",
    "# To count the frequency of each character in a given string using a dictionary\n",
    "new_string = 'Hello'\n",
    "new_dict = {}\n",
    "for i in new_string:\n",
    "    if i in new_dict:\n",
    "        new_dict[i] += 1\n",
    "    else:\n",
    "        new_dict[i] = 1\n",
    "print(f'Number of characters in given string: \\n{new_dict}')"
   ]
  },
  {
   "cell_type": "code",
   "execution_count": 10,
   "metadata": {},
   "outputs": [
    {
     "name": "stdout",
     "output_type": "stream",
     "text": [
      "None\n",
      "{\"'Father's' Name\": 'Hagrid', \"'Mother's' Name\": 'Halen', 'Name': 'Henry', 'ID': '20231', 'Post': 'SDE'}\n"
     ]
    }
   ],
   "source": [
    "# Q2\n",
    "# To merge two dictionaries into a single dictionary\n",
    "def merge_dict(m1,m2):\n",
    "    return(m2.update(m1))\n",
    "m1 = {'Name': 'Henry',\n",
    "      'ID': '20231',\n",
    "      'Post':'SDE',\n",
    "      }\n",
    "m2 = {\"'Father's' Name\": 'Hagrid',\n",
    "      \"'Mother's' Name\" : 'Halen'}\n",
    "print(merge_dict(m1,m2))\n",
    "print(m2)\n"
   ]
  }
 ],
 "metadata": {
  "kernelspec": {
   "display_name": "base",
   "language": "python",
   "name": "python3"
  },
  "language_info": {
   "codemirror_mode": {
    "name": "ipython",
    "version": 3
   },
   "file_extension": ".py",
   "mimetype": "text/x-python",
   "name": "python",
   "nbconvert_exporter": "python",
   "pygments_lexer": "ipython3",
   "version": "3.11.4"
  },
  "orig_nbformat": 4
 },
 "nbformat": 4,
 "nbformat_minor": 2
}
