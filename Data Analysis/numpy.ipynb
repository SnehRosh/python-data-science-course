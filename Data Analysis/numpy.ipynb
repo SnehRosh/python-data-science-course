{
 "cells": [
  {
   "cell_type": "markdown",
   "metadata": {},
   "source": [
    "# Numpy\n",
    "- create array\n",
    "- maths\n",
    "- operations"
   ]
  },
  {
   "cell_type": "code",
   "execution_count": 2,
   "metadata": {},
   "outputs": [
    {
     "name": "stdout",
     "output_type": "stream",
     "text": [
      "[[1, 2, 3], [3, 2, 1]]\n"
     ]
    }
   ],
   "source": [
    "x=[[1,2,3],\n",
    "   [3,2,1]]\n",
    "print(x)"
   ]
  },
  {
   "cell_type": "markdown",
   "metadata": {},
   "source": [
    "without numpy doing maths(matrix maths) is vey complex in any language"
   ]
  },
  {
   "cell_type": "code",
   "execution_count": 3,
   "metadata": {},
   "outputs": [],
   "source": [
    "import numpy as np\n"
   ]
  },
  {
   "cell_type": "code",
   "execution_count": 4,
   "metadata": {},
   "outputs": [
    {
     "name": "stdout",
     "output_type": "stream",
     "text": [
      "[[1 2 3]\n",
      " [3 4 5]]\n",
      "<class 'numpy.ndarray'>\n",
      "(2, 3)\n"
     ]
    }
   ],
   "source": [
    "x = np.array([\n",
    "    [1,2,3],\n",
    "    [3,4,5]])\n",
    "print(x)\n",
    "print(type(x))\n",
    "print(x.shape)"
   ]
  },
  {
   "cell_type": "code",
   "execution_count": 5,
   "metadata": {},
   "outputs": [
    {
     "name": "stdout",
     "output_type": "stream",
     "text": [
      "18\n",
      "[4 6 8]\n",
      "[ 6 12]\n"
     ]
    }
   ],
   "source": [
    "print(x.sum())\n",
    "print(x.sum(axis=0)) # sum of each coloumn\n",
    "print(x.sum(axis=1)) # sum of each row"
   ]
  },
  {
   "cell_type": "code",
   "execution_count": 6,
   "metadata": {},
   "outputs": [
    {
     "name": "stdout",
     "output_type": "stream",
     "text": [
      "(3,) 1\n",
      "(3, 2) 2\n",
      "(1, 3, 2) 3\n"
     ]
    }
   ],
   "source": [
    "a = np.array([1, 2, 3]) #Simple matrix\n",
    "b = np.array([[1,1],[2,2],[3,3]]) # 2d matrixs\n",
    "c = np.array([[[1,1],[2,2],[3,3]]]) # 3d matrix\n",
    "print(a.shape, a.ndim)\n",
    "print(b.shape, b.ndim)\n",
    "print(c.shape, c.ndim)"
   ]
  },
  {
   "cell_type": "markdown",
   "metadata": {},
   "source": [
    "# matrix creation\n",
    "- sequential\n",
    "    - arange\n",
    "    - linspace\n",
    "- random\n",
    "    - rand\n",
    "    - randint\n",
    "    - uniform\n"
   ]
  },
  {
   "cell_type": "code",
   "execution_count": 7,
   "metadata": {},
   "outputs": [
    {
     "name": "stdout",
     "output_type": "stream",
     "text": [
      "[ 1.   1.5  2.   2.5  3.   3.5  4.   4.5  5.   5.5  6.   6.5  7.   7.5\n",
      "  8.   8.5  9.   9.5 10.  10.5]\n",
      "[ 0.  2.  4.  6.  8. 10.]\n"
     ]
    }
   ],
   "source": [
    "#Exclusive function\n",
    "x = np.arange(1,11,0.5) # start, end, step\n",
    "print(x)\n",
    "# Inclusive function\n",
    "y = np.linspace(0,10,6) # start, end, number of points\n",
    "print(y)"
   ]
  },
  {
   "cell_type": "code",
   "execution_count": 8,
   "metadata": {},
   "outputs": [
    {
     "data": {
      "text/plain": [
       "array([[ 1. ,  1.5,  2. ,  2.5,  3. ],\n",
       "       [ 3.5,  4. ,  4.5,  5. ,  5.5],\n",
       "       [ 6. ,  6.5,  7. ,  7.5,  8. ],\n",
       "       [ 8.5,  9. ,  9.5, 10. , 10.5]])"
      ]
     },
     "execution_count": 8,
     "metadata": {},
     "output_type": "execute_result"
    }
   ],
   "source": [
    "np.arange(1,11,0.5).reshape(4,5) # reshape to 4 X 5 matrix"
   ]
  },
  {
   "cell_type": "code",
   "execution_count": 9,
   "metadata": {},
   "outputs": [],
   "source": [
    "x1 = np.array([[1,2,3], [3,4,5]])\n",
    "x2= np.array([[4,2,6], [3,8,6]])"
   ]
  },
  {
   "cell_type": "code",
   "execution_count": 10,
   "metadata": {},
   "outputs": [
    {
     "name": "stdout",
     "output_type": "stream",
     "text": [
      "[[1 2 3]\n",
      " [3 4 5]]\n",
      "[[4 2 6]\n",
      " [3 8 6]]\n",
      "[[ 5  4  9]\n",
      " [ 6 12 11]]\n",
      "[[-3  0 -3]\n",
      " [ 0 -4 -1]]\n",
      "[[ 4  4 18]\n",
      " [ 9 32 30]]\n",
      "[[0.25       1.         0.5       ]\n",
      " [1.         0.5        0.83333333]]\n",
      "[[0 1 0]\n",
      " [1 0 0]]\n",
      "[[    1     4   729]\n",
      " [   27 65536 15625]]\n",
      "[[False False False]\n",
      " [False False False]]\n",
      "[[ True False  True]\n",
      " [False  True  True]]\n",
      "[[False  True False]\n",
      " [ True False False]]\n",
      "[[ True  True  True]\n",
      " [ True  True  True]]\n"
     ]
    }
   ],
   "source": [
    "print(x1)\n",
    "print(x2)\n",
    "print(x1+x2)\n",
    "print(x1-x2)\n",
    "print(x1*x2)\n",
    "print(x1/x2)\n",
    "print(x1//x2)\n",
    "print(x1**x2)\n",
    "print(x1>x2)\n",
    "print(x1<x2)\n",
    "print(x1>=x2)\n",
    "print(x1<=x2)"
   ]
  },
  {
   "cell_type": "code",
   "execution_count": 16,
   "metadata": {},
   "outputs": [
    {
     "data": {
      "text/plain": [
       "array([[0.99, 0.64, 0.05],\n",
       "       [0.85, 0.46, 0.5 ],\n",
       "       [0.01, 0.79, 0.06]])"
      ]
     },
     "execution_count": 16,
     "metadata": {},
     "output_type": "execute_result"
    }
   ],
   "source": [
    "a = np.random.rand(3,3)\n",
    "a"
   ]
  },
  {
   "cell_type": "code",
   "execution_count": 12,
   "metadata": {},
   "outputs": [],
   "source": [
    "s = np.set_printoptions(precision=2)"
   ]
  },
  {
   "cell_type": "code",
   "execution_count": 13,
   "metadata": {},
   "outputs": [
    {
     "data": {
      "text/plain": [
       "array([[3, 4, 5],\n",
       "       [3, 4, 9],\n",
       "       [8, 4, 5]])"
      ]
     },
     "execution_count": 13,
     "metadata": {},
     "output_type": "execute_result"
    }
   ],
   "source": [
    "b = np.random.randint(0,10,(3,3))\n",
    "b"
   ]
  },
  {
   "cell_type": "code",
   "execution_count": 14,
   "metadata": {},
   "outputs": [
    {
     "data": {
      "text/plain": [
       "array([[0.73, 5.32, 2.11, 0.28, 4.76],\n",
       "       [7.66, 4.77, 5.55, 6.38, 9.37],\n",
       "       [3.78, 1.42, 5.9 , 6.57, 8.84],\n",
       "       [7.25, 9.46, 1.66, 6.37, 6.37],\n",
       "       [0.04, 9.98, 6.39, 2.85, 8.25]])"
      ]
     },
     "execution_count": 14,
     "metadata": {},
     "output_type": "execute_result"
    }
   ],
   "source": [
    "c = np.random.uniform(0,10,(5,5))\n",
    "c"
   ]
  }
 ],
 "metadata": {
  "kernelspec": {
   "display_name": "base",
   "language": "python",
   "name": "python3"
  },
  "language_info": {
   "codemirror_mode": {
    "name": "ipython",
    "version": 3
   },
   "file_extension": ".py",
   "mimetype": "text/x-python",
   "name": "python",
   "nbconvert_exporter": "python",
   "pygments_lexer": "ipython3",
   "version": "3.11.4"
  }
 },
 "nbformat": 4,
 "nbformat_minor": 2
}
