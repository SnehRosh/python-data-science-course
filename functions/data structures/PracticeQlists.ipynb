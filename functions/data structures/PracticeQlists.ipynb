{
 "cells": [
  {
   "cell_type": "code",
   "execution_count": 1,
   "metadata": {},
   "outputs": [
    {
     "name": "stdout",
     "output_type": "stream",
     "text": [
      "[2, 4, 6]\n"
     ]
    }
   ],
   "source": [
    "# Q1\n",
    "r = int(input(\"Enter number of elements you want to enter\"))\n",
    "l = []\n",
    "for i in range (r):\n",
    " u = int(input(\"Enter Number\"))\n",
    " l.append(u)\n",
    "print(l)"
   ]
  },
  {
   "cell_type": "code",
   "execution_count": 18,
   "metadata": {},
   "outputs": [
    {
     "name": "stdout",
     "output_type": "stream",
     "text": [
      "8 found at 5\n"
     ]
    }
   ],
   "source": [
    "# Q2\n",
    "user_in = int(input(\"Enter Integer to find in the list: \"))\n",
    "l1 = [2,5,7,9,0,8,4,3,2,4,22,4,6,7,8,9,8]\n",
    "idx = l1.index(user_in)\n",
    "if user_in in l1:\n",
    "    print(f'{user_in} found at {idx}')\n",
    "else:\n",
    "   print(f'{user_in} not found')\n"
   ]
  }
 ],
 "metadata": {
  "kernelspec": {
   "display_name": "base",
   "language": "python",
   "name": "python3"
  },
  "language_info": {
   "codemirror_mode": {
    "name": "ipython",
    "version": 3
   },
   "file_extension": ".py",
   "mimetype": "text/x-python",
   "name": "python",
   "nbconvert_exporter": "python",
   "pygments_lexer": "ipython3",
   "version": "3.11.4"
  },
  "orig_nbformat": 4
 },
 "nbformat": 4,
 "nbformat_minor": 2
}
