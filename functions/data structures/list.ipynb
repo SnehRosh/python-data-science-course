{
 "cells": [
  {
   "cell_type": "markdown",
   "metadata": {},
   "source": [
    "- Create\n",
    "- Indexing and slicing\n",
    "- Methods\n",
    "- Basic operations"
   ]
  },
  {
   "cell_type": "code",
   "execution_count": 1,
   "metadata": {},
   "outputs": [],
   "source": [
    "x = [ ] #Empty list\n",
    "a = [1, 2,34, 5, 6] #Numerical List\n",
    "b = ['alex', 'alexa', 'alexis'] #text list\n",
    "c = ['alex', 12, 'alexa', 17,'alexis', 20] # Mixed List\n",
    "d = [[1,2],[3,4],[1,6,7,8]] #Nested List\n",
    "e = [[1,2],[3,4],[1,6]] #Nested List of Equal Length"
   ]
  },
  {
   "cell_type": "code",
   "execution_count": 2,
   "metadata": {},
   "outputs": [
    {
     "name": "stdout",
     "output_type": "stream",
     "text": [
      "[1, 1, 1, 1, 1, 1, 1, 1, 1, 1]\n",
      "[1, 2, 6, 1, 2, 6, 1, 2, 6]\n"
     ]
    }
   ],
   "source": [
    "w1 = [1]*10 #List Duplication\n",
    "print(w1)\n",
    " \n",
    "w2 =[1,2,6]*3\n",
    "print(w2)"
   ]
  },
  {
   "cell_type": "code",
   "execution_count": 3,
   "metadata": {},
   "outputs": [
    {
     "name": "stdout",
     "output_type": "stream",
     "text": [
      "[1, 2, 3, 4, 4, 6, 8, 10]\n",
      "[[1, 2, 3, 4], [4, 6, 8, 10]]\n"
     ]
    }
   ],
   "source": [
    "a = [1,2,3,4]\n",
    "b = [4,6,8,10] #List Contatination\n",
    "c = a + b\n",
    "print(c)\n",
    "\n",
    "d = [a, b] #Nested List\n",
    "print(d)"
   ]
  },
  {
   "cell_type": "code",
   "execution_count": 4,
   "metadata": {},
   "outputs": [
    {
     "data": {
      "text/plain": [
       "['One', 'for', 'all']"
      ]
     },
     "execution_count": 4,
     "metadata": {},
     "output_type": "execute_result"
    }
   ],
   "source": [
    "'One for all'.split() #Split string into list"
   ]
  },
  {
   "cell_type": "code",
   "execution_count": 5,
   "metadata": {},
   "outputs": [
    {
     "name": "stdout",
     "output_type": "stream",
     "text": [
      "[1, 3, 5]\n",
      "[2, 1, 7, 9]\n",
      "[6, 8, 4, 8, 4, 2]\n",
      "[1, 3, 5, 6, 8, 4, 8, 4, 2, 1, 7, 9]\n",
      "[9, 7, 1, 2, 4, 8, 4, 8, 6, 5, 3, 1]\n",
      "[1, 5, 8, 8, 2, 7]\n",
      "[3, 6, 4, 4, 1, 9]\n"
     ]
    }
   ],
   "source": [
    "x = [1,3,5,6,8,4,8,4,2,1,7,9]\n",
    "print(x[:3])\n",
    "print(x[-4:])\n",
    "print(x[3:-3])\n",
    "print(x)\n",
    "print(x[::-1])\n",
    "print(x[::2])\n",
    "print(x[1::2])"
   ]
  },
  {
   "cell_type": "code",
   "execution_count": 6,
   "metadata": {},
   "outputs": [
    {
     "name": "stdout",
     "output_type": "stream",
     "text": [
      "1\n",
      "9\n"
     ]
    }
   ],
   "source": [
    "print(x[0]) #First element\n",
    "print(x[-1]) #Last element "
   ]
  },
  {
   "cell_type": "code",
   "execution_count": 7,
   "metadata": {},
   "outputs": [
    {
     "name": "stdout",
     "output_type": "stream",
     "text": [
      "1\n",
      "3\n",
      "5\n",
      "6\n",
      "8\n",
      "4\n",
      "8\n",
      "4\n",
      "2\n",
      "1\n",
      "7\n",
      "9\n"
     ]
    }
   ],
   "source": [
    "#Traversal\n",
    "for i in x:\n",
    "    print(i)"
   ]
  },
  {
   "cell_type": "markdown",
   "metadata": {},
   "source": [
    "Methods\n",
    "- Add\n",
    "    - append\n",
    "    - extend\n",
    "    - insert\n",
    "- Remove\n",
    "    - remove\n",
    "    - pop\n",
    "    - clear\n",
    "- Helper\n",
    "    - index\n",
    "    - count\n",
    "    - sort\n",
    "    - reverse\n",
    "    - copy"
   ]
  },
  {
   "cell_type": "code",
   "execution_count": 8,
   "metadata": {},
   "outputs": [
    {
     "name": "stdout",
     "output_type": "stream",
     "text": [
      "['The Final Empire', 'The Well of ascesion', 'The Hero of ages', 'Warbreaker']\n"
     ]
    }
   ],
   "source": [
    "books = []\n",
    "books.append('The Final Empire')\n",
    "books.append('The Well of ascesion')\n",
    "books.append('The Hero of ages')\n",
    "books.append('Warbreaker')\n",
    "print(books)"
   ]
  },
  {
   "cell_type": "code",
   "execution_count": 9,
   "metadata": {},
   "outputs": [
    {
     "name": "stdout",
     "output_type": "stream",
     "text": [
      "['The Final Empire', 'The Way of Kings', 'The Well of ascesion', 'The Hero of ages', 'Words of Radiance', 'Warbreaker']\n"
     ]
    }
   ],
   "source": [
    "books.insert(1, 'The Way of Kings')\n",
    "books.insert(4, 'Words of Radiance')\n",
    "print(books)"
   ]
  },
  {
   "cell_type": "code",
   "execution_count": 10,
   "metadata": {},
   "outputs": [
    {
     "name": "stdout",
     "output_type": "stream",
     "text": [
      "['Twilight Saga: New Moon ', 'Twilight Saga: Eclipse ', 'The Wheel of Time ', 'THe Great Hunt ']\n"
     ]
    }
   ],
   "source": [
    "crappy_books = [\n",
    "    'Twilight Saga: New Moon ',\n",
    "    'Twilight Saga: Eclipse ',\n",
    "    'The Wheel of Time ',\n",
    "    'THe Great Hunt ',\n",
    "]\n",
    "print(crappy_books)"
   ]
  },
  {
   "cell_type": "code",
   "execution_count": 11,
   "metadata": {},
   "outputs": [
    {
     "name": "stdout",
     "output_type": "stream",
     "text": [
      "['The Final Empire', 'The Way of Kings', 'The Well of ascesion', 'The Hero of ages', 'Words of Radiance', 'Warbreaker', 'Twilight Saga: New Moon ', 'Twilight Saga: Eclipse ', 'The Wheel of Time ', 'THe Great Hunt ']\n"
     ]
    }
   ],
   "source": [
    "books.extend(crappy_books)\n",
    "print(books)"
   ]
  },
  {
   "cell_type": "code",
   "execution_count": 12,
   "metadata": {},
   "outputs": [
    {
     "name": "stdout",
     "output_type": "stream",
     "text": [
      "[1, 3, 46, 7, 3, 6, 8, 9]\n"
     ]
    }
   ],
   "source": [
    "nums = [1,3,46,7]\n",
    "more_nums = [3,6,8,9]\n",
    "nums.extend(more_nums)\n",
    "print(nums)"
   ]
  },
  {
   "cell_type": "code",
   "execution_count": 13,
   "metadata": {},
   "outputs": [
    {
     "name": "stdout",
     "output_type": "stream",
     "text": [
      "[[1, 3, 46, 7, 3, 6, 8, 9], [1, 3, 46, 7, 3, 6, 8, 9], [1, 3, 46, 7, 3, 6, 8, 9]]\n"
     ]
    }
   ],
   "source": [
    "num_matrix = [nums, nums, nums]\n",
    "print(num_matrix)"
   ]
  },
  {
   "cell_type": "code",
   "execution_count": 14,
   "metadata": {},
   "outputs": [
    {
     "name": "stdout",
     "output_type": "stream",
     "text": [
      "[1, 3, 46, 7, 3, 6, 8, 9, 3, 6, 8, 9]\n"
     ]
    }
   ],
   "source": [
    "all_num = nums + more_nums\n",
    "print(all_num)"
   ]
  },
  {
   "cell_type": "code",
   "execution_count": 15,
   "metadata": {},
   "outputs": [
    {
     "name": "stdout",
     "output_type": "stream",
     "text": [
      "['6', '6', '6', '65', '4']\n"
     ]
    }
   ],
   "source": [
    "u = []\n",
    "for i in range (5):\n",
    "    x = input('Enter the number')\n",
    "    a = u.append(x)\n",
    "print(u)"
   ]
  },
  {
   "cell_type": "code",
   "execution_count": 17,
   "metadata": {},
   "outputs": [
    {
     "name": "stdout",
     "output_type": "stream",
     "text": [
      "[5]\n",
      "[5, 6]\n",
      "[5, 6, 7]\n",
      "[5, 6, 7, 4]\n",
      "[5, 6, 7, 4, 3]\n",
      "Total: 25\n"
     ]
    }
   ],
   "source": [
    "u = []\n",
    "for i in range(5):\n",
    "    x = int(input('Enter numbers: '))\n",
    "    a = u.append(x)\n",
    "    print(u)\n",
    "    s = sum(u)    \n",
    "    print(f'Total: {s}')\n"
   ]
  },
  {
   "cell_type": "code",
   "execution_count": null,
   "metadata": {},
   "outputs": [],
   "source": [
    "books.remove('The Wheel of Time')"
   ]
  },
  {
   "cell_type": "code",
   "execution_count": null,
   "metadata": {},
   "outputs": [],
   "source": [
    "def safe_remove(val_to_remove):\n",
    " if val_to_remove in books:\n",
    "    books.remove(val_to_remove)\n",
    "    print(f'✅ {val_to_remove} removed from list')\n",
    " else:\n",
    "    print(f'❌ Not found')"
   ]
  },
  {
   "cell_type": "code",
   "execution_count": null,
   "metadata": {},
   "outputs": [
    {
     "name": "stdout",
     "output_type": "stream",
     "text": [
      "✅ The Hero of ages removed from list\n"
     ]
    }
   ],
   "source": [
    "safe_remove('The Hero of ages')"
   ]
  },
  {
   "cell_type": "code",
   "execution_count": null,
   "metadata": {},
   "outputs": [
    {
     "data": {
      "text/plain": [
       "['The Final Empire',\n",
       " 'The Way of Kings',\n",
       " 'The Way of Kings',\n",
       " 'The Way of Kings',\n",
       " 'Words of Radiance',\n",
       " 'The Well of ascesion',\n",
       " 'Twilight Saga: New MoonTwilight Saga: EclipseThe Wheel of TimeTHe Great Hunt',\n",
       " 'Twilight Saga: New Moon',\n",
       " 'Twilight Saga: Eclipse',\n",
       " 'THe Great Hunt',\n",
       " 'Twilight Saga: New Moon ',\n",
       " 'Twilight Saga: Eclipse ',\n",
       " 'The Wheel of Time ',\n",
       " 'THe Great Hunt ',\n",
       " 'Twilight Saga: New Moon ',\n",
       " 'Twilight Saga: Eclipse ',\n",
       " 'The Wheel of Time ',\n",
       " 'THe Great Hunt ']"
      ]
     },
     "execution_count": 56,
     "metadata": {},
     "output_type": "execute_result"
    }
   ],
   "source": [
    "books"
   ]
  },
  {
   "cell_type": "code",
   "execution_count": null,
   "metadata": {},
   "outputs": [
    {
     "data": {
      "text/plain": [
       "'THe Great Hunt '"
      ]
     },
     "execution_count": 57,
     "metadata": {},
     "output_type": "execute_result"
    }
   ],
   "source": [
    "books.pop() # Removes last element"
   ]
  },
  {
   "cell_type": "code",
   "execution_count": null,
   "metadata": {},
   "outputs": [
    {
     "name": "stdout",
     "output_type": "stream",
     "text": [
      "The Way of Kings\n",
      "['The Final Empire', 'The Way of Kings', 'The Way of Kings', 'Words of Radiance', 'The Well of ascesion', 'Twilight Saga: New MoonTwilight Saga: EclipseThe Wheel of TimeTHe Great Hunt', 'Twilight Saga: New Moon', 'Twilight Saga: Eclipse', 'THe Great Hunt', 'Twilight Saga: New Moon ', 'Twilight Saga: Eclipse ', 'The Wheel of Time ', 'THe Great Hunt ', 'Twilight Saga: New Moon ', 'Twilight Saga: Eclipse ', 'The Wheel of Time ']\n"
     ]
    }
   ],
   "source": [
    "output = books.pop(1) # Remove element at index 1\n",
    "print(output)\n",
    "print(books)"
   ]
  },
  {
   "cell_type": "code",
   "execution_count": 20,
   "metadata": {},
   "outputs": [
    {
     "name": "stdout",
     "output_type": "stream",
     "text": [
      "2\n",
      "0\n",
      "2\n"
     ]
    }
   ],
   "source": [
    "x = ['a1','b2','a1','b2','b3','b']\n",
    "print(x.count('a1'))\n",
    "print(x.count('a2'))\n",
    "print(x.count('b2'))"
   ]
  },
  {
   "cell_type": "code",
   "execution_count": 24,
   "metadata": {},
   "outputs": [
    {
     "name": "stdout",
     "output_type": "stream",
     "text": [
      "['a1', 'a1', 'b', 'b2', 'b2', 'b3']\n",
      "['b3', 'b2', 'b2', 'b', 'a1', 'a1']\n"
     ]
    }
   ],
   "source": [
    "x.sort()\n",
    "print(x)\n",
    "x.sort(reverse=True)\n",
    "print(x)"
   ]
  },
  {
   "cell_type": "code",
   "execution_count": 25,
   "metadata": {},
   "outputs": [
    {
     "name": "stdout",
     "output_type": "stream",
     "text": [
      "[5, 4, 3, 2, 1]\n"
     ]
    }
   ],
   "source": [
    "a = [1,2,3,4,5]\n",
    "a.reverse()\n",
    "print(a)"
   ]
  },
  {
   "cell_type": "code",
   "execution_count": 27,
   "metadata": {},
   "outputs": [
    {
     "name": "stdout",
     "output_type": "stream",
     "text": [
      "['aeroplane', 'app', 'apple', 'association', 'avocado']\n",
      "['avocado', 'association', 'apple', 'app', 'aeroplane']\n",
      "['app', 'apple', 'avocado', 'aeroplane', 'association']\n",
      "['association', 'aeroplane', 'avocado', 'apple', 'app']\n"
     ]
    }
   ],
   "source": [
    "words = ['app','apple','avocado','aeroplane','association']\n",
    "words.sort()\n",
    "print(words)\n",
    "words.sort(reverse=True)\n",
    "print(words)\n",
    "words.sort(key=len)\n",
    "print(words)\n",
    "words.sort(key=len, reverse=True)\n",
    "print(words)"
   ]
  },
  {
   "cell_type": "code",
   "execution_count": 28,
   "metadata": {},
   "outputs": [
    {
     "data": {
      "text/plain": [
       "['association', 'aeroplane', 'avocado', 'apple', 'app']"
      ]
     },
     "execution_count": 28,
     "metadata": {},
     "output_type": "execute_result"
    }
   ],
   "source": [
    "words"
   ]
  },
  {
   "cell_type": "code",
   "execution_count": 30,
   "metadata": {},
   "outputs": [
    {
     "data": {
      "text/plain": [
       "4"
      ]
     },
     "execution_count": 30,
     "metadata": {},
     "output_type": "execute_result"
    }
   ],
   "source": [
    "words.index('app') #Displays the index first occurence of the given element"
   ]
  },
  {
   "cell_type": "code",
   "execution_count": 31,
   "metadata": {},
   "outputs": [],
   "source": [
    "word_copy1 = words #Copy by reference\n",
    "word_copy2 = words.copy() #Copy by value "
   ]
  },
  {
   "cell_type": "code",
   "execution_count": 32,
   "metadata": {},
   "outputs": [
    {
     "data": {
      "text/plain": [
       "True"
      ]
     },
     "execution_count": 32,
     "metadata": {},
     "output_type": "execute_result"
    }
   ],
   "source": [
    "word_copy1 is words"
   ]
  },
  {
   "cell_type": "code",
   "execution_count": 33,
   "metadata": {},
   "outputs": [
    {
     "data": {
      "text/plain": [
       "False"
      ]
     },
     "execution_count": 33,
     "metadata": {},
     "output_type": "execute_result"
    }
   ],
   "source": [
    "word_copy2 is words "
   ]
  },
  {
   "cell_type": "code",
   "execution_count": 34,
   "metadata": {},
   "outputs": [
    {
     "name": "stdout",
     "output_type": "stream",
     "text": [
      "[1, 2, 3, 4, 4]\n",
      "[1, 2, 3, 4, 4]\n"
     ]
    }
   ],
   "source": [
    "x = [1,2,3]\n",
    "y = x #Copy by reference\n",
    "x.append(4)\n",
    "y.append(4)\n",
    "print(x)\n",
    "print(y)"
   ]
  },
  {
   "cell_type": "code",
   "execution_count": 35,
   "metadata": {},
   "outputs": [
    {
     "name": "stdout",
     "output_type": "stream",
     "text": [
      "[1, 2, 3, 4]\n",
      "[1, 2, 3, 4, 4]\n"
     ]
    }
   ],
   "source": [
    "x = [1,2,3,4]\n",
    "y = x.copy() #Copy by value \n",
    "y.append(4)\n",
    "print(x)\n",
    "print(y)"
   ]
  },
  {
   "cell_type": "markdown",
   "metadata": {},
   "source": [
    "Generating a list of numbers from existing list"
   ]
  },
  {
   "cell_type": "code",
   "execution_count": 37,
   "metadata": {},
   "outputs": [
    {
     "name": "stdout",
     "output_type": "stream",
     "text": [
      "[1, 4, 9, 16]\n"
     ]
    }
   ],
   "source": [
    "x = [1,2,3,4]\n",
    "y = []\n",
    "for i in x:\n",
    "    s = i**2\n",
    "    y.append(s)\n",
    "print(y)\n"
   ]
  },
  {
   "cell_type": "markdown",
   "metadata": {},
   "source": [
    "- List Comprehension\n",
    "Syntax:\n",
    "'''\n",
    "new_list = [Operation for item in list]\n",
    "'''\n",
    "- List Comprehension with Condition\n",
    "Syntax: \n",
    "'''\n",
    "new_list = [oeration from item in list if  epression]\n",
    "'''"
   ]
  },
  {
   "cell_type": "code",
   "execution_count": 39,
   "metadata": {},
   "outputs": [
    {
     "name": "stdout",
     "output_type": "stream",
     "text": [
      "[1, 4, 9, 16]\n"
     ]
    }
   ],
   "source": [
    "y = [i**2 for i in x]\n",
    "print(y)"
   ]
  },
  {
   "cell_type": "code",
   "execution_count": 40,
   "metadata": {},
   "outputs": [
    {
     "name": "stdout",
     "output_type": "stream",
     "text": [
      "[1, 2, 3, 4, 6, 3, 7, 9, 6, 5, 32]\n",
      "[1, 3, 3, 7, 9, 5]\n"
     ]
    }
   ],
   "source": [
    "a = [1,2,3,4,6,3,7,9,6,5,32]\n",
    "a_odd = [i for i in a if i % 2 != 0]\n",
    "print(a)\n",
    "print(a_odd)"
   ]
  },
  {
   "cell_type": "code",
   "execution_count": 41,
   "metadata": {},
   "outputs": [
    {
     "name": "stdout",
     "output_type": "stream",
     "text": [
      "[1, 2, 3, 4, 6, 3, 7, 9, 6, 5, 32]\n",
      "[8, 64, 216, 216, 32768]\n"
     ]
    }
   ],
   "source": [
    "a = [1,2,3,4,6,3,7,9,6,5,32]\n",
    "a_even = [i**3 for i in a if i % 2 == 0]\n",
    "print(a)\n",
    "print(a_even)"
   ]
  },
  {
   "cell_type": "code",
   "execution_count": null,
   "metadata": {},
   "outputs": [],
   "source": []
  }
 ],
 "metadata": {
  "kernelspec": {
   "display_name": "base",
   "language": "python",
   "name": "python3"
  },
  "language_info": {
   "codemirror_mode": {
    "name": "ipython",
    "version": 3
   },
   "file_extension": ".py",
   "mimetype": "text/x-python",
   "name": "python",
   "nbconvert_exporter": "python",
   "pygments_lexer": "ipython3",
   "version": "3.11.4"
  },
  "orig_nbformat": 4
 },
 "nbformat": 4,
 "nbformat_minor": 2
}
