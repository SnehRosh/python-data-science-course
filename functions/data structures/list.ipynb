{
 "cells": [
  {
   "cell_type": "markdown",
   "metadata": {},
   "source": [
    "- Create\n",
    "- Indexing and slicing\n",
    "- Methods\n",
    "- Basic operations"
   ]
  },
  {
   "cell_type": "code",
   "execution_count": null,
   "metadata": {},
   "outputs": [],
   "source": [
    "x = [ ] #Empty list\n",
    "a = [1, 2,34, 5, 6] #Numerical List\n",
    "b = ['alex', 'alexa', 'alexis'] #text list\n",
    "c = ['alex', 12, 'alexa', 17,'alexis', 20] # Mixed List\n",
    "d = [[1,2],[3,4],[1,6,7,8]] #Nested List\n",
    "e = [[1,2],[3,4],[1,6]] #Nested List of Equal Length"
   ]
  },
  {
   "cell_type": "code",
   "execution_count": 3,
   "metadata": {},
   "outputs": [
    {
     "name": "stdout",
     "output_type": "stream",
     "text": [
      "[1, 1, 1, 1, 1, 1, 1, 1, 1, 1]\n",
      "[1, 2, 6, 1, 2, 6, 1, 2, 6]\n"
     ]
    }
   ],
   "source": [
    "w1 = [1]*10 #List Duplication\n",
    "print(w1)\n",
    " \n",
    "w2 =[1,2,6]*3\n",
    "print(w2)"
   ]
  },
  {
   "cell_type": "code",
   "execution_count": 7,
   "metadata": {},
   "outputs": [
    {
     "name": "stdout",
     "output_type": "stream",
     "text": [
      "[1, 2, 3, 4, 4, 6, 8, 10]\n",
      "[[1, 2, 3, 4], [4, 6, 8, 10]]\n"
     ]
    }
   ],
   "source": [
    "a = [1,2,3,4]\n",
    "b = [4,6,8,10] #List Contatination\n",
    "c = a + b\n",
    "print(c)\n",
    "\n",
    "d = [a, b] #Nested List\n",
    "print(d)"
   ]
  },
  {
   "cell_type": "code",
   "execution_count": 9,
   "metadata": {},
   "outputs": [
    {
     "data": {
      "text/plain": [
       "['One', 'for', 'all']"
      ]
     },
     "execution_count": 9,
     "metadata": {},
     "output_type": "execute_result"
    }
   ],
   "source": [
    "'One for all'.split() #Split string into list"
   ]
  },
  {
   "cell_type": "code",
   "execution_count": 1,
   "metadata": {},
   "outputs": [
    {
     "name": "stdout",
     "output_type": "stream",
     "text": [
      "[1, 3, 5]\n",
      "[2, 1, 7, 9]\n",
      "[6, 8, 4, 8, 4, 2]\n",
      "[1, 3, 5, 6, 8, 4, 8, 4, 2, 1, 7, 9]\n",
      "[9, 7, 1, 2, 4, 8, 4, 8, 6, 5, 3, 1]\n",
      "[1, 5, 8, 8, 2, 7]\n",
      "[3, 6, 4, 4, 1, 9]\n"
     ]
    }
   ],
   "source": [
    "x = [1,3,5,6,8,4,8,4,2,1,7,9]\n",
    "print(x[:3])\n",
    "print(x[-4:])\n",
    "print(x[3:-3])\n",
    "print(x)\n",
    "print(x[::-1])\n",
    "print(x[::2])\n",
    "print(x[1::2])"
   ]
  },
  {
   "cell_type": "code",
   "execution_count": 15,
   "metadata": {},
   "outputs": [
    {
     "name": "stdout",
     "output_type": "stream",
     "text": [
      "1\n",
      "9\n"
     ]
    }
   ],
   "source": [
    "print(x[0]) #First element\n",
    "print(x[-1]) #Last element "
   ]
  },
  {
   "cell_type": "code",
   "execution_count": 16,
   "metadata": {},
   "outputs": [
    {
     "name": "stdout",
     "output_type": "stream",
     "text": [
      "1\n",
      "3\n",
      "5\n",
      "6\n",
      "8\n",
      "4\n",
      "8\n",
      "4\n",
      "2\n",
      "1\n",
      "7\n",
      "9\n"
     ]
    }
   ],
   "source": [
    "#Traversal\n",
    "for i in x:\n",
    "    print(i)"
   ]
  },
  {
   "cell_type": "markdown",
   "metadata": {},
   "source": [
    "Methods\n",
    "- Add\n",
    "    - append\n",
    "    - extend\n",
    "    - insert\n",
    "- Remove\n",
    "    - remove\n",
    "    - pop\n",
    "    - clear\n",
    "- Helper\n",
    "    - index\n",
    "    - count\n",
    "    - sort\n",
    "    - reverse\n",
    "    - copy"
   ]
  },
  {
   "cell_type": "code",
   "execution_count": 18,
   "metadata": {},
   "outputs": [
    {
     "name": "stdout",
     "output_type": "stream",
     "text": [
      "['The Final Empire', 'The Well of ascesion', 'The Hero of ages', 'Warbreaker']\n"
     ]
    }
   ],
   "source": [
    "books = []\n",
    "books.append('The Final Empire')\n",
    "books.append('The Well of ascesion')\n",
    "books.append('The Hero of ages')\n",
    "books.append('Warbreaker')\n",
    "print(books)"
   ]
  },
  {
   "cell_type": "code",
   "execution_count": 21,
   "metadata": {},
   "outputs": [
    {
     "name": "stdout",
     "output_type": "stream",
     "text": [
      "['The Final Empire', 'The Way of Kings', 'The Way of Kings', 'The Way of Kings', 'Words of Radiance', 'The Well of ascesion', 'The Hero of ages', 'Warbreaker']\n"
     ]
    }
   ],
   "source": [
    "books.insert(1, 'The Way of Kings')\n",
    "books.insert(4, 'Words of Radiance')\n",
    "print(books)"
   ]
  },
  {
   "cell_type": "code",
   "execution_count": 26,
   "metadata": {},
   "outputs": [
    {
     "name": "stdout",
     "output_type": "stream",
     "text": [
      "['Twilight Saga: New Moon ', 'Twilight Saga: Eclipse ', 'The Wheel of Time ', 'THe Great Hunt ']\n"
     ]
    }
   ],
   "source": [
    "crappy_books = [\n",
    "    'Twilight Saga: New Moon ',\n",
    "    'Twilight Saga: Eclipse ',\n",
    "    'The Wheel of Time ',\n",
    "    'THe Great Hunt ',\n",
    "]\n",
    "print(crappy_books)"
   ]
  },
  {
   "cell_type": "code",
   "execution_count": 28,
   "metadata": {},
   "outputs": [
    {
     "name": "stdout",
     "output_type": "stream",
     "text": [
      "['The Final Empire', 'The Way of Kings', 'The Way of Kings', 'The Way of Kings', 'Words of Radiance', 'The Well of ascesion', 'The Hero of ages', 'Warbreaker', 'Twilight Saga: New MoonTwilight Saga: EclipseThe Wheel of TimeTHe Great Hunt', 'Twilight Saga: New Moon', 'Twilight Saga: Eclipse', 'The Wheel of Time', 'THe Great Hunt', 'Twilight Saga: New Moon ', 'Twilight Saga: Eclipse ', 'The Wheel of Time ', 'THe Great Hunt ', 'Twilight Saga: New Moon ', 'Twilight Saga: Eclipse ', 'The Wheel of Time ', 'THe Great Hunt ']\n"
     ]
    }
   ],
   "source": [
    "books.extend(crappy_books)\n",
    "print(books)"
   ]
  },
  {
   "cell_type": "code",
   "execution_count": 30,
   "metadata": {},
   "outputs": [
    {
     "name": "stdout",
     "output_type": "stream",
     "text": [
      "[1, 3, 46, 7, 3, 6, 8, 9]\n"
     ]
    }
   ],
   "source": [
    "nums = [1,3,46,7]\n",
    "more_nums = [3,6,8,9]\n",
    "nums.extend(more_nums)\n",
    "print(nums)"
   ]
  },
  {
   "cell_type": "code",
   "execution_count": 31,
   "metadata": {},
   "outputs": [
    {
     "name": "stdout",
     "output_type": "stream",
     "text": [
      "[[1, 3, 46, 7, 3, 6, 8, 9], [1, 3, 46, 7, 3, 6, 8, 9], [1, 3, 46, 7, 3, 6, 8, 9]]\n"
     ]
    }
   ],
   "source": [
    "num_matrix = [nums, nums, nums]\n",
    "print(num_matrix)"
   ]
  },
  {
   "cell_type": "code",
   "execution_count": 33,
   "metadata": {},
   "outputs": [
    {
     "name": "stdout",
     "output_type": "stream",
     "text": [
      "[1, 3, 46, 7, 3, 6, 8, 9, 3, 6, 8, 9]\n"
     ]
    }
   ],
   "source": [
    "all_num = nums + more_nums\n",
    "print(all_num)"
   ]
  },
  {
   "cell_type": "code",
   "execution_count": 1,
   "metadata": {},
   "outputs": [
    {
     "name": "stdout",
     "output_type": "stream",
     "text": [
      "['5', '6', '7', '8', '4']\n"
     ]
    }
   ],
   "source": [
    "u = []\n",
    "for i in range (5):\n",
    "    x = input('Enter the number')\n",
    "    a = u.append(x)\n",
    "print(u)"
   ]
  },
  {
   "cell_type": "code",
   "execution_count": 55,
   "metadata": {},
   "outputs": [
    {
     "name": "stdout",
     "output_type": "stream",
     "text": [
      "[6]\n",
      "6\n",
      "[6, 5]\n",
      "11\n",
      "[6, 5, 4]\n",
      "15\n",
      "[6, 5, 4, 8]\n",
      "23\n",
      "[6, 5, 4, 8, 2]\n",
      "25\n"
     ]
    }
   ],
   "source": [
    "u = []\n",
    "for i in range(5):\n",
    "    x = int(input('Enter numbers: '))\n",
    "    a = u.append(x)\n",
    "    print(u)\n",
    "    s = sum(u)    \n",
    "print(f'Total: {s}')\n"
   ]
  },
  {
   "cell_type": "code",
   "execution_count": 47,
   "metadata": {},
   "outputs": [],
   "source": [
    "books.remove('The Wheel of Time')"
   ]
  },
  {
   "cell_type": "code",
   "execution_count": 52,
   "metadata": {},
   "outputs": [],
   "source": [
    "def safe_remove(val_to_remove):\n",
    " if val_to_remove in books:\n",
    "    books.remove(val_to_remove)\n",
    "    print(f'✅ {val_to_remove} removed from list')\n",
    " else:\n",
    "    print(f'❌ Not found')"
   ]
  },
  {
   "cell_type": "code",
   "execution_count": 54,
   "metadata": {},
   "outputs": [
    {
     "name": "stdout",
     "output_type": "stream",
     "text": [
      "✅ The Hero of ages removed from list\n"
     ]
    }
   ],
   "source": [
    "safe_remove('The Hero of ages')"
   ]
  },
  {
   "cell_type": "code",
   "execution_count": 56,
   "metadata": {},
   "outputs": [
    {
     "data": {
      "text/plain": [
       "['The Final Empire',\n",
       " 'The Way of Kings',\n",
       " 'The Way of Kings',\n",
       " 'The Way of Kings',\n",
       " 'Words of Radiance',\n",
       " 'The Well of ascesion',\n",
       " 'Twilight Saga: New MoonTwilight Saga: EclipseThe Wheel of TimeTHe Great Hunt',\n",
       " 'Twilight Saga: New Moon',\n",
       " 'Twilight Saga: Eclipse',\n",
       " 'THe Great Hunt',\n",
       " 'Twilight Saga: New Moon ',\n",
       " 'Twilight Saga: Eclipse ',\n",
       " 'The Wheel of Time ',\n",
       " 'THe Great Hunt ',\n",
       " 'Twilight Saga: New Moon ',\n",
       " 'Twilight Saga: Eclipse ',\n",
       " 'The Wheel of Time ',\n",
       " 'THe Great Hunt ']"
      ]
     },
     "execution_count": 56,
     "metadata": {},
     "output_type": "execute_result"
    }
   ],
   "source": [
    "books"
   ]
  },
  {
   "cell_type": "code",
   "execution_count": 57,
   "metadata": {},
   "outputs": [
    {
     "data": {
      "text/plain": [
       "'THe Great Hunt '"
      ]
     },
     "execution_count": 57,
     "metadata": {},
     "output_type": "execute_result"
    }
   ],
   "source": [
    "books.pop() # Removes last element"
   ]
  },
  {
   "cell_type": "code",
   "execution_count": 58,
   "metadata": {},
   "outputs": [
    {
     "name": "stdout",
     "output_type": "stream",
     "text": [
      "The Way of Kings\n",
      "['The Final Empire', 'The Way of Kings', 'The Way of Kings', 'Words of Radiance', 'The Well of ascesion', 'Twilight Saga: New MoonTwilight Saga: EclipseThe Wheel of TimeTHe Great Hunt', 'Twilight Saga: New Moon', 'Twilight Saga: Eclipse', 'THe Great Hunt', 'Twilight Saga: New Moon ', 'Twilight Saga: Eclipse ', 'The Wheel of Time ', 'THe Great Hunt ', 'Twilight Saga: New Moon ', 'Twilight Saga: Eclipse ', 'The Wheel of Time ']\n"
     ]
    }
   ],
   "source": [
    "output = books.pop(1) # Remove element at index 1\n",
    "print(output)\n",
    "print(books)"
   ]
  },
  {
   "cell_type": "code",
   "execution_count": 2,
   "metadata": {},
   "outputs": [
    {
     "name": "stdout",
     "output_type": "stream",
     "text": [
      "[]\n"
     ]
    }
   ],
   "source": [
    "x.clear()\n",
    "print(x)"
   ]
  }
 ],
 "metadata": {
  "kernelspec": {
   "display_name": "base",
   "language": "python",
   "name": "python3"
  },
  "language_info": {
   "codemirror_mode": {
    "name": "ipython",
    "version": 3
   },
   "file_extension": ".py",
   "mimetype": "text/x-python",
   "name": "python",
   "nbconvert_exporter": "python",
   "pygments_lexer": "ipython3",
   "version": "3.11.4"
  },
  "orig_nbformat": 4
 },
 "nbformat": 4,
 "nbformat_minor": 2
}
