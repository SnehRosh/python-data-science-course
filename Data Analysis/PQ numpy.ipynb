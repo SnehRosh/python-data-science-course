{
 "cells": [
  {
   "cell_type": "code",
   "execution_count": 2,
   "metadata": {},
   "outputs": [],
   "source": [
    "import numpy as np"
   ]
  },
  {
   "cell_type": "code",
   "execution_count": 3,
   "metadata": {},
   "outputs": [
    {
     "name": "stdout",
     "output_type": "stream",
     "text": [
      "[[0 0]\n",
      " [0 0]\n",
      " [0 0]\n",
      " [0 0]\n",
      " [0 0]]\n"
     ]
    }
   ],
   "source": [
    "#1\n",
    "a = np.array([[0,0],\n",
    "             [0,0],\n",
    "             [0,0],\n",
    "             [0,0],\n",
    "             [0,0]])\n",
    "print(a)"
   ]
  },
  {
   "cell_type": "code",
   "execution_count": 4,
   "metadata": {},
   "outputs": [
    {
     "name": "stdout",
     "output_type": "stream",
     "text": [
      "[[1 1]\n",
      " [1 1]\n",
      " [1 1]\n",
      " [1 1]\n",
      " [1 1]]\n"
     ]
    }
   ],
   "source": [
    "#2\n",
    "a = np.array([[1,1],\n",
    "             [1,1],\n",
    "             [1,1],\n",
    "             [1,1],\n",
    "             [1,1]])\n",
    "print(a)"
   ]
  },
  {
   "cell_type": "code",
   "execution_count": 5,
   "metadata": {},
   "outputs": [
    {
     "name": "stdout",
     "output_type": "stream",
     "text": [
      "[[2 5 8]\n",
      " [4 6 6]\n",
      " [1 2 7]]\n"
     ]
    }
   ],
   "source": [
    "#3\n",
    "x = np.random.randint(1,9,(3,3))\n",
    "print(x)"
   ]
  },
  {
   "cell_type": "code",
   "execution_count": 6,
   "metadata": {},
   "outputs": [
    {
     "name": "stdout",
     "output_type": "stream",
     "text": [
      "[[7 1 2]\n",
      " [4 6 2]\n",
      " [5 5 6]]\n",
      "[[5 5 6]\n",
      " [4 6 2]\n",
      " [7 1 2]]\n"
     ]
    }
   ],
   "source": [
    "#4\n",
    "x = np.random.randint(1,9,(3,3))\n",
    "print(x)\n",
    "x = x[::-1]\n",
    "print(x)"
   ]
  },
  {
   "cell_type": "code",
   "execution_count": 7,
   "metadata": {},
   "outputs": [
    {
     "name": "stdout",
     "output_type": "stream",
     "text": [
      "[[ 6 20 12 34 18]\n",
      " [ 6 13  5 11 15]\n",
      " [ 8 49  5 20 25]\n",
      " [ 4 37 27 45 30]\n",
      " [ 7 41 42 47  0]]\n"
     ]
    },
    {
     "data": {
      "text/plain": [
       "array([13,  5, 11, 15, 49,  5, 25, 37, 27, 45,  7, 41, 47])"
      ]
     },
     "execution_count": 7,
     "metadata": {},
     "output_type": "execute_result"
    }
   ],
   "source": [
    "#5\n",
    "a = np.random.randint(0,50,(5,5))\n",
    "print(a)\n",
    "a[a%2!=0]\n"
   ]
  },
  {
   "cell_type": "code",
   "execution_count": 8,
   "metadata": {},
   "outputs": [
    {
     "name": "stdout",
     "output_type": "stream",
     "text": [
      "[[ 8 47 22 21 46]\n",
      " [34 34 30 35 40]\n",
      " [44 16 43 40 39]\n",
      " [ 7 37 47 14 10]\n",
      " [24  5  5 13 20]]\n",
      "27.24\n",
      "681\n",
      "5\n",
      "47\n",
      "14.255609422259015\n"
     ]
    }
   ],
   "source": [
    "#6\n",
    "a = np.random.randint(0,50,(5,5))\n",
    "print(a)\n",
    "print(a.mean())\n",
    "print(a.sum())\n",
    "print(a.min())\n",
    "print(a.max())\n",
    "print(a.std())\n"
   ]
  },
  {
   "cell_type": "code",
   "execution_count": 9,
   "metadata": {},
   "outputs": [
    {
     "name": "stdout",
     "output_type": "stream",
     "text": [
      "[[27 32 10 34 45]\n",
      " [25  1 24 11 11]\n",
      " [16  8 40  4 20]\n",
      " [24 29  8 13 19]\n",
      " [28 22  8 44 38]]\n",
      "Minimum Value: 1\n",
      "Maximum Value: 45\n"
     ]
    }
   ],
   "source": [
    "#7\n",
    "a = np.random.randint(0,50,(5,5))\n",
    "print(a)\n",
    "print(f'Minimum Value: {a.min()}')\n",
    "print(f'Maximum Value: {a.max()}')"
   ]
  },
  {
   "cell_type": "code",
   "execution_count": 10,
   "metadata": {},
   "outputs": [
    {
     "data": {
      "text/plain": [
       "array([[ 2, 18],\n",
       "       [ 8,  5]])"
      ]
     },
     "execution_count": 10,
     "metadata": {},
     "output_type": "execute_result"
    }
   ],
   "source": [
    "#8\n",
    "a=np.random.randint(0,20,(2,2))\n",
    "a"
   ]
  },
  {
   "cell_type": "code",
   "execution_count": 11,
   "metadata": {},
   "outputs": [
    {
     "name": "stdout",
     "output_type": "stream",
     "text": [
      "Matrix 1: \n",
      "[[0.36998469 0.5597563  0.51804799 0.44261661]\n",
      " [0.55881529 0.35992711 0.43350457 0.78632034]\n",
      " [0.7553246  0.30031644 0.40555015 0.91188938]\n",
      " [0.35290409 0.56086809 0.90016913 0.25109261]]\n",
      "Matrix 2: \n",
      "[[0.18834487 0.92590236 0.83305725 0.99157926]\n",
      " [0.69758578 0.68400269 0.01660813 0.88372905]\n",
      " [0.23491082 0.78725443 0.54702465 0.73366261]\n",
      " [0.92216927 0.65458697 0.20732288 0.03582567]]\n",
      "Mulitiplication of Matrix 1 and 2: \n",
      "[[0.06968472 0.51827967 0.43156363 0.43888945]\n",
      " [0.3898216  0.24619111 0.0071997  0.69489413]\n",
      " [0.17743393 0.23642545 0.22184593 0.66901915]\n",
      " [0.32543731 0.36713695 0.18662566 0.00899556]]\n"
     ]
    }
   ],
   "source": [
    "#9\n",
    "a = np.random.rand(4,4)\n",
    "b = np.random.rand(4,4)\n",
    "print(f'Matrix 1: \\n{a}')\n",
    "print(f'Matrix 2: \\n{b}')\n",
    "print(f'Mulitiplication of Matrix 1 and 2: \\n{a*b}')"
   ]
  },
  {
   "cell_type": "code",
   "execution_count": null,
   "metadata": {},
   "outputs": [],
   "source": [
    "#10"
   ]
  },
  {
   "cell_type": "code",
   "execution_count": 12,
   "metadata": {},
   "outputs": [
    {
     "name": "stdout",
     "output_type": "stream",
     "text": [
      "[[ 4 45]\n",
      " [29  9]]\n"
     ]
    },
    {
     "data": {
      "text/plain": [
       "array([45, 29,  9])"
      ]
     },
     "execution_count": 12,
     "metadata": {},
     "output_type": "execute_result"
    }
   ],
   "source": [
    "#11\n",
    "a = np.random.randint(0,50,(2,2))\n",
    "print(a)\n",
    "a[a%2!=0]"
   ]
  },
  {
   "cell_type": "code",
   "execution_count": 13,
   "metadata": {},
   "outputs": [
    {
     "name": "stdout",
     "output_type": "stream",
     "text": [
      "[[10 16]\n",
      " [27 27]]\n"
     ]
    },
    {
     "data": {
      "text/plain": [
       "array([10, 16])"
      ]
     },
     "execution_count": 13,
     "metadata": {},
     "output_type": "execute_result"
    }
   ],
   "source": [
    "#12\n",
    "a = np.random.randint(0,50,(2,2))\n",
    "print(a)\n",
    "a[a%2==0]"
   ]
  },
  {
   "cell_type": "code",
   "execution_count": 23,
   "metadata": {},
   "outputs": [
    {
     "name": "stdout",
     "output_type": "stream",
     "text": [
      "[[30 37 27 43 28  0]\n",
      " [42 19 36 40 33 49]\n",
      " [24 25 38 42 31 19]\n",
      " [21  3 14 47 27 15]\n",
      " [38  4 26 12 33 23]\n",
      " [ 2 23 39 11 36 31]]\n"
     ]
    },
    {
     "data": {
      "text/plain": [
       "array([[30, 37, 27, 43, 28],\n",
       "       [42, 19, 36, 40, 33],\n",
       "       [24, 25, 38, 42, 31]])"
      ]
     },
     "execution_count": 23,
     "metadata": {},
     "output_type": "execute_result"
    }
   ],
   "source": [
    "#13\n",
    "a = np.random.randint(0,50,(6,6))\n",
    "print(a)\n",
    "a[:3,:5]"
   ]
  },
  {
   "cell_type": "code",
   "execution_count": 25,
   "metadata": {},
   "outputs": [
    {
     "name": "stdout",
     "output_type": "stream",
     "text": [
      "[[10 12 47 14  3 27]\n",
      " [43 39 26 44 35 44]\n",
      " [24 11 11 35 16  8]\n",
      " [ 7 48 33  5 42  1]\n",
      " [29 14 29 43 44 37]\n",
      " [17 41 37 42 12 13]]\n",
      "[[17 41 37 42 12 13]\n",
      " [29 14 29 43 44 37]\n",
      " [ 7 48 33  5 42  1]\n",
      " [24 11 11 35 16  8]\n",
      " [43 39 26 44 35 44]\n",
      " [10 12 47 14  3 27]]\n"
     ]
    }
   ],
   "source": [
    "#14\n",
    "a = np.random.randint(0,50,(6,6))\n",
    "print(a)\n",
    "a = a[::-1]\n",
    "print(a)"
   ]
  },
  {
   "cell_type": "code",
   "execution_count": null,
   "metadata": {},
   "outputs": [],
   "source": [
    "#15\n"
   ]
  }
 ],
 "metadata": {
  "kernelspec": {
   "display_name": "base",
   "language": "python",
   "name": "python3"
  },
  "language_info": {
   "codemirror_mode": {
    "name": "ipython",
    "version": 3
   },
   "file_extension": ".py",
   "mimetype": "text/x-python",
   "name": "python",
   "nbconvert_exporter": "python",
   "pygments_lexer": "ipython3",
   "version": "3.11.4"
  }
 },
 "nbformat": 4,
 "nbformat_minor": 2
}
