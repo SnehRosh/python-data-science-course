{
 "cells": [
  {
   "cell_type": "code",
   "execution_count": 29,
   "metadata": {},
   "outputs": [],
   "source": [
    "x = {\n",
    "    'brand': \"Mahindra\",\n",
    "    'model': \"XUV\",\n",
    "    'Series': '500',\n",
    "    'Type' : 'Diesel',\n",
    "    'fuel capacity' : 30,\n",
    "    'mileage' : 10,\n",
    "    'color' : 'White',\n",
    "    'is_4wd' : True,\n",
    "    'colors' : ['Red','White','Black']\n",
    "    }"
   ]
  },
  {
   "cell_type": "code",
   "execution_count": 30,
   "metadata": {},
   "outputs": [],
   "source": [
    "info ={} #Empty dict"
   ]
  },
  {
   "cell_type": "markdown",
   "metadata": {},
   "source": [
    "- add items\n",
    "- update items\n",
    "- remove items\n",
    "- traverse items"
   ]
  },
  {
   "cell_type": "markdown",
   "metadata": {},
   "source": [
    "- how to add data\n",
    "```\n",
    "dict['new_key'] = new_value\n",
    "\n",
    "```"
   ]
  },
  {
   "cell_type": "code",
   "execution_count": 31,
   "metadata": {},
   "outputs": [
    {
     "data": {
      "text/plain": [
       "{'first_name': 'Henry'}"
      ]
     },
     "execution_count": 31,
     "metadata": {},
     "output_type": "execute_result"
    }
   ],
   "source": [
    "info['first_name'] = 'Henry'\n",
    "info"
   ]
  },
  {
   "cell_type": "code",
   "execution_count": 32,
   "metadata": {},
   "outputs": [
    {
     "name": "stdout",
     "output_type": "stream",
     "text": [
      "{'first_name': 'Henry', 'last_name': 'Sugar', 'age': 45, 'city': 'New York'}\n"
     ]
    }
   ],
   "source": [
    "#to Insert value\n",
    "info['last_name'] = 'Sugar'\n",
    "info['age'] = 45\n",
    "info['city'] = 'New York'\n",
    "print(info)"
   ]
  },
  {
   "cell_type": "code",
   "execution_count": 33,
   "metadata": {},
   "outputs": [
    {
     "name": "stdout",
     "output_type": "stream",
     "text": [
      "{'first_name': 'Henry', 'last_name': 'Sugar', 'age': 45, 'city': 'London'}\n"
     ]
    }
   ],
   "source": [
    "#To update value\n",
    "info['city'] = 'London'\n",
    "print(info)"
   ]
  },
  {
   "cell_type": "code",
   "execution_count": 34,
   "metadata": {},
   "outputs": [
    {
     "data": {
      "text/plain": [
       "45"
      ]
     },
     "execution_count": 34,
     "metadata": {},
     "output_type": "execute_result"
    }
   ],
   "source": [
    "#To remove data\n",
    "info.pop('age')"
   ]
  },
  {
   "cell_type": "markdown",
   "metadata": {},
   "source": [
    "- Extract Key Value\n",
    "    - dict.keys()\n",
    "    - dict.values()\n",
    "    - dict.items()"
   ]
  },
  {
   "cell_type": "code",
   "execution_count": 35,
   "metadata": {},
   "outputs": [
    {
     "data": {
      "text/plain": [
       "dict_keys(['first_name', 'last_name', 'city'])"
      ]
     },
     "execution_count": 35,
     "metadata": {},
     "output_type": "execute_result"
    }
   ],
   "source": [
    "info.keys()"
   ]
  },
  {
   "cell_type": "code",
   "execution_count": 36,
   "metadata": {},
   "outputs": [
    {
     "data": {
      "text/plain": [
       "dict_values(['Henry', 'Sugar', 'London'])"
      ]
     },
     "execution_count": 36,
     "metadata": {},
     "output_type": "execute_result"
    }
   ],
   "source": [
    "info.values()"
   ]
  },
  {
   "cell_type": "code",
   "execution_count": 37,
   "metadata": {},
   "outputs": [
    {
     "data": {
      "text/plain": [
       "dict_items([('first_name', 'Henry'), ('last_name', 'Sugar'), ('city', 'London')])"
      ]
     },
     "execution_count": 37,
     "metadata": {},
     "output_type": "execute_result"
    }
   ],
   "source": [
    "info.items()"
   ]
  },
  {
   "cell_type": "markdown",
   "metadata": {},
   "source": [
    "fetch data from dict\n",
    "```\n",
    "\n",
    "dict['key'] #throws error if key does not exist\n",
    "\n",
    "dict.get('key') # returns None if key dows not exists\n",
    "```"
   ]
  },
  {
   "cell_type": "code",
   "execution_count": 38,
   "metadata": {},
   "outputs": [
    {
     "data": {
      "text/plain": [
       "'Mahindra'"
      ]
     },
     "execution_count": 38,
     "metadata": {},
     "output_type": "execute_result"
    }
   ],
   "source": [
    "x['brand']"
   ]
  },
  {
   "cell_type": "code",
   "execution_count": 39,
   "metadata": {},
   "outputs": [
    {
     "name": "stdout",
     "output_type": "stream",
     "text": [
      "10\n",
      "['Red', 'White', 'Black']\n"
     ]
    }
   ],
   "source": [
    "print(x['mileage'])\n",
    "print(x['colors'])\n",
    "#print(x['price']) # Key Error"
   ]
  },
  {
   "cell_type": "code",
   "execution_count": 40,
   "metadata": {},
   "outputs": [
    {
     "name": "stdout",
     "output_type": "stream",
     "text": [
      "Mahindra\n",
      "XUV\n",
      "['Red', 'White', 'Black']\n",
      "None\n"
     ]
    }
   ],
   "source": [
    "print(x.get('brand'))\n",
    "print(x.get('model'))\n",
    "print(x.get('colors'))\n",
    "print(x.get('price'))"
   ]
  },
  {
   "cell_type": "markdown",
   "metadata": {},
   "source": [
    "traversing a dict"
   ]
  },
  {
   "cell_type": "code",
   "execution_count": 41,
   "metadata": {},
   "outputs": [
    {
     "name": "stdout",
     "output_type": "stream",
     "text": [
      "brand\n",
      "model\n",
      "Series\n",
      "Type\n",
      "fuel capacity\n",
      "mileage\n",
      "color\n",
      "is_4wd\n",
      "colors\n"
     ]
    }
   ],
   "source": [
    "for i in x:\n",
    "    print(i) # print keys"
   ]
  },
  {
   "cell_type": "code",
   "execution_count": 42,
   "metadata": {},
   "outputs": [
    {
     "name": "stdout",
     "output_type": "stream",
     "text": [
      "Mahindra\n",
      "XUV\n",
      "500\n",
      "Diesel\n",
      "30\n",
      "10\n",
      "White\n",
      "True\n",
      "['Red', 'White', 'Black']\n"
     ]
    }
   ],
   "source": [
    "for i in x:\n",
    "    print(x[i]) # print values"
   ]
  },
  {
   "cell_type": "code",
   "execution_count": 43,
   "metadata": {},
   "outputs": [
    {
     "name": "stdout",
     "output_type": "stream",
     "text": [
      "brand Mahindra\n",
      "model XUV\n",
      "Series 500\n",
      "Type Diesel\n",
      "fuel capacity 30\n",
      "mileage 10\n",
      "color White\n",
      "is_4wd True\n",
      "colors ['Red', 'White', 'Black']\n"
     ]
    }
   ],
   "source": [
    "for i in x:\n",
    "    print(i,x[i]) # print keys and values"
   ]
  },
  {
   "cell_type": "code",
   "execution_count": 44,
   "metadata": {},
   "outputs": [
    {
     "name": "stdout",
     "output_type": "stream",
     "text": [
      "brand --> Mahindra\n",
      "model --> XUV\n",
      "Series --> 500\n",
      "Type --> Diesel\n",
      "fuel capacity --> 30\n",
      "mileage --> 10\n",
      "color --> White\n",
      "is_4wd --> True\n",
      "colors --> ['Red', 'White', 'Black']\n"
     ]
    }
   ],
   "source": [
    "# best way to iterate over a dict\n",
    "for k, v in x.items():\n",
    "    print(k,'-->',v)"
   ]
  },
  {
   "cell_type": "code",
   "execution_count": 45,
   "metadata": {},
   "outputs": [],
   "source": [
    "data = {\n",
    "  \"sol_keys\": [], \n",
    "  \"validity_checks\": {\n",
    "    \"1219\": \n",
    "    {\n",
    "      \"AT\": {\"sol_hours_with_data\": [6, 7, 8, 9, 10, 11, 12], \n",
    "      \"valid\": False}, \n",
    "      \"HWS\": {\"sol_hours_with_data\": [6, 7, 8, 9, 10, 11, 12], \n",
    "      \"valid\": False}, \n",
    "      \"PRE\": {\"sol_hours_with_data\": [6, 7, 8, 9, 10, 11, 12], \n",
    "      \"valid\": False}, \n",
    "      \"WD\": {\"sol_hours_with_data\": [6, 7, 8, 9, 10, 11, 12], \n",
    "      \"valid\": False}\n",
    "    }, \n",
    "    \"sol_hours_required\": 18, \n",
    "    \"sols_checked\": [ \"1219\"]\n",
    "  }\n",
    "}"
   ]
  },
  {
   "cell_type": "code",
   "execution_count": 46,
   "metadata": {},
   "outputs": [
    {
     "data": {
      "text/plain": [
       "{'sol_keys': [],\n",
       " 'validity_checks': {'1219': {'AT': {'sol_hours_with_data': [6,\n",
       "     7,\n",
       "     8,\n",
       "     9,\n",
       "     10,\n",
       "     11,\n",
       "     12],\n",
       "    'valid': False},\n",
       "   'HWS': {'sol_hours_with_data': [6, 7, 8, 9, 10, 11, 12], 'valid': False},\n",
       "   'PRE': {'sol_hours_with_data': [6, 7, 8, 9, 10, 11, 12], 'valid': False},\n",
       "   'WD': {'sol_hours_with_data': [6, 7, 8, 9, 10, 11, 12], 'valid': False}},\n",
       "  'sol_hours_required': 18,\n",
       "  'sols_checked': ['1219']}}"
      ]
     },
     "execution_count": 46,
     "metadata": {},
     "output_type": "execute_result"
    }
   ],
   "source": [
    "data"
   ]
  },
  {
   "cell_type": "code",
   "execution_count": 47,
   "metadata": {},
   "outputs": [
    {
     "name": "stdout",
     "output_type": "stream",
     "text": [
      "sol_keys --> []\n",
      "validity_checks --> {'1219': {'AT': {'sol_hours_with_data': [6, 7, 8, 9, 10, 11, 12], 'valid': False}, 'HWS': {'sol_hours_with_data': [6, 7, 8, 9, 10, 11, 12], 'valid': False}, 'PRE': {'sol_hours_with_data': [6, 7, 8, 9, 10, 11, 12], 'valid': False}, 'WD': {'sol_hours_with_data': [6, 7, 8, 9, 10, 11, 12], 'valid': False}}, 'sol_hours_required': 18, 'sols_checked': ['1219']}\n",
      "1219 --> {'AT': {'sol_hours_with_data': [6, 7, 8, 9, 10, 11, 12], 'valid': False}, 'HWS': {'sol_hours_with_data': [6, 7, 8, 9, 10, 11, 12], 'valid': False}, 'PRE': {'sol_hours_with_data': [6, 7, 8, 9, 10, 11, 12], 'valid': False}, 'WD': {'sol_hours_with_data': [6, 7, 8, 9, 10, 11, 12], 'valid': False}}\n",
      "AT {'sol_hours_with_data': [6, 7, 8, 9, 10, 11, 12], 'valid': False}\n",
      "HWS {'sol_hours_with_data': [6, 7, 8, 9, 10, 11, 12], 'valid': False}\n",
      "PRE {'sol_hours_with_data': [6, 7, 8, 9, 10, 11, 12], 'valid': False}\n",
      "WD {'sol_hours_with_data': [6, 7, 8, 9, 10, 11, 12], 'valid': False}\n",
      "sol_hours_required --> 18\n",
      "sols_checked --> ['1219']\n"
     ]
    }
   ],
   "source": [
    "for k, v in data.items():\n",
    "    print(k,'-->',v)\n",
    "    if isinstance(v, dict):\n",
    "        for k1, v1 in v.items():\n",
    "            print(k1,'-->',v1)\n",
    "            if isinstance(v1, dict):\n",
    "                for k2, v2 in v1.items():\n",
    "                    print(k2, v2)"
   ]
  },
  {
   "cell_type": "code",
   "execution_count": 48,
   "metadata": {},
   "outputs": [
    {
     "name": "stdout",
     "output_type": "stream",
     "text": [
      "=sol_keys\n",
      "\t []\n",
      "=validity_checks\n",
      "=1219\n",
      "=AT\n",
      "=sol_hours_with_data\n",
      "\t [6, 7, 8, 9, 10, 11, 12]\n",
      "=valid\n",
      "\t False\n",
      "=HWS\n",
      "=sol_hours_with_data\n",
      "\t [6, 7, 8, 9, 10, 11, 12]\n",
      "=valid\n",
      "\t False\n",
      "=PRE\n",
      "=sol_hours_with_data\n",
      "\t [6, 7, 8, 9, 10, 11, 12]\n",
      "=valid\n",
      "\t False\n",
      "=WD\n",
      "=sol_hours_with_data\n",
      "\t [6, 7, 8, 9, 10, 11, 12]\n",
      "=valid\n",
      "\t False\n",
      "=sol_hours_required\n",
      "\t 18\n",
      "=sols_checked\n",
      "\t ['1219']\n"
     ]
    }
   ],
   "source": [
    "# recursive function\n",
    "def extract(d):\n",
    "    for k, v in d.items():\n",
    "        print(f'={k}')\n",
    "        if isinstance(v, dict):\n",
    "            extract(v)\n",
    "        else:\n",
    "            print('\\t',v)\n",
    "\n",
    "extract(data)"
   ]
  }
 ],
 "metadata": {
  "kernelspec": {
   "display_name": "base",
   "language": "python",
   "name": "python3"
  },
  "language_info": {
   "codemirror_mode": {
    "name": "ipython",
    "version": 3
   },
   "file_extension": ".py",
   "mimetype": "text/x-python",
   "name": "python",
   "nbconvert_exporter": "python",
   "pygments_lexer": "ipython3",
   "version": "3.11.4"
  },
  "orig_nbformat": 4
 },
 "nbformat": 4,
 "nbformat_minor": 2
}
