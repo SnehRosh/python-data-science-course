{
 "cells": [
  {
   "cell_type": "code",
   "execution_count": null,
   "metadata": {},
   "outputs": [],
   "source": [
    "import numpy as np\n",
    "import pandas as pd\n",
    "import seaborn as sns\n",
    "import matplotlib.pyplot as plt\n",
    "import plotly.express as px"
   ]
  },
  {
   "cell_type": "code",
   "execution_count": null,
   "metadata": {},
   "outputs": [],
   "source": [
    "pd.set_option('display.max_columns',None) # Optional - only for this example"
   ]
  },
  {
   "cell_type": "markdown",
   "metadata": {},
   "source": [
    "loading the file from excel\n",
    "\n",
    "sheet is different from the default one\n",
    "data has some not usefull records, which will be skipped"
   ]
  },
  {
   "cell_type": "code",
   "execution_count": null,
   "metadata": {},
   "outputs": [],
   "source": [
    "df = pd.read_excel('Canada.xlsx', sheet_name=1, skiprows=20, skipfooter=2)\n",
    "df.head()"
   ]
  },
  {
   "cell_type": "markdown",
   "metadata": {},
   "source": [
    "summarize data"
   ]
  },
  {
   "cell_type": "code",
   "execution_count": null,
   "metadata": {},
   "outputs": [],
   "source": [
    "df.info()"
   ]
  },
  {
   "cell_type": "markdown",
   "metadata": {},
   "source": [
    "check missing entry"
   ]
  },
  {
   "cell_type": "code",
   "execution_count": null,
   "metadata": {},
   "outputs": [],
   "source": [
    "df.isnull().sum()"
   ]
  },
  {
   "cell_type": "markdown",
   "metadata": {},
   "source": [
    "describe numerical data"
   ]
  },
  {
   "cell_type": "code",
   "execution_count": null,
   "metadata": {},
   "outputs": [],
   "source": [
    "df.describe() # by default numeric columns are considered"
   ]
  },
  {
   "cell_type": "markdown",
   "metadata": {},
   "source": [
    "check the names of numerical and categorical columns"
   ]
  },
  {
   "cell_type": "code",
   "execution_count": 95,
   "metadata": {},
   "outputs": [
    {
     "name": "stdout",
     "output_type": "stream",
     "text": [
      "columns with numeric data\n",
      "[1980, 1981, 1982, 1983, 1984, 1985, 1986, 1987, 1988, 1989, 1990, 1991, 1992, 1993, 1994, 1995, 1996, 1997, 1998, 1999, 2000, 2001, 2002, 2003, 2004, 2005, 2006, 2007, 2008, 2009, 2010, 2011, 2012, 2013, 'Total']\n",
      "columns with non numerica data\n",
      "['Continent', 'Region', 'Status']\n"
     ]
    }
   ],
   "source": [
    "print('columns with numeric data')\n",
    "print(df.select_dtypes(include='number').columns.tolist())\n",
    "print('columns with non numerica data')\n",
    "print(df.select_dtypes(exclude='number').columns.tolist())"
   ]
  },
  {
   "cell_type": "markdown",
   "metadata": {},
   "source": [
    "describe non-numerical data"
   ]
  },
  {
   "cell_type": "code",
   "execution_count": null,
   "metadata": {},
   "outputs": [],
   "source": [
    "df.describe(exclude='number')"
   ]
  },
  {
   "cell_type": "markdown",
   "metadata": {},
   "source": [
    "# data wrangling"
   ]
  },
  {
   "cell_type": "code",
   "execution_count": null,
   "metadata": {},
   "outputs": [],
   "source": [
    "df.head(10)"
   ]
  },
  {
   "cell_type": "markdown",
   "metadata": {},
   "source": [
    "Drop columns that are not required"
   ]
  },
  {
   "cell_type": "code",
   "execution_count": null,
   "metadata": {},
   "outputs": [],
   "source": [
    "cols_to_drop=['Type','Coverage','AREA','DEV','REG']\n",
    "df.drop(columns=cols_to_drop, inplace=True)\n",
    "df.head()"
   ]
  },
  {
   "cell_type": "markdown",
   "metadata": {},
   "source": [
    "renaming to columns to something meaningful"
   ]
  },
  {
   "cell_type": "code",
   "execution_count": null,
   "metadata": {},
   "outputs": [],
   "source": [
    "rename_dict={'OdName':'Country',\n",
    "             'AreaName': 'Continent',\n",
    "             'RegName':'Region',\n",
    "             'DevName':'Status'}\n",
    "df.rename(columns=rename_dict, inplace=True)\n",
    "df.head()\n"
   ]
  },
  {
   "cell_type": "markdown",
   "metadata": {},
   "source": [
    "add country wise total immigration"
   ]
  },
  {
   "cell_type": "code",
   "execution_count": null,
   "metadata": {},
   "outputs": [],
   "source": [
    "years = list(range(1980,2014))\n",
    "df['Total'] = df[years].sum(axis=1)\n",
    "df.head()"
   ]
  },
  {
   "cell_type": "markdown",
   "metadata": {},
   "source": [
    "since each country is unique, i will use country as index"
   ]
  },
  {
   "cell_type": "code",
   "execution_count": null,
   "metadata": {},
   "outputs": [],
   "source": [
    "df.set_index('Country', inplace=True)\n",
    "df.head()"
   ]
  },
  {
   "cell_type": "markdown",
   "metadata": {},
   "source": [
    "# Analysis\n",
    "- analyse a county's trend of immigration\n",
    "- Compare multiple countries trends\n",
    "- provide a trend comparing total immigration per year\n",
    "- compare top five country immigration trend"
   ]
  },
  {
   "cell_type": "code",
   "execution_count": null,
   "metadata": {},
   "outputs": [],
   "source": [
    "print(df.index.tolist())"
   ]
  },
  {
   "cell_type": "code",
   "execution_count": null,
   "metadata": {},
   "outputs": [],
   "source": [
    "df.head()"
   ]
  },
  {
   "cell_type": "code",
   "execution_count": null,
   "metadata": {},
   "outputs": [],
   "source": [
    "df.loc['Algeria',years].plot(kind='area',\n",
    "                             figsize=(15,5),\n",
    "                             title=\"India's immigration trend\",\n",
    "                             alpha=0.5)"
   ]
  },
  {
   "cell_type": "code",
   "execution_count": null,
   "metadata": {},
   "outputs": [],
   "source": [
    "countries=['India','Pakistan']\n",
    "df.loc[countries,years].T.plot(figsize=(15,5),kind='area',alpha=0.2,stacked=False)"
   ]
  },
  {
   "cell_type": "code",
   "execution_count": null,
   "metadata": {},
   "outputs": [],
   "source": [
    "df.sort_values(by='Total',ascending=False,inplace=True)"
   ]
  },
  {
   "cell_type": "code",
   "execution_count": null,
   "metadata": {},
   "outputs": [],
   "source": [
    "df.head()[years].T"
   ]
  },
  {
   "cell_type": "code",
   "execution_count": null,
   "metadata": {},
   "outputs": [],
   "source": [
    "countries=df.head().index.tolist()\n",
    "df.loc[countries,years]"
   ]
  },
  {
   "cell_type": "code",
   "execution_count": null,
   "metadata": {},
   "outputs": [],
   "source": [
    "df.head()[years].T.plot(figsize=(15,5),kind='area',stacked=False,alpha=0.2)"
   ]
  },
  {
   "cell_type": "code",
   "execution_count": null,
   "metadata": {},
   "outputs": [],
   "source": [
    "df.loc['Philippines',years].plot(figsize=(15,5))"
   ]
  },
  {
   "cell_type": "code",
   "execution_count": null,
   "metadata": {},
   "outputs": [],
   "source": [
    "df.loc['Philippines',years].mean()"
   ]
  },
  {
   "cell_type": "code",
   "execution_count": null,
   "metadata": {},
   "outputs": [],
   "source": [
    "df.loc['Philippines',years].plot(figsize=(15,5))\n",
    "plt.xticks(ticks=range(0,len(years)),labels=years,rotation=90)\n",
    "plt.text(0,30000,\"Philippines migration trend\",fontdict={'color':'red',\n",
    "                                                         'fontsize':'14'})\n",
    "plt.annotate(\"1993\\n immigration \\nspikes\",(13,20000),(8,25000),arrowprops={'arrowstyle':'->'})\n",
    "plt.annotate(\"2010 \\nimmigration \\nspikes\",(30,39000),(25,30000),arrowprops={'arrowstyle':'->'})\n",
    "plt.vlines(30,0,50000,linestyle=':')\n",
    "plt.vlines(13,0,50000,linestyle=':')\n",
    "plt.hlines(df.loc['Philippines',years].mean(),0,34,linestyles=\":\",colors='red')\n",
    "plt.text(0,df.loc['Philippines',years].mean()+600,\"Avg Immigration 15000/yr\")\n",
    "plt.show()"
   ]
  },
  {
   "cell_type": "code",
   "execution_count": null,
   "metadata": {},
   "outputs": [],
   "source": [
    "top5df = df.head()[years].T.copy()\n",
    "top5df.head()"
   ]
  },
  {
   "cell_type": "code",
   "execution_count": null,
   "metadata": {},
   "outputs": [],
   "source": [
    "px.area(top5df,x=top5df.index, y= ['India','China'])"
   ]
  },
  {
   "cell_type": "code",
   "execution_count": null,
   "metadata": {},
   "outputs": [],
   "source": [
    "df[years].sum()"
   ]
  },
  {
   "cell_type": "code",
   "execution_count": null,
   "metadata": {},
   "outputs": [],
   "source": [
    "year_wise_trend=df[years].sum()\n",
    "fig=px.funnel(year_wise_trend,year_wise_trend.index,\n",
    "              year_wise_trend.values,\n",
    "              title=\"Year wise immigration Trend\",\n",
    "              height=600)\n",
    "fig.show()"
   ]
  },
  {
   "cell_type": "code",
   "execution_count": null,
   "metadata": {},
   "outputs": [],
   "source": [
    "df.head()\n"
   ]
  },
  {
   "cell_type": "code",
   "execution_count": null,
   "metadata": {},
   "outputs": [],
   "source": [
    "px.choropleth(\n",
    "    data_frame=df,\n",
    "    locations=df.index,\n",
    "    locationmode='country names',\n",
    "    color='Total',\n",
    "    projection='orthographic',\n",
    "    color_continuous_scale='Rainbow',\n",
    "    height=600,\n",
    "    width=600\n",
    ")"
   ]
  },
  {
   "cell_type": "code",
   "execution_count": null,
   "metadata": {},
   "outputs": [],
   "source": [
    "px.sunburst(\n",
    "    data_frame=df,\n",
    "    path=['Continent','Status','Region'],\n",
    "    values='Total',\n",
    "    names=df.index\n",
    ")"
   ]
  },
  {
   "cell_type": "code",
   "execution_count": null,
   "metadata": {},
   "outputs": [],
   "source": [
    "px.treemap(\n",
    "    data_frame=df,\n",
    "    path=['Continent','Status','Region'],\n",
    "    values='Total',\n",
    "    names=df.index\n",
    ")"
   ]
  },
  {
   "cell_type": "code",
   "execution_count": null,
   "metadata": {},
   "outputs": [],
   "source": [
    "px.scatter_3d(\n",
    "    df,\n",
    "    x=1980,\n",
    "    y=1981,\n",
    "    z=1982,\n",
    ")"
   ]
  },
  {
   "cell_type": "code",
   "execution_count": null,
   "metadata": {},
   "outputs": [],
   "source": [
    "conti_df=df.groupby(by='Continent')[years].sum().T"
   ]
  },
  {
   "cell_type": "code",
   "execution_count": null,
   "metadata": {},
   "outputs": [],
   "source": [
    "px.line(conti_df,x=conti_df.index,y=conti_df.columns)"
   ]
  },
  {
   "cell_type": "code",
   "execution_count": null,
   "metadata": {},
   "outputs": [],
   "source": [
    "df"
   ]
  },
  {
   "cell_type": "code",
   "execution_count": null,
   "metadata": {},
   "outputs": [],
   "source": [
    "asia_df = df[df['Continent'] == 'Asia']\n",
    "asia_df"
   ]
  },
  {
   "cell_type": "code",
   "execution_count": null,
   "metadata": {},
   "outputs": [],
   "source": [
    "asia_df.groupby(by='Region')[years].sum().T.plot()"
   ]
  },
  {
   "cell_type": "code",
   "execution_count": null,
   "metadata": {},
   "outputs": [],
   "source": [
    "asia_df.groupby(by='Region')[years].sum()"
   ]
  },
  {
   "cell_type": "code",
   "execution_count": null,
   "metadata": {},
   "outputs": [],
   "source": [
    "eighties = df[list(range(1980,1990))].sum(axis=1)\n",
    "nineties = df[list(range(1990,2000))].sum(axis=1)\n",
    "nipata = df[list(range(2000,2010))].sum(axis=1)"
   ]
  },
  {
   "cell_type": "code",
   "execution_count": null,
   "metadata": {},
   "outputs": [],
   "source": [
    "decade_df=pd.DataFrame({\n",
    "    'eighties':eighties,\n",
    "    'nineties':nineties,\n",
    "    '2ks':nipata,\n",
    "}\n",
    ")\n",
    "decade_df"
   ]
  },
  {
   "cell_type": "code",
   "execution_count": null,
   "metadata": {},
   "outputs": [],
   "source": [
    "status_df=df.pivot_table(values='Total',\n",
    "                         index='Continent',\n",
    "                         columns='Status',\n",
    "                         aggfunc='sum')\n",
    "status_df"
   ]
  },
  {
   "cell_type": "code",
   "execution_count": null,
   "metadata": {},
   "outputs": [],
   "source": [
    "px.bar(status_df,x=status_df.index,y=status_df.columns)"
   ]
  },
  {
   "cell_type": "markdown",
   "metadata": {},
   "source": [
    "# clean data that has problems and customized"
   ]
  },
  {
   "cell_type": "code",
   "execution_count": 101,
   "metadata": {},
   "outputs": [
    {
     "data": {
      "text/html": [
       "<div>\n",
       "<style scoped>\n",
       "    .dataframe tbody tr th:only-of-type {\n",
       "        vertical-align: middle;\n",
       "    }\n",
       "\n",
       "    .dataframe tbody tr th {\n",
       "        vertical-align: top;\n",
       "    }\n",
       "\n",
       "    .dataframe thead th {\n",
       "        text-align: right;\n",
       "    }\n",
       "</style>\n",
       "<table border=\"1\" class=\"dataframe\">\n",
       "  <thead>\n",
       "    <tr style=\"text-align: right;\">\n",
       "      <th></th>\n",
       "      <th>sno</th>\n",
       "      <th>Names</th>\n",
       "      <th>Age</th>\n",
       "      <th>Pincode</th>\n",
       "    </tr>\n",
       "  </thead>\n",
       "  <tbody>\n",
       "    <tr>\n",
       "      <th>0</th>\n",
       "      <td>1</td>\n",
       "      <td>Ajay KumaR</td>\n",
       "      <td>45</td>\n",
       "      <td>202100</td>\n",
       "    </tr>\n",
       "    <tr>\n",
       "      <th>1</th>\n",
       "      <td>2</td>\n",
       "      <td>RAju Singh</td>\n",
       "      <td>34</td>\n",
       "      <td>230510al</td>\n",
       "    </tr>\n",
       "    <tr>\n",
       "      <th>2</th>\n",
       "      <td>3</td>\n",
       "      <td>VIKAS narayan ?</td>\n",
       "      <td>12</td>\n",
       "      <td>123311</td>\n",
       "    </tr>\n",
       "    <tr>\n",
       "      <th>3</th>\n",
       "      <td>4</td>\n",
       "      <td>Smarth Singh</td>\n",
       "      <td>NaN</td>\n",
       "      <td>293199</td>\n",
       "    </tr>\n",
       "    <tr>\n",
       "      <th>4</th>\n",
       "      <td>5</td>\n",
       "      <td>Vijay NiGAM</td>\n",
       "      <td>12</td>\n",
       "      <td>asd899212</td>\n",
       "    </tr>\n",
       "    <tr>\n",
       "      <th>5</th>\n",
       "      <td>6</td>\n",
       "      <td>Suresh PANDEY</td>\n",
       "      <td>A12</td>\n",
       "      <td>NaN</td>\n",
       "    </tr>\n",
       "    <tr>\n",
       "      <th>6</th>\n",
       "      <td>7</td>\n",
       "      <td>VIMLESH kumar</td>\n",
       "      <td>32?</td>\n",
       "      <td>343234</td>\n",
       "    </tr>\n",
       "    <tr>\n",
       "      <th>7</th>\n",
       "      <td>8</td>\n",
       "      <td>Sunil Singh</td>\n",
       "      <td>NaN</td>\n",
       "      <td>NaN</td>\n",
       "    </tr>\n",
       "    <tr>\n",
       "      <th>8</th>\n",
       "      <td>9</td>\n",
       "      <td>Amir ali</td>\n",
       "      <td>56</td>\n",
       "      <td>NaN</td>\n",
       "    </tr>\n",
       "    <tr>\n",
       "      <th>9</th>\n",
       "      <td>10</td>\n",
       "      <td>Vimal KuMar..</td>\n",
       "      <td>56</td>\n",
       "      <td>NaN</td>\n",
       "    </tr>\n",
       "  </tbody>\n",
       "</table>\n",
       "</div>"
      ],
      "text/plain": [
       "   sno            Names  Age    Pincode\n",
       "0    1       Ajay KumaR   45     202100\n",
       "1    2       RAju Singh   34   230510al\n",
       "2    3  VIKAS narayan ?   12     123311\n",
       "3    4     Smarth Singh  NaN     293199\n",
       "4    5      Vijay NiGAM   12  asd899212\n",
       "5    6    Suresh PANDEY  A12        NaN\n",
       "6    7    VIMLESH kumar  32?     343234\n",
       "7    8      Sunil Singh  NaN        NaN\n",
       "8    9         Amir ali   56        NaN\n",
       "9   10    Vimal KuMar..   56        NaN"
      ]
     },
     "execution_count": 101,
     "metadata": {},
     "output_type": "execute_result"
    }
   ],
   "source": [
    "df1=pd.read_excel('bahut_kharab_data.xlsx')\n",
    "df1"
   ]
  },
  {
   "cell_type": "code",
   "execution_count": 104,
   "metadata": {},
   "outputs": [],
   "source": [
    "from string import ascii_letters\n",
    "def clean_names(name):\n",
    "    if isinstance(name,str):\n",
    "        clean_name=''\n",
    "        for c in name:\n",
    "            if c in ascii_letters+\"\":\n",
    "                clean_name += c\n",
    "        #print(\"original :\",name)\n",
    "        #print(\"cleaned:\",clean_name)\n",
    "        return clean_name.title().strip()\n",
    "    else:\n",
    "        return np.nan"
   ]
  },
  {
   "cell_type": "code",
   "execution_count": 105,
   "metadata": {},
   "outputs": [
    {
     "data": {
      "text/plain": [
       "0       Ajaykumar\n",
       "1       Rajusingh\n",
       "2    Vikasnarayan\n",
       "3     Smarthsingh\n",
       "4      Vijaynigam\n",
       "5    Sureshpandey\n",
       "6    Vimleshkumar\n",
       "7      Sunilsingh\n",
       "8         Amirali\n",
       "9      Vimalkumar\n",
       "Name: Names, dtype: object"
      ]
     },
     "execution_count": 105,
     "metadata": {},
     "output_type": "execute_result"
    }
   ],
   "source": [
    "df1['Names'].apply(clean_names)"
   ]
  },
  {
   "cell_type": "code",
   "execution_count": 107,
   "metadata": {},
   "outputs": [],
   "source": [
    "def clean_age(age):\n",
    "    if age == np.nan:\n",
    "        return np.nan\n",
    "    if isinstance(age,str):\n",
    "        clean_age=''\n",
    "        for c in age:\n",
    "            if c in '0123456789':\n",
    "                clean_age += c\n",
    "        return int(clean_age)\n",
    "    elif isinstance(age,(int,float)):\n",
    "        return age\n",
    "    else:\n",
    "        return np.nan   "
   ]
  },
  {
   "cell_type": "code",
   "execution_count": 109,
   "metadata": {},
   "outputs": [
    {
     "data": {
      "text/html": [
       "<div>\n",
       "<style scoped>\n",
       "    .dataframe tbody tr th:only-of-type {\n",
       "        vertical-align: middle;\n",
       "    }\n",
       "\n",
       "    .dataframe tbody tr th {\n",
       "        vertical-align: top;\n",
       "    }\n",
       "\n",
       "    .dataframe thead th {\n",
       "        text-align: right;\n",
       "    }\n",
       "</style>\n",
       "<table border=\"1\" class=\"dataframe\">\n",
       "  <thead>\n",
       "    <tr style=\"text-align: right;\">\n",
       "      <th></th>\n",
       "      <th>sno</th>\n",
       "      <th>Names</th>\n",
       "      <th>Age</th>\n",
       "      <th>Pincode</th>\n",
       "    </tr>\n",
       "  </thead>\n",
       "  <tbody>\n",
       "    <tr>\n",
       "      <th>0</th>\n",
       "      <td>1</td>\n",
       "      <td>Ajay KumaR</td>\n",
       "      <td>45.0</td>\n",
       "      <td>202100</td>\n",
       "    </tr>\n",
       "    <tr>\n",
       "      <th>1</th>\n",
       "      <td>2</td>\n",
       "      <td>RAju Singh</td>\n",
       "      <td>34.0</td>\n",
       "      <td>230510al</td>\n",
       "    </tr>\n",
       "    <tr>\n",
       "      <th>2</th>\n",
       "      <td>3</td>\n",
       "      <td>VIKAS narayan ?</td>\n",
       "      <td>12.0</td>\n",
       "      <td>123311</td>\n",
       "    </tr>\n",
       "    <tr>\n",
       "      <th>3</th>\n",
       "      <td>4</td>\n",
       "      <td>Smarth Singh</td>\n",
       "      <td>NaN</td>\n",
       "      <td>293199</td>\n",
       "    </tr>\n",
       "    <tr>\n",
       "      <th>4</th>\n",
       "      <td>5</td>\n",
       "      <td>Vijay NiGAM</td>\n",
       "      <td>12.0</td>\n",
       "      <td>asd899212</td>\n",
       "    </tr>\n",
       "    <tr>\n",
       "      <th>5</th>\n",
       "      <td>6</td>\n",
       "      <td>Suresh PANDEY</td>\n",
       "      <td>12.0</td>\n",
       "      <td>NaN</td>\n",
       "    </tr>\n",
       "    <tr>\n",
       "      <th>6</th>\n",
       "      <td>7</td>\n",
       "      <td>VIMLESH kumar</td>\n",
       "      <td>32.0</td>\n",
       "      <td>343234</td>\n",
       "    </tr>\n",
       "    <tr>\n",
       "      <th>7</th>\n",
       "      <td>8</td>\n",
       "      <td>Sunil Singh</td>\n",
       "      <td>NaN</td>\n",
       "      <td>NaN</td>\n",
       "    </tr>\n",
       "    <tr>\n",
       "      <th>8</th>\n",
       "      <td>9</td>\n",
       "      <td>Amir ali</td>\n",
       "      <td>56.0</td>\n",
       "      <td>NaN</td>\n",
       "    </tr>\n",
       "    <tr>\n",
       "      <th>9</th>\n",
       "      <td>10</td>\n",
       "      <td>Vimal KuMar..</td>\n",
       "      <td>56.0</td>\n",
       "      <td>NaN</td>\n",
       "    </tr>\n",
       "  </tbody>\n",
       "</table>\n",
       "</div>"
      ],
      "text/plain": [
       "   sno            Names   Age    Pincode\n",
       "0    1       Ajay KumaR  45.0     202100\n",
       "1    2       RAju Singh  34.0   230510al\n",
       "2    3  VIKAS narayan ?  12.0     123311\n",
       "3    4     Smarth Singh   NaN     293199\n",
       "4    5      Vijay NiGAM  12.0  asd899212\n",
       "5    6    Suresh PANDEY  12.0        NaN\n",
       "6    7    VIMLESH kumar  32.0     343234\n",
       "7    8      Sunil Singh   NaN        NaN\n",
       "8    9         Amir ali  56.0        NaN\n",
       "9   10    Vimal KuMar..  56.0        NaN"
      ]
     },
     "execution_count": 109,
     "metadata": {},
     "output_type": "execute_result"
    }
   ],
   "source": [
    "df1['Age']=df1['Age'].apply(clean_age)\n",
    "df1"
   ]
  }
 ],
 "metadata": {
  "kernelspec": {
   "display_name": "base",
   "language": "python",
   "name": "python3"
  },
  "language_info": {
   "codemirror_mode": {
    "name": "ipython",
    "version": 3
   },
   "file_extension": ".py",
   "mimetype": "text/x-python",
   "name": "python",
   "nbconvert_exporter": "python",
   "pygments_lexer": "ipython3",
   "version": "3.11.4"
  }
 },
 "nbformat": 4,
 "nbformat_minor": 2
}
