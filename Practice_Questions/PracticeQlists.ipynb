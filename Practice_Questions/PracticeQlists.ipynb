{
 "cells": [
  {
   "cell_type": "code",
   "execution_count": null,
   "metadata": {},
   "outputs": [],
   "source": [
    "# Q1\n",
    "r = int(input(\"Enter number of elements you want to enter\"))\n",
    "l = []\n",
    "for i in range (r):\n",
    " u = int(input(\"Enter Number\"))\n",
    " l.append(u)\n",
    "print(l)"
   ]
  },
  {
   "cell_type": "code",
   "execution_count": null,
   "metadata": {},
   "outputs": [],
   "source": [
    "# Q2\n",
    "user_in = int(input(\"Enter Integer to find in the list: \"))\n",
    "l1 = [2,5,7,9,0,8,4,3,2,4,22,4,6,7,8,9,8]\n",
    "idx = l1.index(user_in)\n",
    "if user_in in l1:\n",
    "    print(f'{user_in} found at {idx}')\n",
    "else:\n",
    "   print(f'{user_in} not found')\n"
   ]
  },
  {
   "cell_type": "code",
   "execution_count": null,
   "metadata": {},
   "outputs": [],
   "source": [
    "# Q3\n",
    "ns = int(input('Enter the number of strings'))\n",
    "l = []\n",
    "for i in range(ns):\n",
    " st = input(\"Enter the strings\")\n",
    " l.append(st)\n",
    "print(l)\n",
    "l.sort()\n",
    "print(f'Alphabeticall sorted string: \\n {l}')"
   ]
  },
  {
   "cell_type": "code",
   "execution_count": null,
   "metadata": {},
   "outputs": [],
   "source": [
    "# Q4\n",
    "inte = int(input('The number of integers you want to Enter: '))\n",
    "intl = []\n",
    "for i in range(inte):\n",
    "    innum = int(input('Enter numbers: '))\n",
    "    intl.append(innum)\n",
    "print(intl)\n",
    "print(f'Maximum element of the list is: {max(intl)}')"
   ]
  },
  {
   "cell_type": "code",
   "execution_count": null,
   "metadata": {},
   "outputs": [],
   "source": [
    "# Q5\n",
    "l1 = int(input('Enter number of elements you want to store in first list: '))\n",
    "l1b = []\n",
    "for i in range(l1):\n",
    " l1n = int(input('Input numbers in list 1: '))\n",
    " l1b.append(l1n)\n",
    "print(l1b)\n",
    "l1b = (set(l1b))\n",
    "l2 = int(input('Enter number of elements you want to store in second list: '))\n",
    "l2b = []\n",
    "for j in range(l2):\n",
    " l2n = int(input('Enter numbers in list 2: '))\n",
    " l2b.append(l2n)\n",
    "print(l2b)\n",
    "l2b = (set(l2b))\n",
    "\n",
    "fl = list(l1b.intersection(l2b))\n",
    "print(f'Common elements of both the lists are: {fl}')"
   ]
  },
  {
   "cell_type": "code",
   "execution_count": null,
   "metadata": {},
   "outputs": [],
   "source": [
    "# Q6\n",
    "ls1 = int(input('Enter the number of strings you want to store: '))\n",
    "lsb = []\n",
    "for i in range(ls1):\n",
    "    ist = input('Enter Strings: ')\n",
    "    lsb.append(ist)\n",
    "print(lsb)\n"
   ]
  },
  {
   "cell_type": "code",
   "execution_count": null,
   "metadata": {},
   "outputs": [],
   "source": [
    "# Q7\n",
    "ls1 = int(input('Enter the number of elements: '))\n",
    "lsb = []\n",
    "for i in range(ls1):\n",
    "    lsn = int(input('Enter numbers: '))\n",
    "    lsb.append(lsn)\n",
    "print(lsb)\n",
    "ap = [i**2 for i in lsb]\n",
    "print(f'Nested List {ap}')"
   ]
  },
  {
   "cell_type": "code",
   "execution_count": null,
   "metadata": {},
   "outputs": [],
   "source": [
    "print(ap[1])"
   ]
  },
  {
   "cell_type": "code",
   "execution_count": null,
   "metadata": {},
   "outputs": [],
   "source": [
    "# Q7\n",
    "list1 = [2,5,7,8,3,8,9,4,6,1]\n",
    "list2 = [4,6,8,9,1,2,4,8,9,0]\n",
    "list3 = [4,8,1,2,4,9,7]\n",
    "final_list = [list1, list2, list3]\n",
    "print(final_list)\n",
    "print(final_list[1][3])"
   ]
  },
  {
   "cell_type": "code",
   "execution_count": null,
   "metadata": {},
   "outputs": [],
   "source": [
    "#Q8\n",
    "list_input = int(input('Enter the number of Elements you want to enter in list: '))\n",
    "emp_list = []\n",
    "for i in range(list_input):\n",
    "    el_list = int(input('Enter elements in list: '))\n",
    "    emp_list.append(el_list)\n",
    "print(list(set(emp_list)))\n"
   ]
  },
  {
   "cell_type": "code",
   "execution_count": null,
   "metadata": {},
   "outputs": [],
   "source": [
    "#Q9\n",
    "nlist = int(input('Enter number of string you want to enter: '))\n",
    "emp_list = []\n",
    "for i in range(nlist):\n",
    "    slist = input('Enter strings in list: ')\n",
    "    emp_list.append(slist)\n",
    "print(emp_list)\n",
    "sub_string = input('Enter string to remove: ')\n",
    "l_list = []\n",
    "for j in emp_list:            \n",
    "            l_list.append(j.replace(sub_string, ''))\n",
    "print(f'{sub_string} removed \\nList after removed item: {l_list}')"
   ]
  },
  {
   "cell_type": "code",
   "execution_count": null,
   "metadata": {},
   "outputs": [],
   "source": [
    "# Q 9\n",
    "nlist = int(input('Enter number of string you want to enter: '))\n",
    "emp_list = []\n",
    "for i in range(nlist):\n",
    "    slist = input('Enter strings in list: ')\n",
    "    emp_list.append(slist)\n",
    "print(emp_list)\n",
    "res = max(emp_list, key=len)\n",
    "print(f'String with Maximum length in the list is:\\n {res}')"
   ]
  },
  {
   "cell_type": "code",
   "execution_count": null,
   "metadata": {},
   "outputs": [],
   "source": [
    "# Q 10\n",
    "in_list = int(input('Enter number of integers you want to enter'))\n",
    "emp_list = []\n",
    "total = 0\n",
    "for i in range(in_list):\n",
    "    add_list = int(input('Add elements in the list: '))\n",
    "    emp_list.append(add_list)\n",
    "for j in emp_list:\n",
    "    if j % 2 == 0:\n",
    "        total += j\n",
    "print(emp_list)\n",
    "print(f'Sum of even numbers in the list: {total}')"
   ]
  },
  {
   "cell_type": "code",
   "execution_count": null,
   "metadata": {},
   "outputs": [],
   "source": [
    "# Q 11\n",
    "in_list = int(input('Enter number of integers you want to enter'))\n",
    "emp_list = []\n",
    "for i in range(in_list):\n",
    "    add_list = int(input('Add elements in the list: '))\n",
    "    emp_list.append(add_list)\n",
    "print(emp_list)\n",
    "r_list = int(input('Enter number to remove from list: '))\n",
    "if r_list in emp_list: \n",
    " emp_list.remove(r_list)\n",
    " print(f'{r_list} removed')\n",
    "print(emp_list)\n"
   ]
  },
  {
   "cell_type": "code",
   "execution_count": null,
   "metadata": {},
   "outputs": [],
   "source": [
    "# Q 11\n",
    "in_list = int(input('Enter number of integers you want to enter'))\n",
    "emp_list = []\n",
    "for i in range(in_list):\n",
    "    add_list = int(input('Add elements in the list: '))\n",
    "    emp_list.append(add_list)\n",
    "print(emp_list)\n",
    "r_list = int(input('Enter the position at which you want to remove the element : '))\n",
    "if r_list in emp_list: \n",
    " emp_list.remove(emp_list[r_list])\n",
    " print(f'element at {r_list} is removed')\n",
    "print(emp_list)"
   ]
  },
  {
   "cell_type": "code",
   "execution_count": null,
   "metadata": {},
   "outputs": [],
   "source": [
    "#Q 12\n",
    "n_string = int(input('Enter the number of strings you want to add: '))\n",
    "emp_list = []\n",
    "for i in range(n_string):\n",
    "    el_list = input('Enter string')\n",
    "    emp_list.append(el_list)\n",
    "print(emp_list)\n",
    "print(' '.join(emp_list))\n"
   ]
  },
  {
   "cell_type": "code",
   "execution_count": null,
   "metadata": {},
   "outputs": [],
   "source": [
    "# Q 13\n",
    "x = [11,3,5,6,3,5,3,2,1,5,7,]\n",
    "print(f'Original List: \\n  {x}')\n",
    "x.sort()\n",
    "print(f'Sorted List: \\n {x}')\n",
    "n = len(x)\n",
    "if n % 2 == 0:\n",
    "    m = (x[n//2 -1] + x[n/2])/2\n",
    "else: \n",
    "    m = x[n//2]\n",
    "print(f'Median of list is: {m}')\n"
   ]
  },
  {
   "cell_type": "code",
   "execution_count": null,
   "metadata": {},
   "outputs": [],
   "source": [
    "#Q 14\n",
    "n_string = int(input('Enter the number of strings you want to add: '))\n",
    "emp_list = []\n",
    "for i in range(n_string):\n",
    "    el_list = input('Enter string')\n",
    "    emp_list.append(el_list)\n",
    "print(emp_list)\n",
    "remp_list = []\n",
    "for j in emp_list:\n",
    "    remp_list.append(j[::-1])\n",
    "print(remp_list)"
   ]
  },
  {
   "cell_type": "code",
   "execution_count": 3,
   "metadata": {},
   "outputs": [
    {
     "name": "stdout",
     "output_type": "stream",
     "text": [
      "[69, 78, 56]\n",
      "Length of List: 3\n",
      "Sum of elements in the list: 203\n",
      "Average of the elements in the list: 67.66666666666667\n"
     ]
    }
   ],
   "source": [
    "#Q 15\n",
    "n_string = int(input('Enter the number of strings you want to add: '))\n",
    "emp_list = []\n",
    "for i in range(n_string):\n",
    "    el_list = int(input('Enter numbers: '))\n",
    "    emp_list.append(el_list)\n",
    "print(emp_list)\n",
    "l = len(emp_list)\n",
    "print(f'Length of List: {l}')\n",
    "total = sum(emp_list)\n",
    "print(f'Sum of elements in the list: {total}')\n",
    "avg = total/l\n",
    "print(f'Average of the elements in the list: {avg}')\n"
   ]
  },
  {
   "cell_type": "code",
   "execution_count": null,
   "metadata": {},
   "outputs": [],
   "source": [
    "# Q 16\n",
    "n_string = int(input('Enter the number of strings you want to add: '))\n",
    "emp_list = []\n",
    "for i in range(n_string):\n",
    "    el_list = int(input('Enter numbers: '))\n",
    "    emp_list.append(el_list)\n",
    "print(emp_list)\n",
    "idx_num = int(input('Enter element to find the index: '))\n",
    "emp_list.index(idx_num)"
   ]
  },
  {
   "cell_type": "code",
   "execution_count": null,
   "metadata": {},
   "outputs": [],
   "source": [
    "# Q 17\n",
    "n_string = int(input('Enter the number of strings you want to add: '))\n",
    "emp_list = []\n",
    "for i in range(n_string):\n",
    "    el_list = (input('Enter strings: '))\n",
    "    emp_list.append(el_list)\n",
    "print(emp_list)\n",
    "new_list = []\n",
    "for j in emp_list:\n",
    "    string = ''.join(list(map(lambda x: x.strip(), j.split())))\n",
    "    new_list.append(string)\n",
    "print(new_list)"
   ]
  },
  {
   "cell_type": "code",
   "execution_count": null,
   "metadata": {},
   "outputs": [],
   "source": [
    "# Q 18\n",
    "n_string = int(input('Enter the number of strings you want to add: '))\n",
    "emp_list = []\n",
    "for i in range(n_string):\n",
    "    el_list = int(input('Enter numbers: '))\n",
    "    emp_list.append(el_list)\n",
    "print(emp_list)\n",
    "emp_list.sort(reverse=True)\n",
    "print(emp_list)\n"
   ]
  },
  {
   "cell_type": "code",
   "execution_count": null,
   "metadata": {},
   "outputs": [],
   "source": [
    "# Q 19\n",
    "n_string = int(input('Enter the number of strings you want to add: '))\n",
    "emp_list = []\n",
    "for i in range(n_string):\n",
    "    el_list = int(input('Enter numbers: '))\n",
    "    emp_list.append(el_list)\n",
    "print(emp_list)\n",
    "new_input = int(input('Enter number to add in the list: '))\n",
    "emp_list.insert(0, new_input)\n",
    "print(emp_list)"
   ]
  },
  {
   "cell_type": "code",
   "execution_count": null,
   "metadata": {},
   "outputs": [],
   "source": [
    "# Q 20\n",
    "n1_string = int(input('Enter the number of integers you want to add in list 1: '))\n",
    "emp_list1 = []\n",
    "for i in range(n1_string):\n",
    "    el_list1 = int(input('Enter numbers: '))\n",
    "    emp_list1.append(el_list1)\n",
    "print(f'Elements of list 1: \\n{emp_list1}')\n",
    "n2_string = int(input('Enter the number of integers you want to add in list 2: '))\n",
    "emp_list2 = []\n",
    "for j in range(n2_string):\n",
    "    el_list2 = int(input('Enter numbers: '))\n",
    "    emp_list2.append(el_list2)\n",
    "print(f'Elements of list 2: \\n{emp_list2}')\n",
    "final_list = emp_list1 +emp_list2\n",
    "print(f'Elements of final list: \\n{final_list}')"
   ]
  },
  {
   "cell_type": "code",
   "execution_count": null,
   "metadata": {},
   "outputs": [],
   "source": [
    "# Q 21\n",
    "x = int(input('Enter number of integers you want to store in the list: '))\n",
    "xl = []\n",
    "for i in range(x):\n",
    "    xn = int(input('Enter numbers to add in the list: '))\n",
    "    xl.append(xn)\n",
    "print(xl)\n",
    "square_list = list(map(lambda x :x**2, xl))\n",
    "print(square_list)"
   ]
  },
  {
   "cell_type": "code",
   "execution_count": null,
   "metadata": {},
   "outputs": [],
   "source": [
    "# Q 22\n",
    "x = int(input('Enter number of integers you want to store in the list: '))\n",
    "xl = []\n",
    "for i in range(x):\n",
    "    xn = int(input('Enter numbers to add in the list: '))\n",
    "    xl.append(xn)\n",
    "print(xl)\n",
    "l_strings = list(map(lambda x : str(x),xl))\n",
    "print(l_strings)"
   ]
  },
  {
   "cell_type": "code",
   "execution_count": null,
   "metadata": {},
   "outputs": [],
   "source": [
    "# Q 23\n",
    "x = int(input('Enter number of integers you want to store in the list: '))\n",
    "xl = []\n",
    "for i in range(x):\n",
    "    xn = int(input('Enter numbers to add in the list: '))\n",
    "    xl.append(xn)\n",
    "print(xl)\n",
    "add_list = (map(lambda x :x+10, xl))\n",
    "print(list(add_list))"
   ]
  },
  {
   "cell_type": "code",
   "execution_count": null,
   "metadata": {},
   "outputs": [],
   "source": [
    "# Q 25 (Print the first letter of given string using lambda and map function)\n",
    "n_string = int(input('Enter the number of strings you want to add: '))\n",
    "emp_list = []\n",
    "for i in range(n_string):\n",
    "    el_list = (input('Enter strings: '))\n",
    "    emp_list.append(el_list)\n",
    "print(emp_list)\n",
    "f_letter = list(map(lambda fn: fn[0],emp_list))\n",
    "print(f_letter)"
   ]
  },
  {
   "cell_type": "code",
   "execution_count": null,
   "metadata": {},
   "outputs": [],
   "source": [
    "# Q 26\n",
    "#To convert a list of Celsius temperatures to a list of Fahrenheit temperatures\n",
    "n_string = int(input('Enter the number of tempratures you want to store in the list:  '))\n",
    "emp_list = []\n",
    "for i in range(n_string):\n",
    "    el_list = int((input('Enter list of temperature: ')))\n",
    "    emp_list.append(el_list)\n",
    "print(f'Temperature in Celsius: \\n{emp_list}')\n",
    "f_temp = list(map(lambda x: ((9/5 * x) + 32), emp_list))\n",
    "print(f'Temperature in Fahrenheit: \\n{f_temp}')"
   ]
  },
  {
   "cell_type": "code",
   "execution_count": null,
   "metadata": {},
   "outputs": [],
   "source": [
    "# Q 27\n",
    "#To convert a list of strings to a list of integers\n",
    "n_string = int(input('Enter the number of integrs you want to store in the list:  '))\n",
    "emp_list = []\n",
    "for i in range(n_string):\n",
    "    el_list = input('Enter list of Strings: ')\n",
    "    emp_list.append(el_list)\n",
    "print(f'List of strings: \\n{emp_list}')\n",
    "num = list(map(lambda x: int(x), emp_list))\n",
    "print(f'List after conversion into integer: \\n{num}')"
   ]
  },
  {
   "cell_type": "code",
   "execution_count": null,
   "metadata": {},
   "outputs": [],
   "source": [
    "#Q 28\n",
    "#the length of each string in a user inputted list of strings\n",
    "n_string = int(input('Enter the number of strings you want to store in the list:  '))\n",
    "emp_list = []\n",
    "for i in range(n_string):\n",
    "    el_list = input('Enter list of Strings: ')\n",
    "    emp_list.append(el_list)\n",
    "print(f'List of strings: \\n{emp_list}')\n",
    "l_strings = list(map(lambda x : len(x),emp_list))\n",
    "print(l_strings)"
   ]
  },
  {
   "cell_type": "code",
   "execution_count": null,
   "metadata": {},
   "outputs": [],
   "source": [
    "#Q 29\n",
    "# To convert a list of integers to their absolute values\n",
    "n_string = int(input('Enter the number of integers you want to store in the list:  '))\n",
    "emp_list = []\n",
    "for i in range(n_string):\n",
    "    el_list = int(input('Enter list of integers: '))\n",
    "    emp_list.append(el_list)\n",
    "print(f'List of strings: \\n{emp_list}')\n",
    "a_values = list(map(lambda x:abs(x), emp_list))\n",
    "print(f'Absolute values of x are:\\n{a_values}')"
   ]
  },
  {
   "cell_type": "code",
   "execution_count": null,
   "metadata": {},
   "outputs": [],
   "source": [
    "#Q 30\n",
    "#The uppercase version of each string in a user inputted list of strings\n",
    "n_string = int(input('Enter the number of strings you want to store in the list:  '))\n",
    "emp_list = []\n",
    "for i in range(n_string):\n",
    "    el_list = input('Enter list of Strings: ')\n",
    "    emp_list.append(el_list)\n",
    "print(f'List of strings: \\n{emp_list}')\n",
    "u_string = list(map(lambda x : x.upper(),emp_list))\n",
    "print(u_string)"
   ]
  },
  {
   "cell_type": "code",
   "execution_count": null,
   "metadata": {},
   "outputs": [],
   "source": [
    "# Q 31\n",
    "# The filter function to create a new list that contains only the strings that start with a vowel\n",
    "n_string = int(input('Enter the number of strings you want to store in the list:  '))\n",
    "emp_list = []\n",
    "for i in range(n_string):\n",
    "    el_list = input('Enter list of Strings: ')\n",
    "    emp_list.append(el_list)\n",
    "print(f'List of strings: \\n{emp_list}')\n",
    "v = ['a','e','i','o','u','A','E','I','U','O']\n",
    "v_start = list(filter(lambda x:x[0] in v ,emp_list ))\n",
    "print(f'list of string starting with vowels \\n{v_start}')"
   ]
  },
  {
   "cell_type": "code",
   "execution_count": null,
   "metadata": {},
   "outputs": [],
   "source": [
    "#Q 32\n",
    "#create a new list that contains only the strings with a length greater than 5 from a user inputted list of strings\n",
    "n_string = int(input('Enter the number of strings you want to store in the list:  '))\n",
    "emp_list = []\n",
    "for i in range(n_string):\n",
    "    el_list = input('Enter list of Strings: ')\n",
    "    emp_list.append(el_list)\n",
    "print(f'List of strings: \\n{emp_list}')\n",
    "l_filter = list(filter(lambda x:len(x)>5,emp_list))\n",
    "print(f'Filtered List: \\n{l_filter}')"
   ]
  },
  {
   "cell_type": "code",
   "execution_count": null,
   "metadata": {},
   "outputs": [],
   "source": [
    "#Q 33\n",
    "#to create a new list that contains only the positive numbers from a user\n",
    "n_string = int(input('Enter the number of integers you want to store in the list:  '))\n",
    "emp_list = []\n",
    "for i in range(n_string):\n",
    "    el_list = int(input('Enter list of integers: '))\n",
    "    emp_list.append(el_list)\n",
    "print(f'List of strings: \\n{emp_list}')\n",
    "p_values = list(map(lambda x:abs(x), emp_list))\n",
    "print(f'List of Positive numbers from the above list:\\n{p_values}')"
   ]
  },
  {
   "cell_type": "code",
   "execution_count": null,
   "metadata": {},
   "outputs": [],
   "source": [
    "#Q 34\n",
    "# To create a new list that contains only the strings that contain the letter \"e\" from a user\n",
    "n_string = int(input('Enter the number of strings you want to store in the list:  '))\n",
    "emp_list = []\n",
    "for i in range(n_string):\n",
    "    el_list = input('Enter list of Strings: ')\n",
    "    emp_list.append(el_list)\n",
    "print(f'List of strings: \\n{emp_list}')\n",
    "l_list = filter(lambda x : 'e' in x, emp_list)\n",
    "print(l_list)"
   ]
  },
  {
   "cell_type": "code",
   "execution_count": null,
   "metadata": {},
   "outputs": [],
   "source": [
    "# Q 35\n",
    "#Write a program that creates a nested list from two user inputted lists of integers. \n",
    "#The resulting nested list should contain each element of the first list paired with the \n",
    "#corresponding element of the second list\n",
    "n1_string = int(input('Enter the number of integers you want to add in list 1: '))\n",
    "emp_list1 = []\n",
    "for i in range(n1_string):\n",
    "    el_list1 = int(input('Enter numbers: '))\n",
    "    emp_list1.append(el_list1)\n",
    "print(f'Elements of list 1: \\n{emp_list1}')\n",
    "n2_string = int(input('Enter the number of integers you want to add in list 2: '))\n",
    "emp_list2 = []\n",
    "for j in range(n2_string):\n",
    "    el_list2 = int(input('Enter numbers: '))\n",
    "    emp_list2.append(el_list2)\n",
    "print(f'Elements of list 2: \\n{emp_list2}')\n",
    "#result = list(map(list.__add__, emp_list1, emp_list2)) \n",
    "#print(\"\\nZipped list:\\n\" +  str(result))\n",
    "#print(f'Combined list \\n{res}')"
   ]
  },
  {
   "cell_type": "code",
   "execution_count": null,
   "metadata": {},
   "outputs": [],
   "source": [
    "#Q 36\n",
    "# To split strings into its individual characters\n",
    "n_string = int(input('Enter the number of strings you want to store in the list:  '))\n",
    "emp_list = []\n",
    "for i in range(n_string):\n",
    "    el_list = input('Enter list of Strings: ')\n",
    "    emp_list.append(el_list)\n",
    "print(f'List of strings: \\n{emp_list}')\n",
    "s_string = list(map(lambda x :list(x),emp_list))\n",
    "print(s_string)"
   ]
  },
  {
   "cell_type": "code",
   "execution_count": null,
   "metadata": {},
   "outputs": [],
   "source": [
    "# Q 37\n",
    "# Nested list along with its squares\n",
    "n_string = int(input('Enter the number of integers you want to store in the list:  '))\n",
    "emp_list = []\n",
    "for i in range(n_string):\n",
    "    el_list = int(input('Enter list of integers: '))\n",
    "    emp_list.append(el_list)\n",
    "print(f'List of strings: \\n{emp_list}')\n",
    "s_values = list(map(lambda x:(x,x**2), emp_list))\n",
    "print(s_values)"
   ]
  },
  {
   "cell_type": "code",
   "execution_count": null,
   "metadata": {},
   "outputs": [],
   "source": [
    "#Q 38\n",
    "#Write a program that creates a nested list from a user inputted list of strings.\n",
    "#The resulting nested list should contain the unique characters from each string.\n",
    "n_string = int(input('Enter the number of strings you want to store in the list:  '))\n",
    "emp_list = []\n",
    "for i in range(n_string):\n",
    "    el_list = input('Enter list of Strings: ')\n",
    "    emp_list.append(el_list)\n",
    "print(f'List of strings: \\n{emp_list}')\n",
    "u_string = list(map(lambda x:list(set(x)),emp_list))\n",
    "print(u_string)"
   ]
  },
  {
   "cell_type": "code",
   "execution_count": null,
   "metadata": {},
   "outputs": [],
   "source": [
    "#Q 39\n",
    "#Example input: [2, 3, 4, 5]\n",
    "#Example output: [[2, [1, 2]], [3, [1, 3]], [4, [1, 2, 4]], [5, [1, 5]]]\n",
    "inp = [12, 5, 125]\n",
    "out = []\n",
    "for i in inp:\n",
    "    divisors = []\n",
    "    for j in range(1, i+1):\n",
    "        if i%j==0:\n",
    "            divisors.append(j)\n",
    "        out.append([i,divisors])\n",
    "print(out)\n"
   ]
  },
  {
   "cell_type": "code",
   "execution_count": null,
   "metadata": {},
   "outputs": [],
   "source": [
    "#Q 40\n",
    "def reverse_list():  \n",
    "    n_string = int(input('Enter the number of strings you want to store in the list:  '))\n",
    "    emp_list = []\n",
    "    for i in range(n_string):\n",
    "        el_list = input('Enter list of Strings: ')\n",
    "        emp_list.append(el_list)\n",
    "    print(f'Original List: \\n{emp_list}')\n",
    "    emp_list.reverse()\n",
    "    print(f'Reversed List: \\n{emp_list}')"
   ]
  },
  {
   "cell_type": "code",
   "execution_count": null,
   "metadata": {},
   "outputs": [],
   "source": [
    "reverse_list()"
   ]
  }
 ],
 "metadata": {
  "kernelspec": {
   "display_name": "base",
   "language": "python",
   "name": "python3"
  },
  "language_info": {
   "codemirror_mode": {
    "name": "ipython",
    "version": 3
   },
   "file_extension": ".py",
   "mimetype": "text/x-python",
   "name": "python",
   "nbconvert_exporter": "python",
   "pygments_lexer": "ipython3",
   "version": "3.11.4"
  },
  "orig_nbformat": 4
 },
 "nbformat": 4,
 "nbformat_minor": 2
}
