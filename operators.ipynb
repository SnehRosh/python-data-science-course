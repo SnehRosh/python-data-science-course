{
 "cells": [
  {
   "cell_type": "code",
   "execution_count": 2,
   "metadata": {},
   "outputs": [
    {
     "name": "stdout",
     "output_type": "stream",
     "text": [
      "Odd Number\n"
     ]
    }
   ],
   "source": [
    "a=int(input(\"Enter a number\"))\n",
    "if(a%2==0):\n",
    " print(\"Even Number\")\n",
    "else:\n",
    " print(\"Odd Number\")\n"
   ]
  },
  {
   "cell_type": "code",
   "execution_count": 2,
   "metadata": {},
   "outputs": [
    {
     "name": "stdout",
     "output_type": "stream",
     "text": [
      "you have to pay 270 for 3 kg of apple\n"
     ]
    }
   ],
   "source": [
    "weight = int(input('How much Kg of 🍊 do you want'))\n",
    "if weight == 1: price = 100\n",
    "elif weight >= 2 and weight <= 5: price = 90 * weight\n",
    "elif weight >=5 and weight <= 9: price = 80 * weight \n",
    "print(f'You have to pay {price} for {weight} kg of apple')"
   ]
  },
  {
   "cell_type": "code",
   "execution_count": null,
   "metadata": {},
   "outputs": [],
   "source": [
    "#loops\n"
   ]
  }
 ],
 "metadata": {
  "kernelspec": {
   "display_name": "base",
   "language": "python",
   "name": "python3"
  },
  "language_info": {
   "codemirror_mode": {
    "name": "ipython",
    "version": 3
   },
   "file_extension": ".py",
   "mimetype": "text/x-python",
   "name": "python",
   "nbconvert_exporter": "python",
   "pygments_lexer": "ipython3",
   "version": "3.11.4"
  },
  "orig_nbformat": 4
 },
 "nbformat": 4,
 "nbformat_minor": 2
}
