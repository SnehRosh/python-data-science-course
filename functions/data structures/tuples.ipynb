{
 "cells": [
  {
   "cell_type": "code",
   "execution_count": 10,
   "metadata": {},
   "outputs": [
    {
     "name": "stdout",
     "output_type": "stream",
     "text": [
      "(1, 2, 3, 4) <class 'tuple'>\n"
     ]
    }
   ],
   "source": [
    "x = (1,2,3,4) #tuple\n",
    "print(x, type(x))"
   ]
  },
  {
   "cell_type": "code",
   "execution_count": 3,
   "metadata": {},
   "outputs": [
    {
     "name": "stdout",
     "output_type": "stream",
     "text": [
      "(1, 23, 4, 6, 8, 9) <class 'tuple'>\n"
     ]
    }
   ],
   "source": [
    "a = 1,23,4,6,8,9 #tuple packing\n",
    "print(a, type(a))"
   ]
  },
  {
   "cell_type": "code",
   "execution_count": 5,
   "metadata": {},
   "outputs": [
    {
     "name": "stdout",
     "output_type": "stream",
     "text": [
      "(1, 2, 3)\n",
      "1 2 3\n",
      "1 [2, 3]\n",
      "[1, 2] 3\n"
     ]
    }
   ],
   "source": [
    "t = (1,2,3)\n",
    "a = t #\n",
    "print(a)\n",
    "a, b, c = t #tuple unpacking\n",
    "print(a, b, c)\n",
    "a, *b = t\n",
    "print(a, b)\n",
    "*a,b = t \n",
    "print(a,b)"
   ]
  },
  {
   "cell_type": "code",
   "execution_count": 6,
   "metadata": {},
   "outputs": [
    {
     "name": "stdout",
     "output_type": "stream",
     "text": [
      "1 8 [2, 3, 5, 7, 5, 4, 4, 6, 3, 3, 2]\n"
     ]
    }
   ],
   "source": [
    "t2 = (1,2,3,5,7,5,4,4,6,3,3,2,8)\n",
    "x, *_, y = t2 #_ is a throwaway variable\n",
    "print(x, y, _)"
   ]
  },
  {
   "cell_type": "markdown",
   "metadata": {},
   "source": [
    "- Tuple Methods\n",
    "    - Count\n",
    "    - Index"
   ]
  },
  {
   "cell_type": "code",
   "execution_count": 9,
   "metadata": {},
   "outputs": [
    {
     "name": "stdout",
     "output_type": "stream",
     "text": [
      "3\n",
      "2\n"
     ]
    }
   ],
   "source": [
    "t2 = (1,2,3,5,7,5,4,4,6,3,3,2,8)\n",
    "print(t2.count(3))\n",
    "print(t2.index(3))"
   ]
  }
 ],
 "metadata": {
  "kernelspec": {
   "display_name": "base",
   "language": "python",
   "name": "python3"
  },
  "language_info": {
   "codemirror_mode": {
    "name": "ipython",
    "version": 3
   },
   "file_extension": ".py",
   "mimetype": "text/x-python",
   "name": "python",
   "nbconvert_exporter": "python",
   "pygments_lexer": "ipython3",
   "version": "3.11.4"
  },
  "orig_nbformat": 4
 },
 "nbformat": 4,
 "nbformat_minor": 2
}
