{
 "cells": [
  {
   "cell_type": "markdown",
   "metadata": {},
   "source": [
    "Loop Practice Questions Digi Podium"
   ]
  },
  {
   "cell_type": "code",
   "execution_count": 1,
   "metadata": {},
   "outputs": [
    {
     "name": "stdout",
     "output_type": "stream",
     "text": [
      "1\n",
      "2\n",
      "3\n",
      "4\n",
      "5\n",
      "6\n",
      "7\n",
      "8\n",
      "9\n"
     ]
    }
   ],
   "source": [
    "#Question 1\n",
    "for i in range(1,10):\n",
    " print(i)"
   ]
  },
  {
   "cell_type": "code",
   "execution_count": 4,
   "metadata": {},
   "outputs": [
    {
     "name": "stdout",
     "output_type": "stream",
     "text": [
      "8 X 1 = 8\n",
      "8 X 2 = 16\n",
      "8 X 3 = 24\n",
      "8 X 4 = 32\n",
      "8 X 5 = 40\n",
      "8 X 6 = 48\n",
      "8 X 7 = 56\n",
      "8 X 8 = 64\n",
      "8 X 9 = 72\n",
      "8 X 10 = 80\n"
     ]
    }
   ],
   "source": [
    "#Question 2\n",
    "n = int(input('Enter the Number: '))\n",
    "count = 1\n",
    "while count <= 10:\n",
    "    n = n*1\n",
    "    print(f'{n} X {count} = {n*count}')\n",
    "    count += 1"
   ]
  },
  {
   "cell_type": "code",
   "execution_count": 12,
   "metadata": {},
   "outputs": [
    {
     "name": "stdout",
     "output_type": "stream",
     "text": [
      "Sum of even numbers from 1 to 37 is 342\n"
     ]
    }
   ],
   "source": [
    "#Question 3\n",
    "n = int(input('Enter Number to print the sum'))\n",
    "sum = 0\n",
    "for i in range(0, n+1):\n",
    "   if(i % 2 == 0):\n",
    "    sum = sum+i\n",
    "print(f'Sum of even numbers from 1 to {n} is {sum}')\n",
    "    "
   ]
  },
  {
   "cell_type": "code",
   "execution_count": 1,
   "metadata": {},
   "outputs": [
    {
     "name": "stdout",
     "output_type": "stream",
     "text": [
      "56 is not an prime number\n"
     ]
    }
   ],
   "source": [
    "#Question 4\n",
    "i = 2\n",
    "n = int(input('Enter a number to check if it is prime or not: '))\n",
    "while i < n:\n",
    "    if(n % i == 0):\n",
    "        print(f'{n} is not an prime number')\n",
    "        break\n",
    "    i = i + 1\n",
    "else:\n",
    "    print(f'{n} is a prime number')"
   ]
  },
  {
   "cell_type": "code",
   "execution_count": 33,
   "metadata": {},
   "outputs": [
    {
     "name": "stdout",
     "output_type": "stream",
     "text": [
      " Factorial of 7 is: 5040\n"
     ]
    }
   ],
   "source": [
    "#Question 5\n",
    "n = int(input('Enter the number'))\n",
    "fact = 1\n",
    "if (n >=1):\n",
    " for i in range(1, n+1):\n",
    "    fact = fact*i\n",
    "print(f' Factorial of {n} is: {fact}')"
   ]
  },
  {
   "cell_type": "code",
   "execution_count": 7,
   "metadata": {},
   "outputs": [
    {
     "name": "stdout",
     "output_type": "stream",
     "text": [
      "0\n",
      "1\n",
      "1\n",
      "2\n",
      "3\n",
      "5\n",
      "8\n",
      "13\n",
      "21\n"
     ]
    }
   ],
   "source": [
    "#Question 6\n",
    "n = int(input(\"Enter number to print its fabonacci series: \"))\n",
    "a = 0\n",
    "b = 1\n",
    "sum = a + b\n",
    "count = 1\n",
    "while(count <= n):\n",
    " count += 1\n",
    " print(a)\n",
    " a = b\n",
    " b = sum\n",
    " sum = a + b"
   ]
  },
  {
   "cell_type": "code",
   "execution_count": 5,
   "metadata": {},
   "outputs": [
    {
     "name": "stdout",
     "output_type": "stream",
     "text": [
      "60\n"
     ]
    }
   ],
   "source": [
    "#Question 7\n",
    "l1=[1, 6, 8, 20, 14, 11, 19, 34, 4, 3, 30, 32, 60]\n",
    "for i in l1:\n",
    " print(max(l1))\n",
    " break"
   ]
  },
  {
   "cell_type": "code",
   "execution_count": 7,
   "metadata": {},
   "outputs": [
    {
     "name": "stdout",
     "output_type": "stream",
     "text": [
      "ahenS\n"
     ]
    }
   ],
   "source": [
    "# Question 8\n",
    "s = input(\"Enter the String to reverse: \")\n",
    "sr=\"\"\n",
    "count=len(s)\n",
    "while count > 0:\n",
    "    sr += s[count-1]\n",
    "    count = count - 1\n",
    "print(sr)\n"
   ]
  },
  {
   "cell_type": "code",
   "execution_count": 9,
   "metadata": {},
   "outputs": [
    {
     "name": "stdout",
     "output_type": "stream",
     "text": [
      "A\n",
      "B\n",
      "C\n",
      "D\n",
      "E\n",
      "F\n",
      "G\n",
      "H\n",
      "I\n",
      "J\n",
      "K\n",
      "L\n",
      "M\n",
      "N\n",
      "O\n",
      "P\n",
      "Q\n",
      "R\n",
      "S\n",
      "T\n",
      "U\n",
      "V\n",
      "W\n",
      "X\n",
      "Y\n",
      "Z\n"
     ]
    }
   ],
   "source": [
    "#Question 9\n",
    "for ch in range(65, 91):\n",
    "    print(chr(ch))"
   ]
  },
  {
   "cell_type": "code",
   "execution_count": 2,
   "metadata": {},
   "outputs": [
    {
     "name": "stdout",
     "output_type": "stream",
     "text": [
      "This is a palindrome\n"
     ]
    }
   ],
   "source": [
    "# Question 10\n",
    "s1 = input(\"Enter any name to check if it is a palindrome or not\")\n",
    "s2 = \"\"\n",
    "count = len(s1)\n",
    "while count > 0:\n",
    "    s2 += s1[count-1]\n",
    "    count = count-1\n",
    "if s1 == s2:\n",
    "    print(\"This is a palindrome\")\n",
    "else:\n",
    "    print(\"Not a palindrome\")"
   ]
  },
  {
   "cell_type": "code",
   "execution_count": 3,
   "metadata": {},
   "outputs": [
    {
     "name": "stdout",
     "output_type": "stream",
     "text": [
      "Total sum of elements of lis: 733\n",
      "91.625\n"
     ]
    }
   ],
   "source": [
    "# Question 11\n",
    "l1=[29, 302, 23, 234, 20, 48, 20, 57]\n",
    "total = 0\n",
    "for i in l1:\n",
    "    total += i\n",
    "print(f'Total sum of elements of lis: {total}')\n",
    "print(total/len(l1))  \n"
   ]
  },
  {
   "cell_type": "code",
   "execution_count": 32,
   "metadata": {},
   "outputs": [
    {
     "name": "stdout",
     "output_type": "stream",
     "text": [
      "1\n"
     ]
    }
   ],
   "source": [
    "# Question 12\n",
    "l1=[1, 6, 8, 20, 14, 11, 19, 34, 4, 3, 30, 32, 60]\n",
    "for i in l1:\n",
    " print(min(l1))\n",
    " break"
   ]
  },
  {
   "cell_type": "code",
   "execution_count": 41,
   "metadata": {},
   "outputs": [
    {
     "name": "stdout",
     "output_type": "stream",
     "text": [
      "Sum = 18\n"
     ]
    }
   ],
   "source": [
    "# Question 13\n",
    "num=int(input(\"Enter number:  \"))\n",
    "sum=0\n",
    "for digit in str(num):\n",
    "    sum= sum+int(digit)\n",
    "print(f'Sum = {sum}')"
   ]
  },
  {
   "cell_type": "code",
   "execution_count": 43,
   "metadata": {},
   "outputs": [],
   "source": [
    "#Question 14\n",
    "yr=int(input(\"Enter year: \"))\n",
    "while yr/4==0:\n",
    " print(\"Leap year\")"
   ]
  },
  {
   "cell_type": "code",
   "execution_count": 53,
   "metadata": {},
   "outputs": [
    {
     "name": "stdout",
     "output_type": "stream",
     "text": [
      "8X1=8\n",
      "8X2=16\n",
      "8X3=24\n",
      "8X4=32\n",
      "8X5=40\n"
     ]
    }
   ],
   "source": [
    "# Question 15\n",
    "t = int(input(\"Table number: \"))\n",
    "temp=1\n",
    "for i in range(1,6):\n",
    "    temp =i\n",
    "    i = t * i\n",
    "    print(f'{t}X{temp}={i}')"
   ]
  },
  {
   "cell_type": "code",
   "execution_count": 57,
   "metadata": {},
   "outputs": [
    {
     "name": "stdout",
     "output_type": "stream",
     "text": [
      " Factorial of 5 is: 120\n"
     ]
    }
   ],
   "source": [
    "# Question 16\n",
    "n = int(input('Enter the number'))\n",
    "fact = 1\n",
    "i = 1\n",
    "while n >= i:\n",
    "     fact = fact*i\n",
    "     i = i+1\n",
    "print(f' Factorial of {n} is: {fact}')"
   ]
  },
  {
   "cell_type": "code",
   "execution_count": 21,
   "metadata": {},
   "outputs": [
    {
     "name": "stdout",
     "output_type": "stream",
     "text": [
      "Number of vowels found in \n",
      "my world happy world \n",
      "are: 3\n"
     ]
    }
   ],
   "source": [
    "#Question 17\n",
    "s = input(\"Drop any sentence: \")\n",
    "count = 0\n",
    "s = s.lower()\n",
    "for i in s:\n",
    "    if i == 'a' or i == 'e' or i == 'i' or i == 'o' or i =='u':\n",
    "        count += 1\n",
    "if count != 0:\n",
    "       print(f'''Number of vowels found in \n",
    "{s} \n",
    "are: {count}''')\n",
    "else:\n",
    "       print(f'''No vowel found ''')\n"
   ]
  },
  {
   "cell_type": "code",
   "execution_count": null,
   "metadata": {},
   "outputs": [],
   "source": [
    "#Ouestion 18 Perfect Square\n"
   ]
  },
  {
   "cell_type": "code",
   "execution_count": 23,
   "metadata": {},
   "outputs": [
    {
     "name": "stdout",
     "output_type": "stream",
     "text": [
      "Maximum Number\n",
      "2308\n",
      "Minimum Number\n",
      "10\n"
     ]
    }
   ],
   "source": [
    "#Question 19\n",
    "l1 = [10, 302, 2308,33, 20, 359, 33, 301, 46, 40]\n",
    "for i in l1:\n",
    "    print('Maximum Number')\n",
    "    print(max(l1))\n",
    "    print('Minimum Number')\n",
    "    print(min(l1))\n",
    "    break"
   ]
  },
  {
   "cell_type": "code",
   "execution_count": 24,
   "metadata": {},
   "outputs": [
    {
     "name": "stdout",
     "output_type": "stream",
     "text": [
      "ayerhs\n"
     ]
    }
   ],
   "source": [
    "# Question 20\n",
    "s = input(\"Enter the String to reverse: \")\n",
    "sr=\"\"\n",
    "count=len(s)\n",
    "while count > 0:\n",
    "    sr += s[count-1]\n",
    "    count = count - 1\n",
    "print(sr)\n"
   ]
  }
 ],
 "metadata": {
  "kernelspec": {
   "display_name": "base",
   "language": "python",
   "name": "python3"
  },
  "language_info": {
   "codemirror_mode": {
    "name": "ipython",
    "version": 3
   },
   "file_extension": ".py",
   "mimetype": "text/x-python",
   "name": "python",
   "nbconvert_exporter": "python",
   "pygments_lexer": "ipython3",
   "version": "3.11.4"
  },
  "orig_nbformat": 4
 },
 "nbformat": 4,
 "nbformat_minor": 2
}
