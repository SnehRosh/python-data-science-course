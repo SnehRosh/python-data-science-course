{
 "cells": [
  {
   "cell_type": "markdown",
   "metadata": {},
   "source": [
    "What to understand\n",
    "\n",
    "\n",
    "    - class\n",
    "    - object (instance)\n",
    "    - constructor('_int_')\n",
    "    - instance method\n",
    "    - data class\n",
    "    - inheritance\n",
    "        - overriding method\n",
    "        - multiple inhertance\n",
    "    - operator overloading"
   ]
  },
  {
   "cell_type": "code",
   "execution_count": 22,
   "metadata": {},
   "outputs": [],
   "source": [
    "class one:\n",
    "    pass"
   ]
  },
  {
   "cell_type": "code",
   "execution_count": 23,
   "metadata": {},
   "outputs": [],
   "source": [
    "class student:\n",
    "    rollno = 0\n",
    "    klass = 0\n",
    "    name =\"\"\n",
    "    def display(self):\n",
    "        print(\"I am a student\")"
   ]
  },
  {
   "cell_type": "code",
   "execution_count": 24,
   "metadata": {},
   "outputs": [
    {
     "name": "stdout",
     "output_type": "stream",
     "text": [
      "I am a student\n",
      "I am a student\n"
     ]
    }
   ],
   "source": [
    "s1=student()\n",
    "s1.name = \"Raj\"\n",
    "s1.klass = 5\n",
    "s1.rollno = 134\n",
    "s1.display()\n",
    "\n",
    "s2 = student()\n",
    "s2.name = \"Raju\"\n",
    "s1.klass = 6\n",
    "s2.rollno = 1340\n",
    "s2.display()"
   ]
  },
  {
   "cell_type": "code",
   "execution_count": 25,
   "metadata": {},
   "outputs": [],
   "source": [
    "# __method__ is called magic method (dunder method)\n",
    "class bottle:\n",
    "    def __init__(self, material, content, capacity):\n",
    "        self.material = material #instance variabble\n",
    "        self.content = content\n",
    "        self.capacity = capacity  \n",
    "\n",
    "    def check(self):\n",
    "        print(f'{self.material} bottle with {self.content} contain {self.capacity}ml')"
   ]
  },
  {
   "cell_type": "code",
   "execution_count": 26,
   "metadata": {},
   "outputs": [],
   "source": [
    "b1 = bottle('plastic','water',200)\n",
    "b2 = bottle('glass','bear',500)\n",
    "b3 = bottle('steel','fun',1000)\n",
    "b4 = bottle('plastic','fruity',400)"
   ]
  },
  {
   "cell_type": "code",
   "execution_count": 27,
   "metadata": {},
   "outputs": [
    {
     "name": "stdout",
     "output_type": "stream",
     "text": [
      "plastic bottle with water contain 200ml\n",
      "glass bottle with bear contain 500ml\n",
      "steel bottle with fun contain 1000ml\n",
      "plastic bottle with fruity contain 400ml\n"
     ]
    }
   ],
   "source": [
    "b1.check()\n",
    "b2.check()\n",
    "b3.check()\n",
    "b4.check()"
   ]
  },
  {
   "cell_type": "code",
   "execution_count": 28,
   "metadata": {},
   "outputs": [],
   "source": [
    "class calculator:\n",
    "    def multiply(self, a,b): \n",
    "        return a * b\n",
    "    def divide(self, a,b):\n",
    "        return a / b\n",
    "    def add(self,a,b):\n",
    "        return a + b\n",
    "    def subtract(self,a,b):\n",
    "        return a - b\n",
    "    def exponent(a,b):\n",
    "        return a**b\n",
    "    "
   ]
  },
  {
   "cell_type": "code",
   "execution_count": 29,
   "metadata": {},
   "outputs": [
    {
     "name": "stdout",
     "output_type": "stream",
     "text": [
      "50\n",
      "200\n",
      "0.5\n"
     ]
    }
   ],
   "source": [
    "c = calculator()\n",
    "print(c.add(10,40))\n",
    "print(c.multiply(20,10))\n",
    "print(c.divide(10,20))"
   ]
  },
  {
   "cell_type": "code",
   "execution_count": 30,
   "metadata": {},
   "outputs": [],
   "source": [
    "from dataclasses import dataclass"
   ]
  },
  {
   "cell_type": "code",
   "execution_count": 31,
   "metadata": {},
   "outputs": [],
   "source": [
    "@dataclass\n",
    "class recipe:\n",
    "    name : str\n",
    "    ingredients : list\n",
    "    instructions : str =\"no instructions\""
   ]
  },
  {
   "cell_type": "code",
   "execution_count": 32,
   "metadata": {},
   "outputs": [],
   "source": [
    "@dataclass\n",
    "class bottleX:\n",
    "    material: str\n",
    "    content : str\n",
    "    capacity : int"
   ]
  },
  {
   "cell_type": "code",
   "execution_count": 33,
   "metadata": {},
   "outputs": [
    {
     "name": "stdout",
     "output_type": "stream",
     "text": [
      "recipe(name='mac n cheese', ingredients=['mac', 'cheese', 'milk', 'butter'], instructions='no instructions')\n",
      "recipe(name='mango shake', ingredients=['mango', 'milk'], instructions='Shake well')\n",
      "['mac', 'cheese', 'milk', 'butter']\n"
     ]
    }
   ],
   "source": [
    "r1 = recipe('mac n cheese',['mac','cheese','milk','butter'])\n",
    "r2 = recipe('mango shake',['mango','milk'], 'Shake well')\n",
    "print(r1)\n",
    "print(r2)\n",
    "print(r1.ingredients)"
   ]
  },
  {
   "cell_type": "code",
   "execution_count": 34,
   "metadata": {},
   "outputs": [],
   "source": [
    "class Person:\n",
    "    def __init__(self, name, age):\n",
    "        self.age=age\n",
    "        self.name=name\n",
    "    def info(self):\n",
    "        print('Person Details')\n",
    "        print(f'Name:{self.name}')\n",
    "        print(f'Age: {self.age}')"
   ]
  },
  {
   "cell_type": "code",
   "execution_count": 35,
   "metadata": {},
   "outputs": [],
   "source": [
    "class Student(Person):\n",
    "    def __init__(self, name, age,school, klass):\n",
    "        super().__init__(name, age)\n",
    "        self.school=school\n",
    "        self.klass=klass       "
   ]
  },
  {
   "cell_type": "code",
   "execution_count": 36,
   "metadata": {},
   "outputs": [],
   "source": [
    "class ScienceStudent(Student):\n",
    "    def __init__(self, name, age, school, klass, subjects=[]):\n",
    "        super().__init__(name, age, school, klass)\n",
    "        self.subjects = subjects"
   ]
  },
  {
   "cell_type": "code",
   "execution_count": 37,
   "metadata": {},
   "outputs": [
    {
     "name": "stdout",
     "output_type": "stream",
     "text": [
      "Person Details\n",
      "Name:ajay\n",
      "Age: 15\n"
     ]
    }
   ],
   "source": [
    "sc1=ScienceStudent('ajay', 15, 'abs international',5, ['Physics', 'chemistry','maths'])\n",
    "sc1.info()"
   ]
  },
  {
   "cell_type": "code",
   "execution_count": 38,
   "metadata": {},
   "outputs": [],
   "source": [
    "import sys\n",
    "class SuperList(list):\n",
    "    def gt(self, n):\n",
    "        return [x for x in self if x > n]\n",
    "    def lt(self, n):\n",
    "        return [x for x in self if x < n]\n",
    "    def extract(self, dtype = int):\n",
    "        return [x for x in self if isinstance(x, dtype)]  \n",
    "    def index(self, __value, __start = 0, __stop = sys.maxsize):\n",
    "        if __value in self:\n",
    "         return super().index(__value, __start, __stop)  "
   ]
  },
  {
   "cell_type": "code",
   "execution_count": 39,
   "metadata": {},
   "outputs": [
    {
     "name": "stdout",
     "output_type": "stream",
     "text": [
      "['a', 'b', 'c']\n",
      "[1, 3, 4, 5, 6]\n",
      "None\n"
     ]
    }
   ],
   "source": [
    "a = SuperList([1, 4, 6, 17, 3, 7, 8])\n",
    "a.append(10)\n",
    "a.extend([2, 0, 18, 19])\n",
    "a.gt(8)\n",
    "b = SuperList([1, 3, 4, 5, 6,'a','b','c'])\n",
    "print(b.extract(str))\n",
    "print(b.extract())\n",
    "print(b.index(10))"
   ]
  },
  {
   "cell_type": "code",
   "execution_count": 40,
   "metadata": {},
   "outputs": [
    {
     "name": "stdout",
     "output_type": "stream",
     "text": [
      "None\n",
      "False\n",
      "🍾 - plastic 🍾 - glass 🍾 - steel\n",
      "[🍾- plastic(plastic), 🍾- glass(glass), 🍾- steel(steel)]\n"
     ]
    }
   ],
   "source": [
    "# __method__ is called magic method (dunder method)\n",
    "class bottle:\n",
    "    def __init__(self, material, content, capacity):\n",
    "        self.material = material #instance variabble\n",
    "        self.content=content\n",
    "        self.capacity=capacity  \n",
    "\n",
    "    def check(self):\n",
    "        print(f'{self.material} bottle with {self.content} contain {self.capacity}ml')\n",
    "\n",
    "    def __gt__(self,other):\n",
    "        if isinstance(other,(int,float)):\n",
    "            return self.capacity > other\n",
    "        elif isinstance(other,(int, float)):\n",
    "            return self.capacity > other\n",
    "        \n",
    "    def __str__(self) -> str:\n",
    "        return f'🍾 - {self.material}'\n",
    "    def __repr__(self) -> str:\n",
    "        return f'🍾- {self.material}({self.material})'\n",
    "\n",
    "\n",
    "b1 = bottle('plastic','water',200)\n",
    "b2 = bottle('glass','bear',500)\n",
    "b3 = bottle('steel','fun',1000)\n",
    "b4 = bottle('plastic','fruty',400)\n",
    "print(b1 > b2)\n",
    "print(b1 > 1500)\n",
    "#print >'a'\n",
    "print(b1,b2,b3)\n",
    "bottles = [b1,b2, b3]\n",
    "print(bottles)"
   ]
  },
  {
   "cell_type": "code",
   "execution_count": null,
   "metadata": {},
   "outputs": [],
   "source": []
  }
 ],
 "metadata": {
  "kernelspec": {
   "display_name": "base",
   "language": "python",
   "name": "python3"
  },
  "language_info": {
   "codemirror_mode": {
    "name": "ipython",
    "version": 3
   },
   "file_extension": ".py",
   "mimetype": "text/x-python",
   "name": "python",
   "nbconvert_exporter": "python",
   "pygments_lexer": "ipython3",
   "version": "3.11.4"
  }
 },
 "nbformat": 4,
 "nbformat_minor": 2
}
