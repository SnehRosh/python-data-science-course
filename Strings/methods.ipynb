{
 "cells": [
  {
   "cell_type": "markdown",
   "metadata": {},
   "source": [
    "# String Methods\n",
    "- Formatting\n",
    "   - Upper()\n",
    "   - lower()\n",
    "   - capitalize()\n",
    "   - title()\n",
    "   - swapcase()\n",
    "   - casefold()\n",
    "- Searching\n",
    "   - find()\n",
    "   - index()\n",
    "   - rfind()\n",
    "   - rindex()\n",
    "   - count()\n",
    "- Validation\n",
    "    - isalpha()\n",
    "    - isalnum()\n",
    "    - digit()\n",
    "    - startswith()\n",
    "    - endswith()\n",
    "    - isspace()\n",
    "- Manipulation\n",
    "    - split()\n",
    "    - rsplit()\n",
    "    - join()\n",
    "    - strip()\n",
    "    - rstrip()\n",
    "\n"
   ]
  },
  {
   "cell_type": "code",
   "execution_count": 1,
   "metadata": {},
   "outputs": [],
   "source": [
    "msg = 'This is an Example of a MESSAGE STRING'"
   ]
  },
  {
   "cell_type": "code",
   "execution_count": 2,
   "metadata": {},
   "outputs": [
    {
     "data": {
      "text/plain": [
       "'THIS IS AN EXAMPLE OF A MESSAGE STRING'"
      ]
     },
     "execution_count": 2,
     "metadata": {},
     "output_type": "execute_result"
    }
   ],
   "source": [
    "msg.upper()\n"
   ]
  },
  {
   "cell_type": "code",
   "execution_count": 3,
   "metadata": {},
   "outputs": [],
   "source": [
    "msg_u=msg.upper()"
   ]
  },
  {
   "cell_type": "code",
   "execution_count": 4,
   "metadata": {},
   "outputs": [
    {
     "name": "stdout",
     "output_type": "stream",
     "text": [
      "this is an example of a message string\n",
      "This is an example of a message string\n",
      "This Is An Example Of A Message String\n",
      "tHIS IS AN eXAMPLE OF A message string\n",
      "this is an example of a message string\n",
      "THIS IS AN EXAMPLE OF A MESSAGE STRING\n"
     ]
    }
   ],
   "source": [
    "print(msg.lower())\n",
    "print(msg.capitalize())\n",
    "print(msg.title())\n",
    "print(msg.swapcase())\n",
    "print(msg.casefold())\n",
    "print(msg_u)"
   ]
  },
  {
   "cell_type": "code",
   "execution_count": 5,
   "metadata": {},
   "outputs": [
    {
     "data": {
      "text/plain": [
       "'This is an Example of a MESSAGE STRING'"
      ]
     },
     "execution_count": 5,
     "metadata": {},
     "output_type": "execute_result"
    }
   ],
   "source": [
    "msg"
   ]
  },
  {
   "cell_type": "code",
   "execution_count": 6,
   "metadata": {},
   "outputs": [
    {
     "data": {
      "text/plain": [
       "2"
      ]
     },
     "execution_count": 6,
     "metadata": {},
     "output_type": "execute_result"
    }
   ],
   "source": [
    "msg.find('is')"
   ]
  },
  {
   "cell_type": "code",
   "execution_count": 7,
   "metadata": {},
   "outputs": [
    {
     "data": {
      "text/plain": [
       "5"
      ]
     },
     "execution_count": 7,
     "metadata": {},
     "output_type": "execute_result"
    }
   ],
   "source": [
    "msg.find('is', 3)"
   ]
  },
  {
   "cell_type": "code",
   "execution_count": 8,
   "metadata": {},
   "outputs": [
    {
     "data": {
      "text/plain": [
       "-1"
      ]
     },
     "execution_count": 8,
     "metadata": {},
     "output_type": "execute_result"
    }
   ],
   "source": [
    "msg.find('is', 6)"
   ]
  },
  {
   "cell_type": "code",
   "execution_count": 9,
   "metadata": {},
   "outputs": [
    {
     "data": {
      "text/plain": [
       "8"
      ]
     },
     "execution_count": 9,
     "metadata": {},
     "output_type": "execute_result"
    }
   ],
   "source": [
    "msg.rfind('an') #Count from reverse"
   ]
  },
  {
   "cell_type": "code",
   "execution_count": 13,
   "metadata": {},
   "outputs": [
    {
     "data": {
      "text/plain": [
       "2"
      ]
     },
     "execution_count": 13,
     "metadata": {},
     "output_type": "execute_result"
    }
   ],
   "source": [
    "msg.count('G')"
   ]
  },
  {
   "cell_type": "code",
   "execution_count": 14,
   "metadata": {},
   "outputs": [
    {
     "data": {
      "text/plain": [
       "'This is an Example of a MESSAGE STRING'"
      ]
     },
     "execution_count": 14,
     "metadata": {},
     "output_type": "execute_result"
    }
   ],
   "source": [
    "msg"
   ]
  },
  {
   "cell_type": "code",
   "execution_count": 18,
   "metadata": {},
   "outputs": [
    {
     "name": "stdout",
     "output_type": "stream",
     "text": [
      "True\n",
      "False\n",
      "True\n",
      "False\n",
      "False\n",
      "True\n",
      "vijay\n"
     ]
    }
   ],
   "source": [
    "name = 'Vijay'\n",
    "print(name.isalpha())\n",
    "print(name.isdigit())\n",
    "print(name.isalnum())\n",
    "print(name.islower())\n",
    "print(name.isupper())\n",
    "print(name.istitle())\n",
    "print(name.casefold())"
   ]
  },
  {
   "cell_type": "code",
   "execution_count": 34,
   "metadata": {},
   "outputs": [
    {
     "name": "stdout",
     "output_type": "stream",
     "text": [
      "Hello Mr.Andrew\n",
      "Hello Mr.Alex\n",
      "Hi Ms.Gupta\n",
      "Hello Mr.smith\n",
      "Hi Ms.Vijay\n"
     ]
    }
   ],
   "source": [
    "guests = ['Mr.Andrew', 'Mr.Alex', 'Ms.Gupta', 'Mr.smith', 'Ms.Vijay']\n",
    "for name in guests:\n",
    "    if name.startswith('Mr.'):\n",
    "        print(f'Hello {name}')\n",
    "    elif name.startswith('Ms.'):\n",
    "        print(f'Hi {name}')\n",
    "    else:\n",
    "        print('Yo')"
   ]
  },
  {
   "cell_type": "code",
   "execution_count": 24,
   "metadata": {},
   "outputs": [
    {
     "name": "stdout",
     "output_type": "stream",
     "text": [
      "file1.txt text\n",
      "file2.txt text\n",
      "file3.txt text\n",
      "file4.csv csv\n",
      "file5.csv csv\n",
      "file6.csv csv\n"
     ]
    }
   ],
   "source": [
    "files = ['file1.txt', 'file2.txt', 'file3.txt',\n",
    "         'file4.csv', 'file5.csv', 'file6.csv']\n",
    "for file in files:\n",
    "    if file.endswith('txt'):print(f\"{file} text\")\n",
    "    elif file.endswith('csv'):print(f\"{file} csv\")\n",
    "    else: print(f\"{file}File not found\")"
   ]
  },
  {
   "cell_type": "code",
   "execution_count": 27,
   "metadata": {},
   "outputs": [
    {
     "name": "stdout",
     "output_type": "stream",
     "text": [
      "Johny Johny yes papa\n",
      "Eating sugar? No papa,\n",
      "Telling a lie? No papa,\n",
      "Open your mouth HA! HA! HA!\n",
      "\n"
     ]
    }
   ],
   "source": [
    "poem ='''Johny Johny yes papa\n",
    "Eating sugar? No papa,\n",
    "Telling lies? No papa,\n",
    "Open your mouth HA! HA! HA!\n",
    "'''\n",
    "print(poem)"
   ]
  },
  {
   "cell_type": "code",
   "execution_count": 30,
   "metadata": {},
   "outputs": [
    {
     "data": {
      "text/plain": [
       "['Johny Johny yes papa',\n",
       " 'Eating sugar? No papa,',\n",
       " 'Telling a lie? No papa,',\n",
       " 'Open your mouth HA! HA! HA!']"
      ]
     },
     "execution_count": 30,
     "metadata": {},
     "output_type": "execute_result"
    }
   ],
   "source": [
    "poem.splitlines()"
   ]
  },
  {
   "cell_type": "code",
   "execution_count": 31,
   "metadata": {},
   "outputs": [
    {
     "data": {
      "text/plain": [
       "['Johny Johny yes papa\\nEating sugar? No papa',\n",
       " '\\nTelling a lie? No papa',\n",
       " '\\nOpen your mouth HA! HA! HA!\\n']"
      ]
     },
     "execution_count": 31,
     "metadata": {},
     "output_type": "execute_result"
    }
   ],
   "source": [
    "poem.split(',')#split at comma"
   ]
  },
  {
   "cell_type": "code",
   "execution_count": 28,
   "metadata": {},
   "outputs": [
    {
     "data": {
      "text/plain": [
       "['Johny',\n",
       " 'Johny',\n",
       " 'yes',\n",
       " 'papa',\n",
       " 'Eating',\n",
       " 'sugar?',\n",
       " 'No',\n",
       " 'papa,',\n",
       " 'Telling',\n",
       " 'a',\n",
       " 'lie?',\n",
       " 'No',\n",
       " 'papa,',\n",
       " 'Open',\n",
       " 'your',\n",
       " 'mouth',\n",
       " 'HA!',\n",
       " 'HA!',\n",
       " 'HA!']"
      ]
     },
     "execution_count": 28,
     "metadata": {},
     "output_type": "execute_result"
    }
   ],
   "source": [
    "poem.split()"
   ]
  },
  {
   "cell_type": "code",
   "execution_count": 39,
   "metadata": {},
   "outputs": [
    {
     "name": "stdout",
     "output_type": "stream",
     "text": [
      "movies\n",
      "song1\n",
      "image1\n",
      "text101\n"
     ]
    }
   ],
   "source": [
    "files=['movies.mp4', 'song1.mp3', 'image1.jpg', 'text101.txt']\n",
    "for f in files:\n",
    "    name = f.split('.')[0] #\n",
    "    print(name)"
   ]
  },
  {
   "cell_type": "code",
   "execution_count": 40,
   "metadata": {},
   "outputs": [
    {
     "name": "stdout",
     "output_type": "stream",
     "text": [
      "movies.mp4, song1.mp3, image1.jpg, text101.txt\n"
     ]
    }
   ],
   "source": [
    "print(', '.join(files))"
   ]
  },
  {
   "cell_type": "code",
   "execution_count": 42,
   "metadata": {},
   "outputs": [
    {
     "name": "stdout",
     "output_type": "stream",
     "text": [
      "C:/Users/Desktop/downloads/image.jpg\n"
     ]
    }
   ],
   "source": [
    "path=['C:', 'Users', 'Desktop','downloads','image.jpg']\n",
    "print('/'.join(path))"
   ]
  },
  {
   "cell_type": "code",
   "execution_count": 2,
   "metadata": {},
   "outputs": [
    {
     "name": "stdout",
     "output_type": "stream",
     "text": [
      "   Vijay Kumar    17\n",
      "   Vijay Kumar    11\n",
      "   Vijay Kumar 14\n",
      "   Vijay Kumar 14\n"
     ]
    }
   ],
   "source": [
    "#Strip\n",
    "name = '   Vijay Kumar   '\n",
    "clean_name = name.strip()#Leading and trailing spaces are removed\n",
    "name_1=name.lstrip()#Leading spaces are removed\n",
    "name_1=name.rstrip()#Trailing spaces are removed\n",
    "print(name, len(name))\n",
    "print(name, len(clean_name))\n",
    "print(name_1, len(name_1))\n",
    "print(name_1, len(name_1))\n"
   ]
  },
  {
   "cell_type": "code",
   "execution_count": 3,
   "metadata": {},
   "outputs": [
    {
     "data": {
      "text/plain": [
       "'A Simple Object'"
      ]
     },
     "execution_count": 3,
     "metadata": {},
     "output_type": "execute_result"
    }
   ],
   "source": [
    "data = '''\n",
    "\n",
    "A Simple Object\n",
    "\n",
    "'''\n",
    "data.strip()"
   ]
  },
  {
   "cell_type": "code",
   "execution_count": 4,
   "metadata": {},
   "outputs": [
    {
     "data": {
      "text/plain": [
       "'Word Example'"
      ]
     },
     "execution_count": 4,
     "metadata": {},
     "output_type": "execute_result"
    }
   ],
   "source": [
    "content = '#########Word Example##########'\n",
    "content.strip('#')"
   ]
  },
  {
   "cell_type": "code",
   "execution_count": 5,
   "metadata": {},
   "outputs": [
    {
     "data": {
      "text/plain": [
       "'This is en exemple of content in e string'"
      ]
     },
     "execution_count": 5,
     "metadata": {},
     "output_type": "execute_result"
    }
   ],
   "source": [
    "#replace\n",
    "msg = 'This is an example of content in a string'\n",
    "msg.replace('a','e')"
   ]
  },
  {
   "cell_type": "code",
   "execution_count": 6,
   "metadata": {},
   "outputs": [
    {
     "data": {
      "text/plain": [
       "'This is an Easy example of content in a string'"
      ]
     },
     "execution_count": 6,
     "metadata": {},
     "output_type": "execute_result"
    }
   ],
   "source": [
    "msg = 'This is an example of content in a string'\n",
    "msg.replace('example', 'Easy example')"
   ]
  },
  {
   "cell_type": "code",
   "execution_count": 7,
   "metadata": {},
   "outputs": [
    {
     "data": {
      "text/plain": [
       "'Thare are an example of content in a string'"
      ]
     },
     "execution_count": 7,
     "metadata": {},
     "output_type": "execute_result"
    }
   ],
   "source": [
    "msg.replace('is', 'are')"
   ]
  },
  {
   "cell_type": "code",
   "execution_count": 9,
   "metadata": {},
   "outputs": [
    {
     "data": {
      "text/plain": [
       "'Thwas was an example of content within a string'"
      ]
     },
     "execution_count": 9,
     "metadata": {},
     "output_type": "execute_result"
    }
   ],
   "source": [
    "msg.replace('this', 'that').replace('is', 'was').replace('in', 'within',1)"
   ]
  },
  {
   "cell_type": "code",
   "execution_count": 11,
   "metadata": {},
   "outputs": [
    {
     "data": {
      "text/plain": [
       "'This are an example of content in a string'"
      ]
     },
     "execution_count": 11,
     "metadata": {},
     "output_type": "execute_result"
    }
   ],
   "source": [
    "modified_msg = msg.replace(' is', ' are')\n",
    "modified_msg"
   ]
  },
  {
   "cell_type": "code",
   "execution_count": null,
   "metadata": {},
   "outputs": [],
   "source": [
    "from string import punctuation, digits\n",
    "for p in punctuation+digits:\n",
    "    text = text.replace(p,'')\n",
    "print(text)"
   ]
  },
  {
   "cell_type": "code",
   "execution_count": 17,
   "metadata": {},
   "outputs": [
    {
     "name": "stdout",
     "output_type": "stream",
     "text": [
      "Snh\n"
     ]
    }
   ],
   "source": [
    "v = input('Enter String: ')\n",
    "v.lower()\n",
    "for i in 'aeiouAEIOU':\n",
    "    v=v.replace(i,'')\n",
    "print(v)"
   ]
  },
  {
   "cell_type": "code",
   "execution_count": 23,
   "metadata": {},
   "outputs": [
    {
     "name": "stdout",
     "output_type": "stream",
     "text": [
      "A.S\n",
      "J.H\n",
      "R.M\n",
      "A.K\n",
      "V.K\n"
     ]
    }
   ],
   "source": [
    "name = ['Alex Smith', 'John Howard', 'Ravi Mishra', 'Arti Kumari', 'Vivek Kapoor']\n",
    "for i in name:\n",
    "    fn, *_ , ln =i.split() # *_ is a throwaway variable for middle name\n",
    "    print(f'{fn[0]}.{ln[0]}')"
   ]
  },
  {
   "cell_type": "code",
   "execution_count": 1,
   "metadata": {},
   "outputs": [
    {
     "data": {
      "text/plain": [
       "['Ajay', 'kumar', 'singh']"
      ]
     },
     "execution_count": 1,
     "metadata": {},
     "output_type": "execute_result"
    }
   ],
   "source": [
    "name = 'Ajay kumar singh'\n",
    "name.split()\n"
   ]
  },
  {
   "cell_type": "code",
   "execution_count": 2,
   "metadata": {},
   "outputs": [
    {
     "name": "stdout",
     "output_type": "stream",
     "text": [
      "Ajay kumar singh\n"
     ]
    }
   ],
   "source": [
    "p1, p2, p3 = name.split() #Unpacking\n",
    "print(p1, p2, p3)"
   ]
  },
  {
   "cell_type": "code",
   "execution_count": 3,
   "metadata": {},
   "outputs": [
    {
     "name": "stdout",
     "output_type": "stream",
     "text": [
      "Ajay ['kumar'] singh\n"
     ]
    }
   ],
   "source": [
    "p1, *_, p2 = name.split()\n",
    "print(p1,_, p2)"
   ]
  }
 ],
 "metadata": {
  "kernelspec": {
   "display_name": "base",
   "language": "python",
   "name": "python3"
  },
  "language_info": {
   "codemirror_mode": {
    "name": "ipython",
    "version": 3
   },
   "file_extension": ".py",
   "mimetype": "text/x-python",
   "name": "python",
   "nbconvert_exporter": "python",
   "pygments_lexer": "ipython3",
   "version": "3.11.4"
  },
  "orig_nbformat": 4
 },
 "nbformat": 4,
 "nbformat_minor": 2
}
