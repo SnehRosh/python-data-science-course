{
 "cells": [
  {
   "cell_type": "markdown",
   "metadata": {},
   "source": [
    "Non Parametrised functions"
   ]
  },
  {
   "cell_type": "code",
   "execution_count": 4,
   "metadata": {},
   "outputs": [],
   "source": [
    "#Non Parametrised functions\n",
    "#Define function\n",
    "def message():\n",
    "    print('🌄Good Morning')"
   ]
  },
  {
   "cell_type": "code",
   "execution_count": 5,
   "metadata": {},
   "outputs": [
    {
     "name": "stdout",
     "output_type": "stream",
     "text": [
      "🌄Good Morning\n"
     ]
    }
   ],
   "source": [
    "#Calling function\n",
    "message()"
   ]
  },
  {
   "cell_type": "code",
   "execution_count": 8,
   "metadata": {},
   "outputs": [],
   "source": [
    "def SI():\n",
    "    p = int(input('Enter Principal Amount: '))\n",
    "    r = float(input('Enter Rate of interest: '))\n",
    "    t = int(input('Time in years: '))\n",
    "    SI = p*r*t/100\n",
    "    print(f'Simple Interest is {SI}')"
   ]
  },
  {
   "cell_type": "code",
   "execution_count": 9,
   "metadata": {},
   "outputs": [
    {
     "name": "stdout",
     "output_type": "stream",
     "text": [
      "Simple Interest is 5000.0\n"
     ]
    }
   ],
   "source": [
    "SI()"
   ]
  },
  {
   "cell_type": "markdown",
   "metadata": {},
   "source": [
    "Parametrised Functions"
   ]
  },
  {
   "cell_type": "code",
   "execution_count": 12,
   "metadata": {},
   "outputs": [],
   "source": [
    "#Required Parameters\n",
    "def hypotenuse(p, b):\n",
    "    h = (p**2+b**2)**0.5\n",
    "    print(f'Hypotenuse: {h}')"
   ]
  },
  {
   "cell_type": "code",
   "execution_count": 14,
   "metadata": {},
   "outputs": [
    {
     "name": "stdout",
     "output_type": "stream",
     "text": [
      "Hypotenuse: 5.0\n"
     ]
    }
   ],
   "source": [
    "hypotenuse(3, 4)"
   ]
  },
  {
   "cell_type": "code",
   "execution_count": 15,
   "metadata": {},
   "outputs": [],
   "source": [
    "def hypotenuse(p:int , b:int):\n",
    "    '''  \n",
    "    This function takes perpendicular and base to calculate hypotenuse    \n",
    "    '''\n",
    "    h = (p**2+b**2)**0.5\n",
    "    print(f'Hypotenuse: {h}')"
   ]
  },
  {
   "cell_type": "code",
   "execution_count": 16,
   "metadata": {},
   "outputs": [
    {
     "name": "stdout",
     "output_type": "stream",
     "text": [
      "Hypotenuse: 17.69180601295413\n"
     ]
    }
   ],
   "source": [
    "hypotenuse(12, 13)"
   ]
  },
  {
   "cell_type": "markdown",
   "metadata": {},
   "source": [
    "Default Parameters\n",
    "- Always start giving defaults from the right side\n",
    "- Dafault values can be of any data type"
   ]
  },
  {
   "cell_type": "code",
   "execution_count": 20,
   "metadata": {},
   "outputs": [],
   "source": [
    "def summer(a, b, c=0, d=0):\n",
    "    print(a + b+ c + d)"
   ]
  },
  {
   "cell_type": "code",
   "execution_count": 23,
   "metadata": {},
   "outputs": [
    {
     "name": "stdout",
     "output_type": "stream",
     "text": [
      "81\n"
     ]
    }
   ],
   "source": [
    "summer(12, 34, 35)"
   ]
  },
  {
   "cell_type": "code",
   "execution_count": 22,
   "metadata": {},
   "outputs": [
    {
     "name": "stdout",
     "output_type": "stream",
     "text": [
      "50\n"
     ]
    }
   ],
   "source": [
    "summer(10, 40)"
   ]
  },
  {
   "cell_type": "code",
   "execution_count": 24,
   "metadata": {},
   "outputs": [],
   "source": [
    "def area_circle(radius=1):\n",
    "    area=22/7*radius**2\n",
    "    print(area)"
   ]
  },
  {
   "cell_type": "code",
   "execution_count": 25,
   "metadata": {},
   "outputs": [
    {
     "name": "stdout",
     "output_type": "stream",
     "text": [
      "314.2857142857143\n"
     ]
    }
   ],
   "source": [
    "area_circle(10)"
   ]
  },
  {
   "cell_type": "markdown",
   "metadata": {},
   "source": [
    "Keyword Arguements(Named Parameters)\n"
   ]
  },
  {
   "cell_type": "code",
   "execution_count": 29,
   "metadata": {},
   "outputs": [
    {
     "name": "stdout",
     "output_type": "stream",
     "text": [
      "16\n",
      "20\n",
      "51\n",
      "1386.0\n"
     ]
    }
   ],
   "source": [
    "summer(1, 2, 5, 8)\n",
    "summer(a=1, b=5, c=8, d=6)\n",
    "summer(c=40, a=2, b=5, d=4)\n",
    "area_circle(radius=21)"
   ]
  },
  {
   "cell_type": "markdown",
   "metadata": {},
   "source": [
    "Variable Arguements - Datatype: Tuple"
   ]
  },
  {
   "cell_type": "code",
   "execution_count": 30,
   "metadata": {},
   "outputs": [],
   "source": [
    "def mean(*data: int):\n",
    "    ans = sum(data)/len(data)\n",
    "    print(f\"Average: {ans}\")"
   ]
  },
  {
   "cell_type": "code",
   "execution_count": 31,
   "metadata": {},
   "outputs": [
    {
     "name": "stdout",
     "output_type": "stream",
     "text": [
      "Average: 5.133333333333334\n"
     ]
    }
   ],
   "source": [
    "mean(1,2,6,7,8,5,7,5,4,3,2,1,7,9,10)"
   ]
  },
  {
   "cell_type": "markdown",
   "metadata": {},
   "source": [
    "Variable Keyword Arguements(Datatype:Dictionary)"
   ]
  },
  {
   "cell_type": "code",
   "execution_count": 2,
   "metadata": {},
   "outputs": [
    {
     "name": "stdout",
     "output_type": "stream",
     "text": [
      "title     learn datatypes\n",
      "duration  1\n",
      "credit    1\n"
     ]
    }
   ],
   "source": [
    "def task(**details):#We can pass name/Key and values\n",
    "   for name, value in details.items():\n",
    "      print(f'{name:10}{value}')\n",
    "\n",
    "task(title='learn datatypes',duration='1 day', credit='1')"
   ]
  },
  {
   "cell_type": "code",
   "execution_count": 4,
   "metadata": {},
   "outputs": [
    {
     "name": "stdout",
     "output_type": "stream",
     "text": [
      "name      Bring Food\n",
      "details   Brinjal, Potato, Tomato\n",
      "budget    200\n",
      "date      26-sep-2023\n"
     ]
    }
   ],
   "source": [
    "task(name='Bring Food',\n",
    "     details=\"Brinjal, Potato, Tomato\",\n",
    "     budget=200,\n",
    "     date='26-sep-2023')"
   ]
  },
  {
   "cell_type": "markdown",
   "metadata": {},
   "source": [
    "Function returning values"
   ]
  },
  {
   "cell_type": "code",
   "execution_count": 1,
   "metadata": {},
   "outputs": [],
   "source": [
    "def cube_area(side):\n",
    "    return 6*side**2"
   ]
  },
  {
   "cell_type": "code",
   "execution_count": 3,
   "metadata": {},
   "outputs": [
    {
     "data": {
      "text/plain": [
       "54"
      ]
     },
     "execution_count": 3,
     "metadata": {},
     "output_type": "execute_result"
    }
   ],
   "source": [
    "cube_area(3)"
   ]
  },
  {
   "cell_type": "code",
   "execution_count": 4,
   "metadata": {},
   "outputs": [],
   "source": [
    "def cube_volume(side):\n",
    "    return side**3"
   ]
  },
  {
   "cell_type": "code",
   "execution_count": 5,
   "metadata": {},
   "outputs": [
    {
     "data": {
      "text/plain": [
       "1000"
      ]
     },
     "execution_count": 5,
     "metadata": {},
     "output_type": "execute_result"
    }
   ],
   "source": [
    "cube_volume(10)"
   ]
  },
  {
   "cell_type": "code",
   "execution_count": 6,
   "metadata": {},
   "outputs": [],
   "source": [
    "def remove_vowels(content):\n",
    " vowels='AEIOUaeiou'\n",
    " for char in vowels:\n",
    "    content = content.replace(char,'')\n",
    " return content"
   ]
  },
  {
   "cell_type": "code",
   "execution_count": 7,
   "metadata": {},
   "outputs": [
    {
     "data": {
      "text/plain": [
       "'Ths s n xmpl f Strng'"
      ]
     },
     "execution_count": 7,
     "metadata": {},
     "output_type": "execute_result"
    }
   ],
   "source": [
    "remove_vowels('This is an example of String')"
   ]
  },
  {
   "cell_type": "markdown",
   "metadata": {},
   "source": [
    "Find all the indexes of a substring in a given string using a function"
   ]
  },
  {
   "cell_type": "code",
   "execution_count": 8,
   "metadata": {},
   "outputs": [],
   "source": [
    "def find_indexes(substr, content):\n",
    "    start_pos = 0\n",
    "    pos = ''\n",
    "    idx_list=[]\n",
    "    for i in range(content.count(substr)):\n",
    "        idx =content.find(substr, start_pos)\n",
    "        if idx == -1:\n",
    "            break\n",
    "        idx_list.append(idx)\n",
    "        start_pos = idx + 1\n",
    "    return idx_list"
   ]
  },
  {
   "cell_type": "code",
   "execution_count": 9,
   "metadata": {},
   "outputs": [
    {
     "data": {
      "text/plain": [
       "[6, 8, 20, 27, 32]"
      ]
     },
     "execution_count": 9,
     "metadata": {},
     "output_type": "execute_result"
    }
   ],
   "source": [
    "find_indexes('a',\"This ia a content that contains a lot of vowels\")"
   ]
  },
  {
   "cell_type": "markdown",
   "metadata": {},
   "source": [
    "Extract all Bi-grams from a string using a function"
   ]
  },
  {
   "cell_type": "code",
   "execution_count": 10,
   "metadata": {},
   "outputs": [
    {
     "name": "stdout",
     "output_type": "stream",
     "text": [
      "One Two | Two Three | Three Four | "
     ]
    }
   ],
   "source": [
    "msg='One Two Three Four'\n",
    "words = msg.split()\n",
    "f, s =0, 1\n",
    "for i in range(len(words)):\n",
    "    if s == len(words):\n",
    "        break\n",
    "    print(words[f], words[s], end=' | ')\n",
    "    f += 1\n",
    "    s += 1"
   ]
  },
  {
   "cell_type": "code",
   "execution_count": 12,
   "metadata": {},
   "outputs": [],
   "source": [
    "def bigrams(msg = 'One Two Three Four'):\n",
    " words = msg.split()\n",
    " f, s =0, 1\n",
    " for i in range(len(words)):\n",
    "    if s == len(words):\n",
    "        break\n",
    "    print(words[f], words[s], end=' | ')\n",
    "    f += 1\n",
    "    s += 1"
   ]
  },
  {
   "cell_type": "code",
   "execution_count": 13,
   "metadata": {},
   "outputs": [
    {
     "name": "stdout",
     "output_type": "stream",
     "text": [
      "One Two | Two Three | Three Four | "
     ]
    }
   ],
   "source": [
    "bigrams()"
   ]
  },
  {
   "cell_type": "code",
   "execution_count": 14,
   "metadata": {},
   "outputs": [
    {
     "name": "stdout",
     "output_type": "stream",
     "text": [
      "This is | is an | an Example | Example of | of bigrams | bigrams printing | "
     ]
    }
   ],
   "source": [
    "bigrams('This is an Example of bigrams printing')"
   ]
  }
 ],
 "metadata": {
  "kernelspec": {
   "display_name": "base",
   "language": "python",
   "name": "python3"
  },
  "language_info": {
   "codemirror_mode": {
    "name": "ipython",
    "version": 3
   },
   "file_extension": ".py",
   "mimetype": "text/x-python",
   "name": "python",
   "nbconvert_exporter": "python",
   "pygments_lexer": "ipython3",
   "version": "3.11.4"
  },
  "orig_nbformat": 4
 },
 "nbformat": 4,
 "nbformat_minor": 2
}
