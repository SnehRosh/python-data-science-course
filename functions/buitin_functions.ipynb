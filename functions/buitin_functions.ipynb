{
 "cells": [
  {
   "cell_type": "markdown",
   "metadata": {},
   "source": [
    "# Builtin Methods\n",
    "    - print()\n",
    "    - input()\n",
    "    - type()\n",
    "- For Casting/Conversion\n",
    "    - int()\n",
    "    - float()\n",
    "    - str()\n",
    "    - bool()\n",
    "    - list()\n",
    "    - tuple()\n",
    "    - set()\n",
    "    - dict()\n",
    "- For satistics\n",
    "    - len()\n",
    "    - max()\n",
    "    - min()\n",
    "    - sum()\n",
    "- Utility\n",
    "    - sorted()\n",
    "    - reversed()\n",
    "    - eval()\n",
    "    - exec()\n",
    "- Operate on iterable\n",
    "    - all()    \n",
    "    - any()\n",
    "    - enumerate()\n",
    "    - zip()\n",
    "    - filter()\n",
    "    - map()\n",
    "\n"
   ]
  },
  {
   "cell_type": "code",
   "execution_count": 2,
   "metadata": {},
   "outputs": [],
   "source": [
    "x =['A','S','F','K','R','P','W']\n",
    "y= 'This is an example string'"
   ]
  },
  {
   "cell_type": "code",
   "execution_count": 3,
   "metadata": {},
   "outputs": [
    {
     "data": {
      "text/plain": [
       "['A', 'F', 'K', 'P', 'R', 'S', 'W']"
      ]
     },
     "execution_count": 3,
     "metadata": {},
     "output_type": "execute_result"
    }
   ],
   "source": [
    "sorted(x)"
   ]
  },
  {
   "cell_type": "code",
   "execution_count": 7,
   "metadata": {},
   "outputs": [
    {
     "data": {
      "text/plain": [
       "[' ',\n",
       " ' ',\n",
       " ' ',\n",
       " ' ',\n",
       " 'T',\n",
       " 'a',\n",
       " 'a',\n",
       " 'e',\n",
       " 'e',\n",
       " 'g',\n",
       " 'h',\n",
       " 'i',\n",
       " 'i',\n",
       " 'i',\n",
       " 'l',\n",
       " 'm',\n",
       " 'n',\n",
       " 'n',\n",
       " 'p',\n",
       " 'r',\n",
       " 's',\n",
       " 's',\n",
       " 's',\n",
       " 't',\n",
       " 'x']"
      ]
     },
     "execution_count": 7,
     "metadata": {},
     "output_type": "execute_result"
    }
   ],
   "source": [
    "sorted(y)"
   ]
  },
  {
   "cell_type": "code",
   "execution_count": 4,
   "metadata": {},
   "outputs": [
    {
     "data": {
      "text/plain": [
       "['W', 'S', 'R', 'P', 'K', 'F', 'A']"
      ]
     },
     "execution_count": 4,
     "metadata": {},
     "output_type": "execute_result"
    }
   ],
   "source": [
    "sorted(x, reverse=True)"
   ]
  },
  {
   "cell_type": "code",
   "execution_count": 5,
   "metadata": {},
   "outputs": [
    {
     "data": {
      "text/plain": [
       "['string', 'is', 'example', 'an', 'This']"
      ]
     },
     "execution_count": 5,
     "metadata": {},
     "output_type": "execute_result"
    }
   ],
   "source": [
    "sorted(y.split(), reverse=True)"
   ]
  },
  {
   "cell_type": "code",
   "execution_count": 6,
   "metadata": {},
   "outputs": [
    {
     "data": {
      "text/plain": [
       "['we',\n",
       " 'on',\n",
       " 'an',\n",
       " 'in',\n",
       " 'be',\n",
       " 'are',\n",
       " 'will',\n",
       " 'which',\n",
       " 'there',\n",
       " 'stuff',\n",
       " 'working',\n",
       " 'Encyclopedia']"
      ]
     },
     "execution_count": 6,
     "metadata": {},
     "output_type": "execute_result"
    }
   ],
   "source": [
    "z='we are working on an Encyclopedia in which there will be stuff'\n",
    "sorted(z.split(), key=len)"
   ]
  },
  {
   "cell_type": "code",
   "execution_count": 8,
   "metadata": {},
   "outputs": [
    {
     "data": {
      "text/plain": [
       "<reversed at 0x1582e6fe200>"
      ]
     },
     "execution_count": 8,
     "metadata": {},
     "output_type": "execute_result"
    }
   ],
   "source": [
    "reversed(z) #lazy object"
   ]
  },
  {
   "cell_type": "code",
   "execution_count": 9,
   "metadata": {},
   "outputs": [
    {
     "data": {
      "text/plain": [
       "'ffuts eb lliw ereht hcihw ni aidepolcycnE na no gnikrow era ew'"
      ]
     },
     "execution_count": 9,
     "metadata": {},
     "output_type": "execute_result"
    }
   ],
   "source": [
    "\"\".join(list(reversed(z)))"
   ]
  },
  {
   "cell_type": "code",
   "execution_count": 10,
   "metadata": {},
   "outputs": [
    {
     "name": "stdout",
     "output_type": "stream",
     "text": [
      "False\n"
     ]
    }
   ],
   "source": [
    "x=[0,0,0,0,0,0,0,0]\n",
    "print(all(x))"
   ]
  },
  {
   "cell_type": "code",
   "execution_count": 13,
   "metadata": {},
   "outputs": [
    {
     "name": "stdout",
     "output_type": "stream",
     "text": [
      "True\n"
     ]
    }
   ],
   "source": [
    "z = ['this','is','an','string','example']\n",
    "print(all(z))"
   ]
  },
  {
   "cell_type": "code",
   "execution_count": 16,
   "metadata": {},
   "outputs": [
    {
     "name": "stdout",
     "output_type": "stream",
     "text": [
      "False\n"
     ]
    }
   ],
   "source": [
    "z = ['this','is','','string','example']\n",
    "print(all(z))"
   ]
  },
  {
   "cell_type": "code",
   "execution_count": 18,
   "metadata": {},
   "outputs": [
    {
     "name": "stdout",
     "output_type": "stream",
     "text": [
      "True\n"
     ]
    }
   ],
   "source": [
    "z = ['this','is','','string','example']\n",
    "print(any(z))"
   ]
  },
  {
   "cell_type": "markdown",
   "metadata": {},
   "source": [
    "- Lambda Function\n",
    "'f(x) = x **2 + x + 10'\n",
    "\n",
    "'f(5)'\n",
    "\n",
    "'g(x, y)= x**2 + y**2 + x*y + 10'\n",
    "\n",
    "'g(2, 3)'    "
   ]
  },
  {
   "cell_type": "code",
   "execution_count": 20,
   "metadata": {},
   "outputs": [
    {
     "name": "stdout",
     "output_type": "stream",
     "text": [
      "120\n",
      "40\n",
      "660\n",
      "940\n"
     ]
    }
   ],
   "source": [
    "f =lambda x: x**2 + x + 10\n",
    "print(f(10))\n",
    "print(f(5))\n",
    "print(f(25))\n",
    "print(f(30))"
   ]
  },
  {
   "cell_type": "code",
   "execution_count": 21,
   "metadata": {},
   "outputs": [
    {
     "name": "stdout",
     "output_type": "stream",
     "text": [
      "166\n",
      "2080\n",
      "4566\n",
      "6330\n",
      "610\n",
      "192\n",
      "516\n",
      "316\n",
      "120\n"
     ]
    }
   ],
   "source": [
    "data = [12, 45, 67, 79, 24, 13, 22, 17, 10]\n",
    "for val in data:\n",
    "    print(f(val))"
   ]
  },
  {
   "cell_type": "code",
   "execution_count": 22,
   "metadata": {},
   "outputs": [
    {
     "data": {
      "text/plain": [
       "[166, 2080, 4566, 6330, 610, 192, 516, 316, 120]"
      ]
     },
     "execution_count": 22,
     "metadata": {},
     "output_type": "execute_result"
    }
   ],
   "source": [
    "#Map Functions\n",
    "#map(functions, iterable)\n",
    "list(map(f, data)) "
   ]
  },
  {
   "cell_type": "code",
   "execution_count": 23,
   "metadata": {},
   "outputs": [
    {
     "name": "stdout",
     "output_type": "stream",
     "text": [
      "[1, 100, 300, 599]\n"
     ]
    }
   ],
   "source": [
    "nums = ['1','100','300', '599']\n",
    "clean_list=map(lambda i:int(i),nums)\n",
    "print(list(clean_list))"
   ]
  },
  {
   "cell_type": "code",
   "execution_count": 24,
   "metadata": {},
   "outputs": [
    {
     "name": "stdout",
     "output_type": "stream",
     "text": [
      "[1, 100, 300, 599]\n"
     ]
    }
   ],
   "source": [
    "clean_list = map(int, nums)\n",
    "print(list(clean_list))"
   ]
  },
  {
   "cell_type": "code",
   "execution_count": 26,
   "metadata": {},
   "outputs": [
    {
     "data": {
      "text/plain": [
       "[1, 2, 4, 5, 8, 4, 6, 7, 3, 2, 5, 7, 2, 5]"
      ]
     },
     "execution_count": 26,
     "metadata": {},
     "output_type": "execute_result"
    }
   ],
   "source": [
    "nums= [1,2,4,5,8,0,4,6,7,3,0,2,5,7,0,2,5,0]\n",
    "list(filter(lambda i:i !=0, nums))"
   ]
  },
  {
   "cell_type": "code",
   "execution_count": 30,
   "metadata": {},
   "outputs": [
    {
     "data": {
      "text/plain": [
       "False"
      ]
     },
     "execution_count": 30,
     "metadata": {},
     "output_type": "execute_result"
    }
   ],
   "source": [
    "isinstance(x, list) #to check the type of x"
   ]
  },
  {
   "cell_type": "code",
   "execution_count": 4,
   "metadata": {},
   "outputs": [
    {
     "data": {
      "text/plain": [
       "False"
      ]
     },
     "execution_count": 4,
     "metadata": {},
     "output_type": "execute_result"
    }
   ],
   "source": [
    "isinstance(x,(tuple))"
   ]
  },
  {
   "cell_type": "code",
   "execution_count": null,
   "metadata": {},
   "outputs": [],
   "source": []
  },
  {
   "cell_type": "code",
   "execution_count": 31,
   "metadata": {},
   "outputs": [
    {
     "data": {
      "text/plain": [
       "False"
      ]
     },
     "execution_count": 31,
     "metadata": {},
     "output_type": "execute_result"
    }
   ],
   "source": [
    "isinstance(x,(int, float))"
   ]
  },
  {
   "cell_type": "code",
   "execution_count": 34,
   "metadata": {},
   "outputs": [
    {
     "data": {
      "text/plain": [
       "[4, 18, 30, 48, 0]"
      ]
     },
     "execution_count": 34,
     "metadata": {},
     "output_type": "execute_result"
    }
   ],
   "source": [
    "x = [1,3,5,6,8]\n",
    "y = [4,6,6,8,0,10]\n",
    "list(map(lambda i,j:i*j,x,y))"
   ]
  }
 ],
 "metadata": {
  "kernelspec": {
   "display_name": "base",
   "language": "python",
   "name": "python3"
  },
  "language_info": {
   "codemirror_mode": {
    "name": "ipython",
    "version": 3
   },
   "file_extension": ".py",
   "mimetype": "text/x-python",
   "name": "python",
   "nbconvert_exporter": "python",
   "pygments_lexer": "ipython3",
   "version": "3.11.4"
  },
  "orig_nbformat": 4
 },
 "nbformat": 4,
 "nbformat_minor": 2
}
