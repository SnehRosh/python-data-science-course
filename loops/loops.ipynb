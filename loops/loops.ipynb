{
 "cells": [
  {
   "cell_type": "code",
   "execution_count": 4,
   "metadata": {},
   "outputs": [
    {
     "name": "stdout",
     "output_type": "stream",
     "text": [
      "Red\n",
      "Green\n",
      "Yellow\n",
      "Blue\n",
      "White\n",
      "Black\n"
     ]
    }
   ],
   "source": [
    "colors =['Red', 'Green', 'Yellow', 'Blue', \"White\", 'Black']\n",
    "for color in colors:\n",
    "    print(color) "
   ]
  },
  {
   "cell_type": "markdown",
   "metadata": {},
   "source": [
    "for loop syntax\n",
    "for temp_var in iterable:\n",
    "statement 1\n",
    "statement 2\n",
    "...\n"
   ]
  },
  {
   "cell_type": "code",
   "execution_count": 3,
   "metadata": {},
   "outputs": [
    {
     "name": "stdout",
     "output_type": "stream",
     "text": [
      "Red       3 chars\n",
      "Green     6 chars\n",
      "Yellow    6 chars\n",
      "Blue      4 chars\n",
      "White     5 chars\n",
      "Black     5 chars\n"
     ]
    }
   ],
   "source": [
    "for color in colors:\n",
    "    size = len(color)\n",
    "    print(f'{color:10}{size} chars')"
   ]
  },
  {
   "cell_type": "code",
   "execution_count": 5,
   "metadata": {},
   "outputs": [
    {
     "name": "stdout",
     "output_type": "stream",
     "text": [
      "Red\n",
      "Green\n",
      "Yellow\n",
      "Blue\n",
      "White\n"
     ]
    }
   ],
   "source": [
    "for color in colors:\n",
    "    if 'e' in color:\n",
    "        print(color)"
   ]
  },
  {
   "cell_type": "code",
   "execution_count": 6,
   "metadata": {},
   "outputs": [
    {
     "name": "stdout",
     "output_type": "stream",
     "text": [
      "Alex\n",
      "Rahul\n",
      "Sonu\n",
      "\n",
      "Raj\n",
      "Rohan\n",
      "\n",
      "\n"
     ]
    }
   ],
   "source": [
    "raw_data=['Alex','Rahul','Sonu','','Raj', 'Rohan', '', '']\n",
    "for name in raw_data:\n",
    "    print(name)"
   ]
  },
  {
   "cell_type": "code",
   "execution_count": 7,
   "metadata": {},
   "outputs": [
    {
     "name": "stdout",
     "output_type": "stream",
     "text": [
      "Alex\n",
      "Rahul\n",
      "Sonu\n",
      "Raj\n",
      "Rohan\n"
     ]
    }
   ],
   "source": [
    "for name in raw_data:\n",
    "    if len(name)>0:\n",
    "        print(name)"
   ]
  },
  {
   "cell_type": "code",
   "execution_count": 8,
   "metadata": {},
   "outputs": [
    {
     "name": "stdout",
     "output_type": "stream",
     "text": [
      "Alex\n",
      "Rahul\n",
      "Sonu\n",
      "Raj\n",
      "Rohan\n"
     ]
    }
   ],
   "source": [
    "for name in raw_data:\n",
    "    if not name:\n",
    "        continue\n",
    "    print(name)"
   ]
  },
  {
   "cell_type": "code",
   "execution_count": 2,
   "metadata": {},
   "outputs": [
    {
     "name": "stdout",
     "output_type": "stream",
     "text": [
      "2\n",
      "4\n",
      "6\n",
      "8\n",
      "34\n",
      "68\n"
     ]
    }
   ],
   "source": [
    "numbers = [2, 4, 6, 8, 34, 68, 299, 209, 402, 212, 859]\n",
    "for i in numbers:\n",
    "    if i % 2 != 0:\n",
    "        break\n",
    "    print(i)\n",
    "\n"
   ]
  },
  {
   "cell_type": "code",
   "execution_count": 3,
   "metadata": {},
   "outputs": [
    {
     "name": "stdout",
     "output_type": "stream",
     "text": [
      "2\n",
      "8\n",
      "48\n",
      "384\n",
      "13056\n",
      "887808\n",
      "265454592\n",
      "55480009728\n",
      "22302963910656\n",
      "4728228349059072\n",
      "4061548151841742848\n",
      "4061548151841742848\n"
     ]
    }
   ],
   "source": [
    "#Aggregation\n",
    "total = 1\n",
    "for i in numbers:\n",
    "    total *= i\n",
    "    print(total) #To display step by step\n",
    "print(total) # To display overall answer at once"
   ]
  },
  {
   "cell_type": "code",
   "execution_count": 20,
   "metadata": {},
   "outputs": [
    {
     "name": "stdout",
     "output_type": "stream",
     "text": [
      "7 spaces found\n"
     ]
    }
   ],
   "source": [
    "msg = 'This is a simple message with few words'\n",
    "count = 0\n",
    "for char in msg:\n",
    "    if char == ' ':\n",
    "        count += 1\n",
    "print(f'{count} spaces found')"
   ]
  },
  {
   "cell_type": "code",
   "execution_count": 21,
   "metadata": {},
   "outputs": [
    {
     "data": {
      "text/plain": [
       "7"
      ]
     },
     "execution_count": 21,
     "metadata": {},
     "output_type": "execute_result"
    }
   ],
   "source": [
    "msg.count(' ')"
   ]
  },
  {
   "cell_type": "code",
   "execution_count": 24,
   "metadata": {},
   "outputs": [
    {
     "name": "stdout",
     "output_type": "stream",
     "text": [
      "The final Empire\n",
      "The well of ascesion\n",
      "The hero of ages\n"
     ]
    }
   ],
   "source": [
    "books=['The final Empire', 'The well of ascesion','The hero of ages']\n",
    "for book in books:\n",
    " print(book)"
   ]
  },
  {
   "cell_type": "code",
   "execution_count": 26,
   "metadata": {},
   "outputs": [
    {
     "name": "stdout",
     "output_type": "stream",
     "text": [
      "{'0 The final Empire'}\n",
      "{'1 The well of ascesion'}\n",
      "{'2 The hero of ages'}\n"
     ]
    }
   ],
   "source": [
    "idx = 0\n",
    "for book in books:\n",
    "    print({f'{idx} {book}'})\n",
    "    idx += 1"
   ]
  },
  {
   "cell_type": "code",
   "execution_count": 27,
   "metadata": {},
   "outputs": [
    {
     "name": "stdout",
     "output_type": "stream",
     "text": [
      "0 The final Empire\n",
      "1 The well of ascesion\n",
      "2 The hero of ages\n"
     ]
    }
   ],
   "source": [
    "#Better\n",
    "for i in range(len(books)):\n",
    "    print(f\"{i} {books[i]}\")\n"
   ]
  },
  {
   "cell_type": "code",
   "execution_count": 30,
   "metadata": {},
   "outputs": [
    {
     "name": "stdout",
     "output_type": "stream",
     "text": [
      "0 The final Empire\n",
      "1 The well of ascesion\n",
      "2 The hero of ages\n"
     ]
    }
   ],
   "source": [
    "#Pythonic\n",
    "for idx, book in enumerate(books):\n",
    "    print(f\"{idx} {book}\")"
   ]
  },
  {
   "cell_type": "code",
   "execution_count": 3,
   "metadata": {},
   "outputs": [
    {
     "name": "stdout",
     "output_type": "stream",
     "text": [
      "Alex\n",
      "Alexa\n",
      "Alesis\n",
      "AlexendarBruno\n",
      "Brutus\n"
     ]
    }
   ],
   "source": [
    "names = [\n",
    "    'Alex', 'Alexa', 'Alesis','Alexendar'\n",
    "    'Bruno', 'Brutus','Charles', 'Charlie'\n",
    "]\n",
    "\n",
    "for i, name in enumerate(names):\n",
    "  if i == 5: break\n",
    "  print(name)"
   ]
  },
  {
   "cell_type": "code",
   "execution_count": null,
   "metadata": {},
   "outputs": [],
   "source": []
  }
 ],
 "metadata": {
  "kernelspec": {
   "display_name": "base",
   "language": "python",
   "name": "python3"
  },
  "language_info": {
   "codemirror_mode": {
    "name": "ipython",
    "version": 3
   },
   "file_extension": ".py",
   "mimetype": "text/x-python",
   "name": "python",
   "nbconvert_exporter": "python",
   "pygments_lexer": "ipython3",
   "version": "3.11.4"
  },
  "orig_nbformat": 4
 },
 "nbformat": 4,
 "nbformat_minor": 2
}
